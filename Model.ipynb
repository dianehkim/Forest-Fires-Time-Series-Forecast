{
 "cells": [
  {
   "cell_type": "code",
   "execution_count": 1,
   "metadata": {},
   "outputs": [
    {
     "name": "stdout",
     "output_type": "stream",
     "text": [
      "Requirement already satisfied: flaml[notebook]==1.0.10 in /Library/Frameworks/Python.framework/Versions/3.8/lib/python3.8/site-packages (1.0.10)\n",
      "Requirement already satisfied: lightgbm>=2.3.1 in /Library/Frameworks/Python.framework/Versions/3.8/lib/python3.8/site-packages (from flaml[notebook]==1.0.10) (3.3.3)\n",
      "Requirement already satisfied: scikit-learn>=0.24 in /Library/Frameworks/Python.framework/Versions/3.8/lib/python3.8/site-packages (from flaml[notebook]==1.0.10) (1.1.3)\n",
      "Requirement already satisfied: pandas>=1.1.4 in /Library/Frameworks/Python.framework/Versions/3.8/lib/python3.8/site-packages (from flaml[notebook]==1.0.10) (1.5.2)\n",
      "Requirement already satisfied: xgboost>=0.90 in /Library/Frameworks/Python.framework/Versions/3.8/lib/python3.8/site-packages (from flaml[notebook]==1.0.10) (1.7.1)\n",
      "Requirement already satisfied: NumPy>=1.17.0rc1 in /Library/Frameworks/Python.framework/Versions/3.8/lib/python3.8/site-packages (from flaml[notebook]==1.0.10) (1.24.0rc1)\n",
      "Requirement already satisfied: scipy>=1.4.1 in /Library/Frameworks/Python.framework/Versions/3.8/lib/python3.8/site-packages (from flaml[notebook]==1.0.10) (1.9.3)\n",
      "Requirement already satisfied: matplotlib; extra == \"notebook\" in /Library/Frameworks/Python.framework/Versions/3.8/lib/python3.8/site-packages (from flaml[notebook]==1.0.10) (3.6.2)\n",
      "Requirement already satisfied: jupyter; extra == \"notebook\" in /Library/Frameworks/Python.framework/Versions/3.8/lib/python3.8/site-packages (from flaml[notebook]==1.0.10) (1.0.0)\n",
      "Requirement already satisfied: rgf-python; extra == \"notebook\" in /Library/Frameworks/Python.framework/Versions/3.8/lib/python3.8/site-packages (from flaml[notebook]==1.0.10) (3.12.0)\n",
      "Requirement already satisfied: openml==0.10.2; extra == \"notebook\" in /Library/Frameworks/Python.framework/Versions/3.8/lib/python3.8/site-packages (from flaml[notebook]==1.0.10) (0.10.2)\n",
      "Requirement already satisfied: catboost>=0.26; extra == \"notebook\" in /Library/Frameworks/Python.framework/Versions/3.8/lib/python3.8/site-packages (from flaml[notebook]==1.0.10) (1.0.4)\n",
      "Requirement already satisfied: wheel in /Library/Frameworks/Python.framework/Versions/3.8/lib/python3.8/site-packages (from lightgbm>=2.3.1->flaml[notebook]==1.0.10) (0.38.4)\n",
      "Requirement already satisfied: threadpoolctl>=2.0.0 in /Library/Frameworks/Python.framework/Versions/3.8/lib/python3.8/site-packages (from scikit-learn>=0.24->flaml[notebook]==1.0.10) (3.1.0)\n",
      "Requirement already satisfied: joblib>=1.0.0 in /Library/Frameworks/Python.framework/Versions/3.8/lib/python3.8/site-packages (from scikit-learn>=0.24->flaml[notebook]==1.0.10) (1.2.0)\n",
      "Requirement already satisfied: pytz>=2020.1 in /Library/Frameworks/Python.framework/Versions/3.8/lib/python3.8/site-packages (from pandas>=1.1.4->flaml[notebook]==1.0.10) (2022.6)\n",
      "Requirement already satisfied: python-dateutil>=2.8.1 in /Users/seoklee/Library/Python/3.8/lib/python/site-packages (from pandas>=1.1.4->flaml[notebook]==1.0.10) (2.8.2)\n",
      "Requirement already satisfied: packaging>=20.0 in /Users/seoklee/Library/Python/3.8/lib/python/site-packages (from matplotlib; extra == \"notebook\"->flaml[notebook]==1.0.10) (21.3)\n",
      "Requirement already satisfied: contourpy>=1.0.1 in /Library/Frameworks/Python.framework/Versions/3.8/lib/python3.8/site-packages (from matplotlib; extra == \"notebook\"->flaml[notebook]==1.0.10) (1.0.6)\n",
      "Requirement already satisfied: cycler>=0.10 in /Library/Frameworks/Python.framework/Versions/3.8/lib/python3.8/site-packages (from matplotlib; extra == \"notebook\"->flaml[notebook]==1.0.10) (0.11.0)\n",
      "Requirement already satisfied: pillow>=6.2.0 in /Library/Frameworks/Python.framework/Versions/3.8/lib/python3.8/site-packages (from matplotlib; extra == \"notebook\"->flaml[notebook]==1.0.10) (9.3.0)\n",
      "Requirement already satisfied: pyparsing>=2.2.1 in /Users/seoklee/Library/Python/3.8/lib/python/site-packages (from matplotlib; extra == \"notebook\"->flaml[notebook]==1.0.10) (3.0.9)\n",
      "Requirement already satisfied: kiwisolver>=1.0.1 in /Library/Frameworks/Python.framework/Versions/3.8/lib/python3.8/site-packages (from matplotlib; extra == \"notebook\"->flaml[notebook]==1.0.10) (1.4.4)\n",
      "Requirement already satisfied: fonttools>=4.22.0 in /Library/Frameworks/Python.framework/Versions/3.8/lib/python3.8/site-packages (from matplotlib; extra == \"notebook\"->flaml[notebook]==1.0.10) (4.38.0)\n",
      "Requirement already satisfied: qtconsole in /Library/Frameworks/Python.framework/Versions/3.8/lib/python3.8/site-packages (from jupyter; extra == \"notebook\"->flaml[notebook]==1.0.10) (5.4.0)\n",
      "Requirement already satisfied: nbconvert in /Library/Frameworks/Python.framework/Versions/3.8/lib/python3.8/site-packages (from jupyter; extra == \"notebook\"->flaml[notebook]==1.0.10) (7.2.5)\n",
      "Requirement already satisfied: notebook in /Library/Frameworks/Python.framework/Versions/3.8/lib/python3.8/site-packages (from jupyter; extra == \"notebook\"->flaml[notebook]==1.0.10) (6.5.2)\n",
      "Requirement already satisfied: ipykernel in /Users/seoklee/Library/Python/3.8/lib/python/site-packages (from jupyter; extra == \"notebook\"->flaml[notebook]==1.0.10) (6.17.1)\n",
      "Requirement already satisfied: ipywidgets in /Library/Frameworks/Python.framework/Versions/3.8/lib/python3.8/site-packages (from jupyter; extra == \"notebook\"->flaml[notebook]==1.0.10) (8.0.2)\n",
      "Requirement already satisfied: jupyter-console in /Library/Frameworks/Python.framework/Versions/3.8/lib/python3.8/site-packages (from jupyter; extra == \"notebook\"->flaml[notebook]==1.0.10) (6.4.4)\n",
      "Requirement already satisfied: liac-arff>=2.4.0 in /Library/Frameworks/Python.framework/Versions/3.8/lib/python3.8/site-packages (from openml==0.10.2; extra == \"notebook\"->flaml[notebook]==1.0.10) (2.5.0)\n",
      "Requirement already satisfied: xmltodict in /Library/Frameworks/Python.framework/Versions/3.8/lib/python3.8/site-packages (from openml==0.10.2; extra == \"notebook\"->flaml[notebook]==1.0.10) (0.13.0)\n",
      "Requirement already satisfied: requests in /Library/Frameworks/Python.framework/Versions/3.8/lib/python3.8/site-packages (from openml==0.10.2; extra == \"notebook\"->flaml[notebook]==1.0.10) (2.28.1)\n",
      "Requirement already satisfied: plotly in /Library/Frameworks/Python.framework/Versions/3.8/lib/python3.8/site-packages (from catboost>=0.26; extra == \"notebook\"->flaml[notebook]==1.0.10) (5.11.0)\n",
      "Requirement already satisfied: six in /Users/seoklee/Library/Python/3.8/lib/python/site-packages (from catboost>=0.26; extra == \"notebook\"->flaml[notebook]==1.0.10) (1.16.0)\n",
      "Requirement already satisfied: graphviz in /Library/Frameworks/Python.framework/Versions/3.8/lib/python3.8/site-packages (from catboost>=0.26; extra == \"notebook\"->flaml[notebook]==1.0.10) (0.20.1)\n",
      "Requirement already satisfied: qtpy>=2.0.1 in /Library/Frameworks/Python.framework/Versions/3.8/lib/python3.8/site-packages (from qtconsole->jupyter; extra == \"notebook\"->flaml[notebook]==1.0.10) (2.3.0)\n",
      "Requirement already satisfied: jupyter-core in /Users/seoklee/Library/Python/3.8/lib/python/site-packages (from qtconsole->jupyter; extra == \"notebook\"->flaml[notebook]==1.0.10) (5.1.0)\n",
      "Requirement already satisfied: traitlets!=5.2.1,!=5.2.2 in /Users/seoklee/Library/Python/3.8/lib/python/site-packages (from qtconsole->jupyter; extra == \"notebook\"->flaml[notebook]==1.0.10) (5.6.0)\n",
      "Requirement already satisfied: pyzmq>=17.1 in /Users/seoklee/Library/Python/3.8/lib/python/site-packages (from qtconsole->jupyter; extra == \"notebook\"->flaml[notebook]==1.0.10) (24.0.1)\n",
      "Requirement already satisfied: pygments in /Users/seoklee/Library/Python/3.8/lib/python/site-packages (from qtconsole->jupyter; extra == \"notebook\"->flaml[notebook]==1.0.10) (2.13.0)\n",
      "Requirement already satisfied: ipython-genutils in /Library/Frameworks/Python.framework/Versions/3.8/lib/python3.8/site-packages (from qtconsole->jupyter; extra == \"notebook\"->flaml[notebook]==1.0.10) (0.2.0)\n",
      "Requirement already satisfied: jupyter-client>=4.1 in /Users/seoklee/Library/Python/3.8/lib/python/site-packages (from qtconsole->jupyter; extra == \"notebook\"->flaml[notebook]==1.0.10) (7.4.7)\n",
      "Requirement already satisfied: jinja2>=3.0 in /Library/Frameworks/Python.framework/Versions/3.8/lib/python3.8/site-packages (from nbconvert->jupyter; extra == \"notebook\"->flaml[notebook]==1.0.10) (3.1.2)\n",
      "Requirement already satisfied: defusedxml in /Library/Frameworks/Python.framework/Versions/3.8/lib/python3.8/site-packages (from nbconvert->jupyter; extra == \"notebook\"->flaml[notebook]==1.0.10) (0.7.1)\n",
      "Requirement already satisfied: nbclient>=0.5.0 in /Library/Frameworks/Python.framework/Versions/3.8/lib/python3.8/site-packages (from nbconvert->jupyter; extra == \"notebook\"->flaml[notebook]==1.0.10) (0.7.2)\n",
      "Requirement already satisfied: bleach in /Library/Frameworks/Python.framework/Versions/3.8/lib/python3.8/site-packages (from nbconvert->jupyter; extra == \"notebook\"->flaml[notebook]==1.0.10) (5.0.1)\n",
      "Requirement already satisfied: markupsafe>=2.0 in /Library/Frameworks/Python.framework/Versions/3.8/lib/python3.8/site-packages (from nbconvert->jupyter; extra == \"notebook\"->flaml[notebook]==1.0.10) (2.1.1)\n",
      "Requirement already satisfied: mistune<3,>=2.0.3 in /Library/Frameworks/Python.framework/Versions/3.8/lib/python3.8/site-packages (from nbconvert->jupyter; extra == \"notebook\"->flaml[notebook]==1.0.10) (2.0.4)\n",
      "Requirement already satisfied: nbformat>=5.1 in /Library/Frameworks/Python.framework/Versions/3.8/lib/python3.8/site-packages (from nbconvert->jupyter; extra == \"notebook\"->flaml[notebook]==1.0.10) (5.7.0)\n",
      "Requirement already satisfied: tinycss2 in /Library/Frameworks/Python.framework/Versions/3.8/lib/python3.8/site-packages (from nbconvert->jupyter; extra == \"notebook\"->flaml[notebook]==1.0.10) (1.2.1)\n",
      "Requirement already satisfied: beautifulsoup4 in /Library/Frameworks/Python.framework/Versions/3.8/lib/python3.8/site-packages (from nbconvert->jupyter; extra == \"notebook\"->flaml[notebook]==1.0.10) (4.11.1)\n",
      "Requirement already satisfied: importlib-metadata>=3.6; python_version < \"3.10\" in /Library/Frameworks/Python.framework/Versions/3.8/lib/python3.8/site-packages (from nbconvert->jupyter; extra == \"notebook\"->flaml[notebook]==1.0.10) (5.1.0)\n",
      "Requirement already satisfied: jupyterlab-pygments in /Library/Frameworks/Python.framework/Versions/3.8/lib/python3.8/site-packages (from nbconvert->jupyter; extra == \"notebook\"->flaml[notebook]==1.0.10) (0.2.2)\n",
      "Requirement already satisfied: pandocfilters>=1.4.1 in /Library/Frameworks/Python.framework/Versions/3.8/lib/python3.8/site-packages (from nbconvert->jupyter; extra == \"notebook\"->flaml[notebook]==1.0.10) (1.5.0)\n",
      "Requirement already satisfied: tornado>=6.1 in /Users/seoklee/Library/Python/3.8/lib/python/site-packages (from notebook->jupyter; extra == \"notebook\"->flaml[notebook]==1.0.10) (6.2)\n",
      "Requirement already satisfied: prometheus-client in /Library/Frameworks/Python.framework/Versions/3.8/lib/python3.8/site-packages (from notebook->jupyter; extra == \"notebook\"->flaml[notebook]==1.0.10) (0.15.0)\n",
      "Requirement already satisfied: terminado>=0.8.3 in /Library/Frameworks/Python.framework/Versions/3.8/lib/python3.8/site-packages (from notebook->jupyter; extra == \"notebook\"->flaml[notebook]==1.0.10) (0.17.0)\n",
      "Requirement already satisfied: Send2Trash>=1.8.0 in /Library/Frameworks/Python.framework/Versions/3.8/lib/python3.8/site-packages (from notebook->jupyter; extra == \"notebook\"->flaml[notebook]==1.0.10) (1.8.0)\n",
      "Requirement already satisfied: nbclassic>=0.4.7 in /Library/Frameworks/Python.framework/Versions/3.8/lib/python3.8/site-packages (from notebook->jupyter; extra == \"notebook\"->flaml[notebook]==1.0.10) (0.4.8)\n",
      "Requirement already satisfied: nest-asyncio>=1.5 in /Users/seoklee/Library/Python/3.8/lib/python/site-packages (from notebook->jupyter; extra == \"notebook\"->flaml[notebook]==1.0.10) (1.5.6)\n",
      "Requirement already satisfied: argon2-cffi in /Library/Frameworks/Python.framework/Versions/3.8/lib/python3.8/site-packages (from notebook->jupyter; extra == \"notebook\"->flaml[notebook]==1.0.10) (21.3.0)\n",
      "Requirement already satisfied: matplotlib-inline>=0.1 in /Users/seoklee/Library/Python/3.8/lib/python/site-packages (from ipykernel->jupyter; extra == \"notebook\"->flaml[notebook]==1.0.10) (0.1.6)\n",
      "Requirement already satisfied: debugpy>=1.0 in /Users/seoklee/Library/Python/3.8/lib/python/site-packages (from ipykernel->jupyter; extra == \"notebook\"->flaml[notebook]==1.0.10) (1.6.4)\n",
      "Requirement already satisfied: appnope; platform_system == \"Darwin\" in /Users/seoklee/Library/Python/3.8/lib/python/site-packages (from ipykernel->jupyter; extra == \"notebook\"->flaml[notebook]==1.0.10) (0.1.3)\n",
      "Requirement already satisfied: ipython>=7.23.1 in /Users/seoklee/Library/Python/3.8/lib/python/site-packages (from ipykernel->jupyter; extra == \"notebook\"->flaml[notebook]==1.0.10) (8.7.0)\n",
      "Requirement already satisfied: psutil in /Users/seoklee/Library/Python/3.8/lib/python/site-packages (from ipykernel->jupyter; extra == \"notebook\"->flaml[notebook]==1.0.10) (5.9.4)\n",
      "Requirement already satisfied: jupyterlab-widgets~=3.0 in /Library/Frameworks/Python.framework/Versions/3.8/lib/python3.8/site-packages (from ipywidgets->jupyter; extra == \"notebook\"->flaml[notebook]==1.0.10) (3.0.3)\n",
      "Requirement already satisfied: widgetsnbextension~=4.0 in /Library/Frameworks/Python.framework/Versions/3.8/lib/python3.8/site-packages (from ipywidgets->jupyter; extra == \"notebook\"->flaml[notebook]==1.0.10) (4.0.3)\n",
      "Requirement already satisfied: prompt-toolkit!=3.0.0,!=3.0.1,<3.1.0,>=2.0.0 in /Users/seoklee/Library/Python/3.8/lib/python/site-packages (from jupyter-console->jupyter; extra == \"notebook\"->flaml[notebook]==1.0.10) (3.0.33)\n",
      "Requirement already satisfied: certifi>=2017.4.17 in /Library/Frameworks/Python.framework/Versions/3.8/lib/python3.8/site-packages (from requests->openml==0.10.2; extra == \"notebook\"->flaml[notebook]==1.0.10) (2022.9.24)\n",
      "Requirement already satisfied: charset-normalizer<3,>=2 in /Library/Frameworks/Python.framework/Versions/3.8/lib/python3.8/site-packages (from requests->openml==0.10.2; extra == \"notebook\"->flaml[notebook]==1.0.10) (2.1.1)\n",
      "Requirement already satisfied: idna<4,>=2.5 in /Library/Frameworks/Python.framework/Versions/3.8/lib/python3.8/site-packages (from requests->openml==0.10.2; extra == \"notebook\"->flaml[notebook]==1.0.10) (3.4)\n",
      "Requirement already satisfied: urllib3<1.27,>=1.21.1 in /Library/Frameworks/Python.framework/Versions/3.8/lib/python3.8/site-packages (from requests->openml==0.10.2; extra == \"notebook\"->flaml[notebook]==1.0.10) (1.26.13)\n",
      "Requirement already satisfied: tenacity>=6.2.0 in /Library/Frameworks/Python.framework/Versions/3.8/lib/python3.8/site-packages (from plotly->catboost>=0.26; extra == \"notebook\"->flaml[notebook]==1.0.10) (8.1.0)\n",
      "Requirement already satisfied: platformdirs>=2.5 in /Users/seoklee/Library/Python/3.8/lib/python/site-packages (from jupyter-core->qtconsole->jupyter; extra == \"notebook\"->flaml[notebook]==1.0.10) (2.5.4)\n",
      "Requirement already satisfied: entrypoints in /Users/seoklee/Library/Python/3.8/lib/python/site-packages (from jupyter-client>=4.1->qtconsole->jupyter; extra == \"notebook\"->flaml[notebook]==1.0.10) (0.4)\n",
      "Requirement already satisfied: webencodings in /Library/Frameworks/Python.framework/Versions/3.8/lib/python3.8/site-packages (from bleach->nbconvert->jupyter; extra == \"notebook\"->flaml[notebook]==1.0.10) (0.5.1)\n",
      "Requirement already satisfied: fastjsonschema in /Library/Frameworks/Python.framework/Versions/3.8/lib/python3.8/site-packages (from nbformat>=5.1->nbconvert->jupyter; extra == \"notebook\"->flaml[notebook]==1.0.10) (2.16.2)\n",
      "Requirement already satisfied: jsonschema>=2.6 in /Library/Frameworks/Python.framework/Versions/3.8/lib/python3.8/site-packages (from nbformat>=5.1->nbconvert->jupyter; extra == \"notebook\"->flaml[notebook]==1.0.10) (4.17.3)\n",
      "Requirement already satisfied: soupsieve>1.2 in /Library/Frameworks/Python.framework/Versions/3.8/lib/python3.8/site-packages (from beautifulsoup4->nbconvert->jupyter; extra == \"notebook\"->flaml[notebook]==1.0.10) (2.3.2.post1)\n",
      "Requirement already satisfied: zipp>=0.5 in /Library/Frameworks/Python.framework/Versions/3.8/lib/python3.8/site-packages (from importlib-metadata>=3.6; python_version < \"3.10\"->nbconvert->jupyter; extra == \"notebook\"->flaml[notebook]==1.0.10) (3.11.0)\n",
      "Requirement already satisfied: ptyprocess; os_name != \"nt\" in /Users/seoklee/Library/Python/3.8/lib/python/site-packages (from terminado>=0.8.3->notebook->jupyter; extra == \"notebook\"->flaml[notebook]==1.0.10) (0.7.0)\n",
      "Requirement already satisfied: jupyter-server>=1.8 in /Library/Frameworks/Python.framework/Versions/3.8/lib/python3.8/site-packages (from nbclassic>=0.4.7->notebook->jupyter; extra == \"notebook\"->flaml[notebook]==1.0.10) (1.23.3)\n",
      "Requirement already satisfied: notebook-shim>=0.1.0 in /Library/Frameworks/Python.framework/Versions/3.8/lib/python3.8/site-packages (from nbclassic>=0.4.7->notebook->jupyter; extra == \"notebook\"->flaml[notebook]==1.0.10) (0.2.2)\n",
      "Requirement already satisfied: argon2-cffi-bindings in /Library/Frameworks/Python.framework/Versions/3.8/lib/python3.8/site-packages (from argon2-cffi->notebook->jupyter; extra == \"notebook\"->flaml[notebook]==1.0.10) (21.2.0)\n",
      "Requirement already satisfied: pickleshare in /Users/seoklee/Library/Python/3.8/lib/python/site-packages (from ipython>=7.23.1->ipykernel->jupyter; extra == \"notebook\"->flaml[notebook]==1.0.10) (0.7.5)\n",
      "Requirement already satisfied: decorator in /Users/seoklee/Library/Python/3.8/lib/python/site-packages (from ipython>=7.23.1->ipykernel->jupyter; extra == \"notebook\"->flaml[notebook]==1.0.10) (5.1.1)\n",
      "Requirement already satisfied: stack-data in /Users/seoklee/Library/Python/3.8/lib/python/site-packages (from ipython>=7.23.1->ipykernel->jupyter; extra == \"notebook\"->flaml[notebook]==1.0.10) (0.6.2)\n",
      "Requirement already satisfied: jedi>=0.16 in /Users/seoklee/Library/Python/3.8/lib/python/site-packages (from ipython>=7.23.1->ipykernel->jupyter; extra == \"notebook\"->flaml[notebook]==1.0.10) (0.18.2)\n",
      "Requirement already satisfied: pexpect>4.3; sys_platform != \"win32\" in /Users/seoklee/Library/Python/3.8/lib/python/site-packages (from ipython>=7.23.1->ipykernel->jupyter; extra == \"notebook\"->flaml[notebook]==1.0.10) (4.8.0)\n",
      "Requirement already satisfied: backcall in /Users/seoklee/Library/Python/3.8/lib/python/site-packages (from ipython>=7.23.1->ipykernel->jupyter; extra == \"notebook\"->flaml[notebook]==1.0.10) (0.2.0)\n",
      "Requirement already satisfied: wcwidth in /Users/seoklee/Library/Python/3.8/lib/python/site-packages (from prompt-toolkit!=3.0.0,!=3.0.1,<3.1.0,>=2.0.0->jupyter-console->jupyter; extra == \"notebook\"->flaml[notebook]==1.0.10) (0.2.5)\n",
      "Requirement already satisfied: pyrsistent!=0.17.0,!=0.17.1,!=0.17.2,>=0.14.0 in /Library/Frameworks/Python.framework/Versions/3.8/lib/python3.8/site-packages (from jsonschema>=2.6->nbformat>=5.1->nbconvert->jupyter; extra == \"notebook\"->flaml[notebook]==1.0.10) (0.19.2)\n",
      "Requirement already satisfied: importlib-resources>=1.4.0; python_version < \"3.9\" in /Library/Frameworks/Python.framework/Versions/3.8/lib/python3.8/site-packages (from jsonschema>=2.6->nbformat>=5.1->nbconvert->jupyter; extra == \"notebook\"->flaml[notebook]==1.0.10) (5.10.0)\n",
      "Requirement already satisfied: pkgutil-resolve-name>=1.3.10; python_version < \"3.9\" in /Library/Frameworks/Python.framework/Versions/3.8/lib/python3.8/site-packages (from jsonschema>=2.6->nbformat>=5.1->nbconvert->jupyter; extra == \"notebook\"->flaml[notebook]==1.0.10) (1.3.10)\n",
      "Requirement already satisfied: attrs>=17.4.0 in /Library/Frameworks/Python.framework/Versions/3.8/lib/python3.8/site-packages (from jsonschema>=2.6->nbformat>=5.1->nbconvert->jupyter; extra == \"notebook\"->flaml[notebook]==1.0.10) (22.1.0)\n",
      "Requirement already satisfied: anyio<4,>=3.1.0 in /Library/Frameworks/Python.framework/Versions/3.8/lib/python3.8/site-packages (from jupyter-server>=1.8->nbclassic>=0.4.7->notebook->jupyter; extra == \"notebook\"->flaml[notebook]==1.0.10) (3.6.2)\n",
      "Requirement already satisfied: websocket-client in /Library/Frameworks/Python.framework/Versions/3.8/lib/python3.8/site-packages (from jupyter-server>=1.8->nbclassic>=0.4.7->notebook->jupyter; extra == \"notebook\"->flaml[notebook]==1.0.10) (1.4.2)\n",
      "Requirement already satisfied: cffi>=1.0.1 in /Library/Frameworks/Python.framework/Versions/3.8/lib/python3.8/site-packages (from argon2-cffi-bindings->argon2-cffi->notebook->jupyter; extra == \"notebook\"->flaml[notebook]==1.0.10) (1.15.1)\n",
      "Requirement already satisfied: asttokens>=2.1.0 in /Users/seoklee/Library/Python/3.8/lib/python/site-packages (from stack-data->ipython>=7.23.1->ipykernel->jupyter; extra == \"notebook\"->flaml[notebook]==1.0.10) (2.2.0)\n",
      "Requirement already satisfied: executing>=1.2.0 in /Users/seoklee/Library/Python/3.8/lib/python/site-packages (from stack-data->ipython>=7.23.1->ipykernel->jupyter; extra == \"notebook\"->flaml[notebook]==1.0.10) (1.2.0)\n",
      "Requirement already satisfied: pure-eval in /Users/seoklee/Library/Python/3.8/lib/python/site-packages (from stack-data->ipython>=7.23.1->ipykernel->jupyter; extra == \"notebook\"->flaml[notebook]==1.0.10) (0.2.2)\n",
      "Requirement already satisfied: parso<0.9.0,>=0.8.0 in /Users/seoklee/Library/Python/3.8/lib/python/site-packages (from jedi>=0.16->ipython>=7.23.1->ipykernel->jupyter; extra == \"notebook\"->flaml[notebook]==1.0.10) (0.8.3)\n",
      "Requirement already satisfied: sniffio>=1.1 in /Library/Frameworks/Python.framework/Versions/3.8/lib/python3.8/site-packages (from anyio<4,>=3.1.0->jupyter-server>=1.8->nbclassic>=0.4.7->notebook->jupyter; extra == \"notebook\"->flaml[notebook]==1.0.10) (1.3.0)\n",
      "Requirement already satisfied: pycparser in /Library/Frameworks/Python.framework/Versions/3.8/lib/python3.8/site-packages (from cffi>=1.0.1->argon2-cffi-bindings->argon2-cffi->notebook->jupyter; extra == \"notebook\"->flaml[notebook]==1.0.10) (2.21)\n",
      "\u001b[33mWARNING: You are using pip version 19.2.3, however version 22.3.1 is available.\n",
      "You should consider upgrading via the 'pip install --upgrade pip' command.\u001b[0m\n",
      "Note: you may need to restart the kernel to use updated packages.\n"
     ]
    }
   ],
   "source": [
    "%pip install flaml[notebook]==1.0.10"
   ]
  },
  {
   "cell_type": "code",
   "execution_count": 2,
   "metadata": {},
   "outputs": [
    {
     "name": "stdout",
     "output_type": "stream",
     "text": [
      "Collecting pip\n",
      "\u001b[?25l  Downloading https://files.pythonhosted.org/packages/09/bd/2410905c76ee14c62baf69e3f4aa780226c1bbfc9485731ad018e35b0cb5/pip-22.3.1-py3-none-any.whl (2.1MB)\n",
      "\u001b[K     |████████████████████████████████| 2.1MB 4.7MB/s eta 0:00:01\n",
      "\u001b[?25hInstalling collected packages: pip\n",
      "  Found existing installation: pip 19.2.3\n",
      "    Uninstalling pip-19.2.3:\n",
      "      Successfully uninstalled pip-19.2.3\n",
      "Successfully installed pip-22.3.1\n",
      "Note: you may need to restart the kernel to use updated packages.\n"
     ]
    }
   ],
   "source": [
    "pip install --upgrade pip"
   ]
  },
  {
   "cell_type": "code",
   "execution_count": 12,
   "metadata": {},
   "outputs": [],
   "source": [
    "import openml"
   ]
  },
  {
   "cell_type": "code",
   "execution_count": 19,
   "metadata": {},
   "outputs": [],
   "source": [
    "dataset = openml.datasets.get_dataset(42363)"
   ]
  },
  {
   "cell_type": "code",
   "execution_count": 21,
   "metadata": {},
   "outputs": [
    {
     "name": "stdout",
     "output_type": "stream",
     "text": [
      "Data type: <class 'pandas.core.frame.DataFrame'> <class 'list'>\n",
      "The first 5 rows of X_train:\n",
      "     X    Y month  day  FFMC   DMC     DC  ISI  temp    RH  wind  rain\n",
      "0  7.0  5.0   mar  fri  86.2  26.2   94.3  5.1   8.2  51.0   6.7   0.0\n",
      "1  7.0  4.0   oct  tue  90.6  35.4  669.1  6.7  18.0  33.0   0.9   0.0\n",
      "2  7.0  4.0   oct  sat  90.6  43.7  686.9  6.7  14.6  33.0   1.3   0.0\n",
      "3  8.0  6.0   mar  fri  91.7  33.3   77.5  9.0   8.3  97.0   4.0   0.2\n",
      "4  8.0  6.0   mar  sun  89.3  51.3  102.2  9.6  11.4  99.0   1.8   0.0\n",
      "The first 5 rows of Y_train:\n"
     ]
    },
    {
     "ename": "AttributeError",
     "evalue": "'list' object has no attribute 'head'",
     "output_type": "error",
     "traceback": [
      "\u001b[0;31m---------------------------------------------------------------------------\u001b[0m",
      "\u001b[0;31mAttributeError\u001b[0m                            Traceback (most recent call last)",
      "Cell \u001b[0;32mIn[21], line 9\u001b[0m\n\u001b[1;32m      7\u001b[0m \u001b[39mprint\u001b[39m(X_train\u001b[39m.\u001b[39mhead())\n\u001b[1;32m      8\u001b[0m \u001b[39mprint\u001b[39m(\u001b[39m\"\u001b[39m\u001b[39mThe first 5 rows of Y_train:\u001b[39m\u001b[39m\"\u001b[39m)\n\u001b[0;32m----> 9\u001b[0m \u001b[39mprint\u001b[39m(y_train\u001b[39m.\u001b[39;49mhead())\n",
      "\u001b[0;31mAttributeError\u001b[0m: 'list' object has no attribute 'head'"
     ]
    }
   ],
   "source": [
    "from flaml.data import load_openml_dataset\n",
    "X_train, X_test, y_train, y_test = dataset.get_data(\n",
    "    dataset_format=\"dataframe\", target=dataset.default_target_attribute\n",
    ")\n",
    "print(\"Data type:\", type(X_train), type(y_train))\n",
    "print(\"The first 5 rows of X_train:\")\n",
    "print(X_train.head())\n",
    "print(\"The first 5 rows of Y_train:\")\n",
    "print(y_train.head())"
   ]
  },
  {
   "cell_type": "code",
   "execution_count": 16,
   "metadata": {},
   "outputs": [],
   "source": [
    "from flaml import AutoML\n",
    "automl = AutoML()"
   ]
  },
  {
   "cell_type": "code",
   "execution_count": 17,
   "metadata": {},
   "outputs": [],
   "source": [
    "settings = {\n",
    "    \"time_budget\": 180,  # total running time in seconds\n",
    "    \"metric\": 'mse',  # can be: 'r2', 'rmse', 'mae', 'mse', 'accuracy', 'roc_auc', 'roc_auc_ovr',\n",
    "                           # 'roc_auc_ovo', 'log_loss', 'mape', 'f1', 'ap', 'ndcg', 'micro_f1', 'macro_f1'\n",
    "    \"task\": 'ts_forecast',  # task type\n",
    "    \"log_file_name\": 'forest_fire_1.log',  # flaml log file\n",
    "    \"eval_method\": \"auto\"\n",
    "}"
   ]
  },
  {
   "cell_type": "code",
   "execution_count": null,
   "metadata": {},
   "outputs": [],
   "source": [
    "automl.fit()"
   ]
  }
 ],
 "metadata": {
  "kernelspec": {
   "display_name": "Python 3.8.3 64-bit",
   "language": "python",
   "name": "python3"
  },
  "language_info": {
   "codemirror_mode": {
    "name": "ipython",
    "version": 3
   },
   "file_extension": ".py",
   "mimetype": "text/x-python",
   "name": "python",
   "nbconvert_exporter": "python",
   "pygments_lexer": "ipython3",
   "version": "3.8.3"
  },
  "orig_nbformat": 4,
  "vscode": {
   "interpreter": {
    "hash": "aee8b7b246df8f9039afb4144a1f6fd8d2ca17a180786b69acc140d282b71a49"
   }
  }
 },
 "nbformat": 4,
 "nbformat_minor": 2
}
