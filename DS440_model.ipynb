{
 "cells": [
  {
   "cell_type": "code",
   "execution_count": 24,
   "source": [
    "# load all imports\n",
    "import pandas as pd\n",
    "import numpy as np\n",
    "import seaborn as sns\n",
    "import matplotlib.pyplot as plt\n",
    "#%matplotlib inline\n",
    "import datetime"
   ],
   "outputs": [],
   "metadata": {}
  },
  {
   "cell_type": "code",
   "execution_count": 3,
   "source": [
    "from flaml import AutoML"
   ],
   "outputs": [],
   "metadata": {}
  },
  {
   "cell_type": "code",
   "execution_count": 4,
   "source": [
    "# data source https://www.kaggle.com/rtatman/188-million-us-wildfires\n",
    "data = pd.read_csv('fires.csv')"
   ],
   "outputs": [
    {
     "output_type": "stream",
     "name": "stderr",
     "text": [
      "/Users/eeshasrivatsavaya/opt/anaconda3/lib/python3.8/site-packages/IPython/core/interactiveshell.py:3165: DtypeWarning: Columns (8,10,11,12,13,14,15,16,17,18,35,37) have mixed types.Specify dtype option on import or set low_memory=False.\n",
      "  has_raised = await self.run_ast_nodes(code_ast.body, cell_name,\n"
     ]
    }
   ],
   "metadata": {}
  },
  {
   "cell_type": "code",
   "execution_count": 5,
   "source": [
    "data.head()"
   ],
   "outputs": [
    {
     "output_type": "execute_result",
     "data": {
      "text/plain": [
       "   1  1.1  FS-1418826  FED  FS-FIRESTAT  FS  USCAPNF  \\\n",
       "0  2    2  FS-1418827  FED  FS-FIRESTAT  FS  USCAENF   \n",
       "1  3    3  FS-1418835  FED  FS-FIRESTAT  FS  USCAENF   \n",
       "2  4    4  FS-1418845  FED  FS-FIRESTAT  FS  USCAENF   \n",
       "3  5    5  FS-1418847  FED  FS-FIRESTAT  FS  USCAENF   \n",
       "4  6    6  FS-1418849  FED  FS-FIRESTAT  FS  USCAENF   \n",
       "\n",
       "     Plumas National Forest 0511  Plumas National Forest.1  ...  A  \\\n",
       "0  Eldorado National Forest  503  Eldorado National Forest  ...  A   \n",
       "1  Eldorado National Forest  503  Eldorado National Forest  ...  A   \n",
       "2  Eldorado National Forest  503  Eldorado National Forest  ...  A   \n",
       "3  Eldorado National Forest  503  Eldorado National Forest  ...  A   \n",
       "4  Eldorado National Forest  503  Eldorado National Forest  ...  A   \n",
       "\n",
       "  40.03694444 -121.00583333   5              USFS  CA    63   063     Plumas  \\\n",
       "0   38.933056   -120.404444   5              USFS  CA  61.0  61.0     Placer   \n",
       "1   38.984167   -120.735556  13  STATE OR PRIVATE  CA  17.0  17.0  El Dorado   \n",
       "2   38.559167   -119.913333   5              USFS  CA   3.0   3.0     Alpine   \n",
       "3   38.559167   -119.933056   5              USFS  CA   3.0   3.0     Alpine   \n",
       "4   38.635278   -120.103611   5              USFS  CA   5.0   5.0     Amador   \n",
       "\n",
       "   Unnamed: 38  \n",
       "0          NaN  \n",
       "1          NaN  \n",
       "2          NaN  \n",
       "3          NaN  \n",
       "4          NaN  \n",
       "\n",
       "[5 rows x 39 columns]"
      ],
      "text/html": [
       "<div>\n",
       "<style scoped>\n",
       "    .dataframe tbody tr th:only-of-type {\n",
       "        vertical-align: middle;\n",
       "    }\n",
       "\n",
       "    .dataframe tbody tr th {\n",
       "        vertical-align: top;\n",
       "    }\n",
       "\n",
       "    .dataframe thead th {\n",
       "        text-align: right;\n",
       "    }\n",
       "</style>\n",
       "<table border=\"1\" class=\"dataframe\">\n",
       "  <thead>\n",
       "    <tr style=\"text-align: right;\">\n",
       "      <th></th>\n",
       "      <th>1</th>\n",
       "      <th>1.1</th>\n",
       "      <th>FS-1418826</th>\n",
       "      <th>FED</th>\n",
       "      <th>FS-FIRESTAT</th>\n",
       "      <th>FS</th>\n",
       "      <th>USCAPNF</th>\n",
       "      <th>Plumas National Forest</th>\n",
       "      <th>0511</th>\n",
       "      <th>Plumas National Forest.1</th>\n",
       "      <th>...</th>\n",
       "      <th>A</th>\n",
       "      <th>40.03694444</th>\n",
       "      <th>-121.00583333</th>\n",
       "      <th>5</th>\n",
       "      <th>USFS</th>\n",
       "      <th>CA</th>\n",
       "      <th>63</th>\n",
       "      <th>063</th>\n",
       "      <th>Plumas</th>\n",
       "      <th>Unnamed: 38</th>\n",
       "    </tr>\n",
       "  </thead>\n",
       "  <tbody>\n",
       "    <tr>\n",
       "      <th>0</th>\n",
       "      <td>2</td>\n",
       "      <td>2</td>\n",
       "      <td>FS-1418827</td>\n",
       "      <td>FED</td>\n",
       "      <td>FS-FIRESTAT</td>\n",
       "      <td>FS</td>\n",
       "      <td>USCAENF</td>\n",
       "      <td>Eldorado National Forest</td>\n",
       "      <td>503</td>\n",
       "      <td>Eldorado National Forest</td>\n",
       "      <td>...</td>\n",
       "      <td>A</td>\n",
       "      <td>38.933056</td>\n",
       "      <td>-120.404444</td>\n",
       "      <td>5</td>\n",
       "      <td>USFS</td>\n",
       "      <td>CA</td>\n",
       "      <td>61.0</td>\n",
       "      <td>61.0</td>\n",
       "      <td>Placer</td>\n",
       "      <td>NaN</td>\n",
       "    </tr>\n",
       "    <tr>\n",
       "      <th>1</th>\n",
       "      <td>3</td>\n",
       "      <td>3</td>\n",
       "      <td>FS-1418835</td>\n",
       "      <td>FED</td>\n",
       "      <td>FS-FIRESTAT</td>\n",
       "      <td>FS</td>\n",
       "      <td>USCAENF</td>\n",
       "      <td>Eldorado National Forest</td>\n",
       "      <td>503</td>\n",
       "      <td>Eldorado National Forest</td>\n",
       "      <td>...</td>\n",
       "      <td>A</td>\n",
       "      <td>38.984167</td>\n",
       "      <td>-120.735556</td>\n",
       "      <td>13</td>\n",
       "      <td>STATE OR PRIVATE</td>\n",
       "      <td>CA</td>\n",
       "      <td>17.0</td>\n",
       "      <td>17.0</td>\n",
       "      <td>El Dorado</td>\n",
       "      <td>NaN</td>\n",
       "    </tr>\n",
       "    <tr>\n",
       "      <th>2</th>\n",
       "      <td>4</td>\n",
       "      <td>4</td>\n",
       "      <td>FS-1418845</td>\n",
       "      <td>FED</td>\n",
       "      <td>FS-FIRESTAT</td>\n",
       "      <td>FS</td>\n",
       "      <td>USCAENF</td>\n",
       "      <td>Eldorado National Forest</td>\n",
       "      <td>503</td>\n",
       "      <td>Eldorado National Forest</td>\n",
       "      <td>...</td>\n",
       "      <td>A</td>\n",
       "      <td>38.559167</td>\n",
       "      <td>-119.913333</td>\n",
       "      <td>5</td>\n",
       "      <td>USFS</td>\n",
       "      <td>CA</td>\n",
       "      <td>3.0</td>\n",
       "      <td>3.0</td>\n",
       "      <td>Alpine</td>\n",
       "      <td>NaN</td>\n",
       "    </tr>\n",
       "    <tr>\n",
       "      <th>3</th>\n",
       "      <td>5</td>\n",
       "      <td>5</td>\n",
       "      <td>FS-1418847</td>\n",
       "      <td>FED</td>\n",
       "      <td>FS-FIRESTAT</td>\n",
       "      <td>FS</td>\n",
       "      <td>USCAENF</td>\n",
       "      <td>Eldorado National Forest</td>\n",
       "      <td>503</td>\n",
       "      <td>Eldorado National Forest</td>\n",
       "      <td>...</td>\n",
       "      <td>A</td>\n",
       "      <td>38.559167</td>\n",
       "      <td>-119.933056</td>\n",
       "      <td>5</td>\n",
       "      <td>USFS</td>\n",
       "      <td>CA</td>\n",
       "      <td>3.0</td>\n",
       "      <td>3.0</td>\n",
       "      <td>Alpine</td>\n",
       "      <td>NaN</td>\n",
       "    </tr>\n",
       "    <tr>\n",
       "      <th>4</th>\n",
       "      <td>6</td>\n",
       "      <td>6</td>\n",
       "      <td>FS-1418849</td>\n",
       "      <td>FED</td>\n",
       "      <td>FS-FIRESTAT</td>\n",
       "      <td>FS</td>\n",
       "      <td>USCAENF</td>\n",
       "      <td>Eldorado National Forest</td>\n",
       "      <td>503</td>\n",
       "      <td>Eldorado National Forest</td>\n",
       "      <td>...</td>\n",
       "      <td>A</td>\n",
       "      <td>38.635278</td>\n",
       "      <td>-120.103611</td>\n",
       "      <td>5</td>\n",
       "      <td>USFS</td>\n",
       "      <td>CA</td>\n",
       "      <td>5.0</td>\n",
       "      <td>5.0</td>\n",
       "      <td>Amador</td>\n",
       "      <td>NaN</td>\n",
       "    </tr>\n",
       "  </tbody>\n",
       "</table>\n",
       "<p>5 rows × 39 columns</p>\n",
       "</div>"
      ]
     },
     "metadata": {},
     "execution_count": 5
    }
   ],
   "metadata": {}
  },
  {
   "cell_type": "code",
   "execution_count": 6,
   "source": [
    "data.info()"
   ],
   "outputs": [
    {
     "output_type": "stream",
     "name": "stdout",
     "text": [
      "<class 'pandas.core.frame.DataFrame'>\n",
      "RangeIndex: 1880464 entries, 0 to 1880463\n",
      "Data columns (total 39 columns):\n",
      " #   Column                    Dtype  \n",
      "---  ------                    -----  \n",
      " 0   1                         int64  \n",
      " 1   1.1                       int64  \n",
      " 2   FS-1418826                object \n",
      " 3   FED                       object \n",
      " 4   FS-FIRESTAT               object \n",
      " 5   FS                        object \n",
      " 6   USCAPNF                   object \n",
      " 7   Plumas National Forest    object \n",
      " 8   0511                      object \n",
      " 9   Plumas National Forest.1  object \n",
      " 10  1.2                       object \n",
      " 11  PNF-47                    object \n",
      " 12  BJ8K                      object \n",
      " 13  FOUNTAIN                  object \n",
      " 14  Unnamed: 14               object \n",
      " 15  Unnamed: 15               object \n",
      " 16  Unnamed: 16               object \n",
      " 17  Unnamed: 17               object \n",
      " 18  Unnamed: 18               object \n",
      " 19  2005                      int64  \n",
      " 20  2453403.5                 float64\n",
      " 21  33                        int64  \n",
      " 22  1300                      float64\n",
      " 23  9                         int64  \n",
      " 24  Miscellaneous             object \n",
      " 25  2453403.5.1               float64\n",
      " 26  33.1                      float64\n",
      " 27  1730                      float64\n",
      " 28  0.1                       float64\n",
      " 29  A                         object \n",
      " 30  40.03694444               float64\n",
      " 31  -121.00583333             float64\n",
      " 32  5                         int64  \n",
      " 33  USFS                      object \n",
      " 34  CA                        object \n",
      " 35  63                        object \n",
      " 36  063                       float64\n",
      " 37  Plumas                    object \n",
      " 38  Unnamed: 38               float64\n",
      "dtypes: float64(10), int64(6), object(23)\n",
      "memory usage: 559.5+ MB\n"
     ]
    }
   ],
   "metadata": {}
  },
  {
   "cell_type": "code",
   "execution_count": 7,
   "source": [
    "data.describe()"
   ],
   "outputs": [
    {
     "output_type": "execute_result",
     "data": {
      "text/plain": [
       "                  1           1.1          2005     2453403.5            33  \\\n",
       "count  1.880464e+06  1.880464e+06  1.880464e+06  1.880464e+06  1.880464e+06   \n",
       "mean   9.402335e+05  5.484023e+07  2.003710e+03  2.453064e+06  1.647192e+02   \n",
       "std    5.428433e+05  1.011963e+08  6.663100e+00  2.434574e+03  9.003888e+01   \n",
       "min    2.000000e+00  2.000000e+00  1.992000e+03  2.448622e+06  1.000000e+00   \n",
       "25%    4.701178e+05  5.055008e+05  1.998000e+03  2.451084e+06  8.900000e+01   \n",
       "50%    9.402335e+05  1.067762e+06  2.004000e+03  2.453178e+06  1.640000e+02   \n",
       "75%    1.410349e+06  1.910639e+07  2.009000e+03  2.455036e+06  2.300000e+02   \n",
       "max    1.880465e+06  3.003484e+08  2.015000e+03  2.457388e+06  3.660000e+02   \n",
       "\n",
       "                1300             9   2453403.5.1           33.1  \\\n",
       "count  997826.000000  1.880464e+06  9.889330e+05  988933.000000   \n",
       "mean     1453.014479  5.979035e+00  2.453238e+06     172.656907   \n",
       "std       405.961137  3.483860e+00  2.687549e+03      84.320273   \n",
       "min         0.000000  1.000000e+00  2.448622e+06       1.000000   \n",
       "25%      1240.000000  3.000000e+00  2.450700e+06     102.000000   \n",
       "50%      1457.000000  5.000000e+00  2.453466e+06     181.000000   \n",
       "75%      1708.000000  9.000000e+00  2.455754e+06     232.000000   \n",
       "max      2359.000000  1.300000e+01  2.457392e+06     366.000000   \n",
       "\n",
       "                1730           0.1   40.03694444  -121.00583333             5  \\\n",
       "count  907911.000000  1.880464e+06  1.880464e+06   1.880464e+06  1.880464e+06   \n",
       "mean     1534.831865  7.452020e+01  3.678121e+01  -9.570493e+01  1.059658e+01   \n",
       "std       432.737884  2.497599e+03  6.139032e+00   1.671694e+01  4.404661e+00   \n",
       "min         0.000000  1.000000e-05  1.793972e+01  -1.788026e+02  0.000000e+00   \n",
       "25%      1310.000000  1.000000e-01  3.281860e+01  -1.103632e+02  8.000000e+00   \n",
       "50%      1600.000000  1.000000e+00  3.545250e+01  -9.204293e+01  1.400000e+01   \n",
       "75%      1810.000000  3.300000e+00  4.082720e+01  -8.229760e+01  1.400000e+01   \n",
       "max      2359.000000  6.069450e+05  7.033060e+01  -6.525694e+01  1.500000e+01   \n",
       "\n",
       "                063  Unnamed: 38  \n",
       "count  1.202316e+06          0.0  \n",
       "mean   9.578353e+01          NaN  \n",
       "std    9.861509e+01          NaN  \n",
       "min    1.000000e+00          NaN  \n",
       "25%    2.900000e+01          NaN  \n",
       "50%    6.700000e+01          NaN  \n",
       "75%    1.210000e+02          NaN  \n",
       "max    8.100000e+02          NaN  "
      ],
      "text/html": [
       "<div>\n",
       "<style scoped>\n",
       "    .dataframe tbody tr th:only-of-type {\n",
       "        vertical-align: middle;\n",
       "    }\n",
       "\n",
       "    .dataframe tbody tr th {\n",
       "        vertical-align: top;\n",
       "    }\n",
       "\n",
       "    .dataframe thead th {\n",
       "        text-align: right;\n",
       "    }\n",
       "</style>\n",
       "<table border=\"1\" class=\"dataframe\">\n",
       "  <thead>\n",
       "    <tr style=\"text-align: right;\">\n",
       "      <th></th>\n",
       "      <th>1</th>\n",
       "      <th>1.1</th>\n",
       "      <th>2005</th>\n",
       "      <th>2453403.5</th>\n",
       "      <th>33</th>\n",
       "      <th>1300</th>\n",
       "      <th>9</th>\n",
       "      <th>2453403.5.1</th>\n",
       "      <th>33.1</th>\n",
       "      <th>1730</th>\n",
       "      <th>0.1</th>\n",
       "      <th>40.03694444</th>\n",
       "      <th>-121.00583333</th>\n",
       "      <th>5</th>\n",
       "      <th>063</th>\n",
       "      <th>Unnamed: 38</th>\n",
       "    </tr>\n",
       "  </thead>\n",
       "  <tbody>\n",
       "    <tr>\n",
       "      <th>count</th>\n",
       "      <td>1.880464e+06</td>\n",
       "      <td>1.880464e+06</td>\n",
       "      <td>1.880464e+06</td>\n",
       "      <td>1.880464e+06</td>\n",
       "      <td>1.880464e+06</td>\n",
       "      <td>997826.000000</td>\n",
       "      <td>1.880464e+06</td>\n",
       "      <td>9.889330e+05</td>\n",
       "      <td>988933.000000</td>\n",
       "      <td>907911.000000</td>\n",
       "      <td>1.880464e+06</td>\n",
       "      <td>1.880464e+06</td>\n",
       "      <td>1.880464e+06</td>\n",
       "      <td>1.880464e+06</td>\n",
       "      <td>1.202316e+06</td>\n",
       "      <td>0.0</td>\n",
       "    </tr>\n",
       "    <tr>\n",
       "      <th>mean</th>\n",
       "      <td>9.402335e+05</td>\n",
       "      <td>5.484023e+07</td>\n",
       "      <td>2.003710e+03</td>\n",
       "      <td>2.453064e+06</td>\n",
       "      <td>1.647192e+02</td>\n",
       "      <td>1453.014479</td>\n",
       "      <td>5.979035e+00</td>\n",
       "      <td>2.453238e+06</td>\n",
       "      <td>172.656907</td>\n",
       "      <td>1534.831865</td>\n",
       "      <td>7.452020e+01</td>\n",
       "      <td>3.678121e+01</td>\n",
       "      <td>-9.570493e+01</td>\n",
       "      <td>1.059658e+01</td>\n",
       "      <td>9.578353e+01</td>\n",
       "      <td>NaN</td>\n",
       "    </tr>\n",
       "    <tr>\n",
       "      <th>std</th>\n",
       "      <td>5.428433e+05</td>\n",
       "      <td>1.011963e+08</td>\n",
       "      <td>6.663100e+00</td>\n",
       "      <td>2.434574e+03</td>\n",
       "      <td>9.003888e+01</td>\n",
       "      <td>405.961137</td>\n",
       "      <td>3.483860e+00</td>\n",
       "      <td>2.687549e+03</td>\n",
       "      <td>84.320273</td>\n",
       "      <td>432.737884</td>\n",
       "      <td>2.497599e+03</td>\n",
       "      <td>6.139032e+00</td>\n",
       "      <td>1.671694e+01</td>\n",
       "      <td>4.404661e+00</td>\n",
       "      <td>9.861509e+01</td>\n",
       "      <td>NaN</td>\n",
       "    </tr>\n",
       "    <tr>\n",
       "      <th>min</th>\n",
       "      <td>2.000000e+00</td>\n",
       "      <td>2.000000e+00</td>\n",
       "      <td>1.992000e+03</td>\n",
       "      <td>2.448622e+06</td>\n",
       "      <td>1.000000e+00</td>\n",
       "      <td>0.000000</td>\n",
       "      <td>1.000000e+00</td>\n",
       "      <td>2.448622e+06</td>\n",
       "      <td>1.000000</td>\n",
       "      <td>0.000000</td>\n",
       "      <td>1.000000e-05</td>\n",
       "      <td>1.793972e+01</td>\n",
       "      <td>-1.788026e+02</td>\n",
       "      <td>0.000000e+00</td>\n",
       "      <td>1.000000e+00</td>\n",
       "      <td>NaN</td>\n",
       "    </tr>\n",
       "    <tr>\n",
       "      <th>25%</th>\n",
       "      <td>4.701178e+05</td>\n",
       "      <td>5.055008e+05</td>\n",
       "      <td>1.998000e+03</td>\n",
       "      <td>2.451084e+06</td>\n",
       "      <td>8.900000e+01</td>\n",
       "      <td>1240.000000</td>\n",
       "      <td>3.000000e+00</td>\n",
       "      <td>2.450700e+06</td>\n",
       "      <td>102.000000</td>\n",
       "      <td>1310.000000</td>\n",
       "      <td>1.000000e-01</td>\n",
       "      <td>3.281860e+01</td>\n",
       "      <td>-1.103632e+02</td>\n",
       "      <td>8.000000e+00</td>\n",
       "      <td>2.900000e+01</td>\n",
       "      <td>NaN</td>\n",
       "    </tr>\n",
       "    <tr>\n",
       "      <th>50%</th>\n",
       "      <td>9.402335e+05</td>\n",
       "      <td>1.067762e+06</td>\n",
       "      <td>2.004000e+03</td>\n",
       "      <td>2.453178e+06</td>\n",
       "      <td>1.640000e+02</td>\n",
       "      <td>1457.000000</td>\n",
       "      <td>5.000000e+00</td>\n",
       "      <td>2.453466e+06</td>\n",
       "      <td>181.000000</td>\n",
       "      <td>1600.000000</td>\n",
       "      <td>1.000000e+00</td>\n",
       "      <td>3.545250e+01</td>\n",
       "      <td>-9.204293e+01</td>\n",
       "      <td>1.400000e+01</td>\n",
       "      <td>6.700000e+01</td>\n",
       "      <td>NaN</td>\n",
       "    </tr>\n",
       "    <tr>\n",
       "      <th>75%</th>\n",
       "      <td>1.410349e+06</td>\n",
       "      <td>1.910639e+07</td>\n",
       "      <td>2.009000e+03</td>\n",
       "      <td>2.455036e+06</td>\n",
       "      <td>2.300000e+02</td>\n",
       "      <td>1708.000000</td>\n",
       "      <td>9.000000e+00</td>\n",
       "      <td>2.455754e+06</td>\n",
       "      <td>232.000000</td>\n",
       "      <td>1810.000000</td>\n",
       "      <td>3.300000e+00</td>\n",
       "      <td>4.082720e+01</td>\n",
       "      <td>-8.229760e+01</td>\n",
       "      <td>1.400000e+01</td>\n",
       "      <td>1.210000e+02</td>\n",
       "      <td>NaN</td>\n",
       "    </tr>\n",
       "    <tr>\n",
       "      <th>max</th>\n",
       "      <td>1.880465e+06</td>\n",
       "      <td>3.003484e+08</td>\n",
       "      <td>2.015000e+03</td>\n",
       "      <td>2.457388e+06</td>\n",
       "      <td>3.660000e+02</td>\n",
       "      <td>2359.000000</td>\n",
       "      <td>1.300000e+01</td>\n",
       "      <td>2.457392e+06</td>\n",
       "      <td>366.000000</td>\n",
       "      <td>2359.000000</td>\n",
       "      <td>6.069450e+05</td>\n",
       "      <td>7.033060e+01</td>\n",
       "      <td>-6.525694e+01</td>\n",
       "      <td>1.500000e+01</td>\n",
       "      <td>8.100000e+02</td>\n",
       "      <td>NaN</td>\n",
       "    </tr>\n",
       "  </tbody>\n",
       "</table>\n",
       "</div>"
      ]
     },
     "metadata": {},
     "execution_count": 7
    }
   ],
   "metadata": {}
  },
  {
   "cell_type": "code",
   "execution_count": 8,
   "source": [
    "data.columns.isna()"
   ],
   "outputs": [
    {
     "output_type": "execute_result",
     "data": {
      "text/plain": [
       "array([False, False, False, False, False, False, False, False, False,\n",
       "       False, False, False, False, False, False, False, False, False,\n",
       "       False, False, False, False, False, False, False, False, False,\n",
       "       False, False, False, False, False, False, False, False, False,\n",
       "       False, False, False])"
      ]
     },
     "metadata": {},
     "execution_count": 8
    }
   ],
   "metadata": {}
  },
  {
   "cell_type": "code",
   "execution_count": 9,
   "source": [
    "print(data.columns)"
   ],
   "outputs": [
    {
     "output_type": "stream",
     "name": "stdout",
     "text": [
      "Index(['1', '1.1', 'FS-1418826', 'FED', 'FS-FIRESTAT', 'FS', 'USCAPNF',\n",
      "       'Plumas National Forest', '0511', 'Plumas National Forest.1', '1.2',\n",
      "       'PNF-47', 'BJ8K', 'FOUNTAIN', 'Unnamed: 14', 'Unnamed: 15',\n",
      "       'Unnamed: 16', 'Unnamed: 17', 'Unnamed: 18', '2005', '2453403.5', '33',\n",
      "       '1300', '9', 'Miscellaneous', '2453403.5.1', '33.1', '1730', '0.1', 'A',\n",
      "       '40.03694444', '-121.00583333', '5', 'USFS', 'CA', '63', '063',\n",
      "       'Plumas', 'Unnamed: 38'],\n",
      "      dtype='object')\n"
     ]
    }
   ],
   "metadata": {}
  },
  {
   "cell_type": "code",
   "execution_count": 10,
   "source": [
    "data = data.drop(columns=[\"1\", \"1.1\"])"
   ],
   "outputs": [],
   "metadata": {}
  },
  {
   "cell_type": "code",
   "execution_count": 11,
   "source": [
    "data.columns = [\"FOD_ID\", \"FPA_ID\", \"SOURCESYSTEMTYPE\", \"SOURCESYSTEM\", \"NWCGREPORTINGAGENCY\", \"NWCGREPORTINGUNIT_ID\", \"SOURCEREPORTINGUNIT_NAME\", \"LOCALFIREREPORT_ID\", \"LOCALINCIDENTID\", \"FIRE_CODE\", \"FIRE_NAME\", \"ICS209INCIDENT_NUMBER\", \"ICS209NAME\", \"MTBS_ID\", \"MTBSFIRENAME\", \"COMPLEX_NAME\", \"EMPTY\", \"FIRE_YEAR\", \"DISCOVERY_DATE\", \"DISCOVERY_DOY\", \"DISCOVERY_TIME\", \"STATCAUSECODE\", \"STATCAUSEDESCR\", \"CONT_DATE\", \"CONT_DOY\", \"CONT_TIME\", \"FIRE_SIZE\", \"FIRESIZECLASS\", \"LATITUDE\", \"LONGITUDE\", \"OWNER_CODE\", \"OWNER_DESCR\", \"STATE\", \"DELETE!\",\"DELETE\", \"DELETE2\", \"DELETE3\"]"
   ],
   "outputs": [],
   "metadata": {}
  },
  {
   "cell_type": "code",
   "execution_count": 12,
   "source": [
    "data = data.drop(columns=[\"DELETE!\", \"DELETE\", \"DELETE2\", \"DELETE3\"])"
   ],
   "outputs": [],
   "metadata": {}
  },
  {
   "cell_type": "code",
   "execution_count": 13,
   "source": [
    "data.head()"
   ],
   "outputs": [
    {
     "output_type": "execute_result",
     "data": {
      "text/plain": [
       "       FOD_ID FPA_ID SOURCESYSTEMTYPE SOURCESYSTEM NWCGREPORTINGAGENCY  \\\n",
       "0  FS-1418827    FED      FS-FIRESTAT           FS             USCAENF   \n",
       "1  FS-1418835    FED      FS-FIRESTAT           FS             USCAENF   \n",
       "2  FS-1418845    FED      FS-FIRESTAT           FS             USCAENF   \n",
       "3  FS-1418847    FED      FS-FIRESTAT           FS             USCAENF   \n",
       "4  FS-1418849    FED      FS-FIRESTAT           FS             USCAENF   \n",
       "\n",
       "       NWCGREPORTINGUNIT_ID SOURCEREPORTINGUNIT_NAME  \\\n",
       "0  Eldorado National Forest                      503   \n",
       "1  Eldorado National Forest                      503   \n",
       "2  Eldorado National Forest                      503   \n",
       "3  Eldorado National Forest                      503   \n",
       "4  Eldorado National Forest                      503   \n",
       "\n",
       "         LOCALFIREREPORT_ID LOCALINCIDENTID FIRE_CODE  ...  CONT_DATE  \\\n",
       "0  Eldorado National Forest              13        13  ...  2453137.5   \n",
       "1  Eldorado National Forest              27       021  ...  2453156.5   \n",
       "2  Eldorado National Forest              43         6  ...  2453189.5   \n",
       "3  Eldorado National Forest              44         7  ...  2453189.5   \n",
       "4  Eldorado National Forest              54         8  ...  2453187.5   \n",
       "\n",
       "  CONT_DOY CONT_TIME FIRE_SIZE FIRESIZECLASS   LATITUDE   LONGITUDE  \\\n",
       "0    133.0    1530.0      0.25             A  38.933056 -120.404444   \n",
       "1    152.0    2024.0      0.10             A  38.984167 -120.735556   \n",
       "2    185.0    1400.0      0.10             A  38.559167 -119.913333   \n",
       "3    185.0    1200.0      0.10             A  38.559167 -119.933056   \n",
       "4    183.0    1600.0      0.10             A  38.635278 -120.103611   \n",
       "\n",
       "   OWNER_CODE       OWNER_DESCR  STATE  \n",
       "0           5              USFS     CA  \n",
       "1          13  STATE OR PRIVATE     CA  \n",
       "2           5              USFS     CA  \n",
       "3           5              USFS     CA  \n",
       "4           5              USFS     CA  \n",
       "\n",
       "[5 rows x 33 columns]"
      ],
      "text/html": [
       "<div>\n",
       "<style scoped>\n",
       "    .dataframe tbody tr th:only-of-type {\n",
       "        vertical-align: middle;\n",
       "    }\n",
       "\n",
       "    .dataframe tbody tr th {\n",
       "        vertical-align: top;\n",
       "    }\n",
       "\n",
       "    .dataframe thead th {\n",
       "        text-align: right;\n",
       "    }\n",
       "</style>\n",
       "<table border=\"1\" class=\"dataframe\">\n",
       "  <thead>\n",
       "    <tr style=\"text-align: right;\">\n",
       "      <th></th>\n",
       "      <th>FOD_ID</th>\n",
       "      <th>FPA_ID</th>\n",
       "      <th>SOURCESYSTEMTYPE</th>\n",
       "      <th>SOURCESYSTEM</th>\n",
       "      <th>NWCGREPORTINGAGENCY</th>\n",
       "      <th>NWCGREPORTINGUNIT_ID</th>\n",
       "      <th>SOURCEREPORTINGUNIT_NAME</th>\n",
       "      <th>LOCALFIREREPORT_ID</th>\n",
       "      <th>LOCALINCIDENTID</th>\n",
       "      <th>FIRE_CODE</th>\n",
       "      <th>...</th>\n",
       "      <th>CONT_DATE</th>\n",
       "      <th>CONT_DOY</th>\n",
       "      <th>CONT_TIME</th>\n",
       "      <th>FIRE_SIZE</th>\n",
       "      <th>FIRESIZECLASS</th>\n",
       "      <th>LATITUDE</th>\n",
       "      <th>LONGITUDE</th>\n",
       "      <th>OWNER_CODE</th>\n",
       "      <th>OWNER_DESCR</th>\n",
       "      <th>STATE</th>\n",
       "    </tr>\n",
       "  </thead>\n",
       "  <tbody>\n",
       "    <tr>\n",
       "      <th>0</th>\n",
       "      <td>FS-1418827</td>\n",
       "      <td>FED</td>\n",
       "      <td>FS-FIRESTAT</td>\n",
       "      <td>FS</td>\n",
       "      <td>USCAENF</td>\n",
       "      <td>Eldorado National Forest</td>\n",
       "      <td>503</td>\n",
       "      <td>Eldorado National Forest</td>\n",
       "      <td>13</td>\n",
       "      <td>13</td>\n",
       "      <td>...</td>\n",
       "      <td>2453137.5</td>\n",
       "      <td>133.0</td>\n",
       "      <td>1530.0</td>\n",
       "      <td>0.25</td>\n",
       "      <td>A</td>\n",
       "      <td>38.933056</td>\n",
       "      <td>-120.404444</td>\n",
       "      <td>5</td>\n",
       "      <td>USFS</td>\n",
       "      <td>CA</td>\n",
       "    </tr>\n",
       "    <tr>\n",
       "      <th>1</th>\n",
       "      <td>FS-1418835</td>\n",
       "      <td>FED</td>\n",
       "      <td>FS-FIRESTAT</td>\n",
       "      <td>FS</td>\n",
       "      <td>USCAENF</td>\n",
       "      <td>Eldorado National Forest</td>\n",
       "      <td>503</td>\n",
       "      <td>Eldorado National Forest</td>\n",
       "      <td>27</td>\n",
       "      <td>021</td>\n",
       "      <td>...</td>\n",
       "      <td>2453156.5</td>\n",
       "      <td>152.0</td>\n",
       "      <td>2024.0</td>\n",
       "      <td>0.10</td>\n",
       "      <td>A</td>\n",
       "      <td>38.984167</td>\n",
       "      <td>-120.735556</td>\n",
       "      <td>13</td>\n",
       "      <td>STATE OR PRIVATE</td>\n",
       "      <td>CA</td>\n",
       "    </tr>\n",
       "    <tr>\n",
       "      <th>2</th>\n",
       "      <td>FS-1418845</td>\n",
       "      <td>FED</td>\n",
       "      <td>FS-FIRESTAT</td>\n",
       "      <td>FS</td>\n",
       "      <td>USCAENF</td>\n",
       "      <td>Eldorado National Forest</td>\n",
       "      <td>503</td>\n",
       "      <td>Eldorado National Forest</td>\n",
       "      <td>43</td>\n",
       "      <td>6</td>\n",
       "      <td>...</td>\n",
       "      <td>2453189.5</td>\n",
       "      <td>185.0</td>\n",
       "      <td>1400.0</td>\n",
       "      <td>0.10</td>\n",
       "      <td>A</td>\n",
       "      <td>38.559167</td>\n",
       "      <td>-119.913333</td>\n",
       "      <td>5</td>\n",
       "      <td>USFS</td>\n",
       "      <td>CA</td>\n",
       "    </tr>\n",
       "    <tr>\n",
       "      <th>3</th>\n",
       "      <td>FS-1418847</td>\n",
       "      <td>FED</td>\n",
       "      <td>FS-FIRESTAT</td>\n",
       "      <td>FS</td>\n",
       "      <td>USCAENF</td>\n",
       "      <td>Eldorado National Forest</td>\n",
       "      <td>503</td>\n",
       "      <td>Eldorado National Forest</td>\n",
       "      <td>44</td>\n",
       "      <td>7</td>\n",
       "      <td>...</td>\n",
       "      <td>2453189.5</td>\n",
       "      <td>185.0</td>\n",
       "      <td>1200.0</td>\n",
       "      <td>0.10</td>\n",
       "      <td>A</td>\n",
       "      <td>38.559167</td>\n",
       "      <td>-119.933056</td>\n",
       "      <td>5</td>\n",
       "      <td>USFS</td>\n",
       "      <td>CA</td>\n",
       "    </tr>\n",
       "    <tr>\n",
       "      <th>4</th>\n",
       "      <td>FS-1418849</td>\n",
       "      <td>FED</td>\n",
       "      <td>FS-FIRESTAT</td>\n",
       "      <td>FS</td>\n",
       "      <td>USCAENF</td>\n",
       "      <td>Eldorado National Forest</td>\n",
       "      <td>503</td>\n",
       "      <td>Eldorado National Forest</td>\n",
       "      <td>54</td>\n",
       "      <td>8</td>\n",
       "      <td>...</td>\n",
       "      <td>2453187.5</td>\n",
       "      <td>183.0</td>\n",
       "      <td>1600.0</td>\n",
       "      <td>0.10</td>\n",
       "      <td>A</td>\n",
       "      <td>38.635278</td>\n",
       "      <td>-120.103611</td>\n",
       "      <td>5</td>\n",
       "      <td>USFS</td>\n",
       "      <td>CA</td>\n",
       "    </tr>\n",
       "  </tbody>\n",
       "</table>\n",
       "<p>5 rows × 33 columns</p>\n",
       "</div>"
      ]
     },
     "metadata": {},
     "execution_count": 13
    }
   ],
   "metadata": {}
  },
  {
   "cell_type": "code",
   "execution_count": 14,
   "source": [
    "print(data.columns)"
   ],
   "outputs": [
    {
     "output_type": "stream",
     "name": "stdout",
     "text": [
      "Index(['FOD_ID', 'FPA_ID', 'SOURCESYSTEMTYPE', 'SOURCESYSTEM',\n",
      "       'NWCGREPORTINGAGENCY', 'NWCGREPORTINGUNIT_ID',\n",
      "       'SOURCEREPORTINGUNIT_NAME', 'LOCALFIREREPORT_ID', 'LOCALINCIDENTID',\n",
      "       'FIRE_CODE', 'FIRE_NAME', 'ICS209INCIDENT_NUMBER', 'ICS209NAME',\n",
      "       'MTBS_ID', 'MTBSFIRENAME', 'COMPLEX_NAME', 'EMPTY', 'FIRE_YEAR',\n",
      "       'DISCOVERY_DATE', 'DISCOVERY_DOY', 'DISCOVERY_TIME', 'STATCAUSECODE',\n",
      "       'STATCAUSEDESCR', 'CONT_DATE', 'CONT_DOY', 'CONT_TIME', 'FIRE_SIZE',\n",
      "       'FIRESIZECLASS', 'LATITUDE', 'LONGITUDE', 'OWNER_CODE', 'OWNER_DESCR',\n",
      "       'STATE'],\n",
      "      dtype='object')\n"
     ]
    }
   ],
   "metadata": {}
  },
  {
   "cell_type": "code",
   "execution_count": 15,
   "source": [
    "sns.histplot(data[\"FIRE_YEAR\"])"
   ],
   "outputs": [
    {
     "output_type": "execute_result",
     "data": {
      "text/plain": [
       "<AxesSubplot:xlabel='FIRE_YEAR', ylabel='Count'>"
      ]
     },
     "metadata": {},
     "execution_count": 15
    },
    {
     "output_type": "display_data",
     "data": {
      "text/plain": [
       "<Figure size 432x288 with 1 Axes>"
      ],
      "image/png": "[encoded data removed]"
     },
     "metadata": {
      "needs_background": "light"
     }
    }
   ],
   "metadata": {}
  },
  {
   "cell_type": "code",
   "execution_count": 16,
   "source": [
    "sns.histplot(data[\"DISCOVERY_DOY\"])"
   ],
   "outputs": [
    {
     "output_type": "execute_result",
     "data": {
      "text/plain": [
       "<AxesSubplot:xlabel='DISCOVERY_DOY', ylabel='Count'>"
      ]
     },
     "metadata": {},
     "execution_count": 16
    },
    {
     "output_type": "display_data",
     "data": {
      "text/plain": [
       "<Figure size 432x288 with 1 Axes>"
      ],
      "image/png": "[encoded data removed]"
     },
     "metadata": {
      "needs_background": "light"
     }
    }
   ],
   "metadata": {}
  },
  {
   "cell_type": "code",
   "execution_count": 17,
   "source": [
    "sns.countplot(data[\"STATE\"])"
   ],
   "outputs": [
    {
     "output_type": "stream",
     "name": "stderr",
     "text": [
      "/Users/eeshasrivatsavaya/opt/anaconda3/lib/python3.8/site-packages/seaborn/_decorators.py:36: FutureWarning: Pass the following variable as a keyword arg: x. From version 0.12, the only valid positional argument will be `data`, and passing other arguments without an explicit keyword will result in an error or misinterpretation.\n",
      "  warnings.warn(\n"
     ]
    },
    {
     "output_type": "execute_result",
     "data": {
      "text/plain": [
       "<AxesSubplot:xlabel='STATE', ylabel='count'>"
      ]
     },
     "metadata": {},
     "execution_count": 17
    },
    {
     "output_type": "display_data",
     "data": {
      "text/plain": [
       "<Figure size 432x288 with 1 Axes>"
      ],
      "image/png": "[encoded data removed]"
     },
     "metadata": {
      "needs_background": "light"
     }
    }
   ],
   "metadata": {}
  },
  {
   "cell_type": "code",
   "execution_count": 18,
   "source": [
    "data.isna().sum()\n"
   ],
   "outputs": [
    {
     "output_type": "execute_result",
     "data": {
      "text/plain": [
       "FOD_ID                            0\n",
       "FPA_ID                            0\n",
       "SOURCESYSTEMTYPE                  0\n",
       "SOURCESYSTEM                      0\n",
       "NWCGREPORTINGAGENCY               0\n",
       "NWCGREPORTINGUNIT_ID              0\n",
       "SOURCEREPORTINGUNIT_NAME          0\n",
       "LOCALFIREREPORT_ID                0\n",
       "LOCALINCIDENTID             1459286\n",
       "FIRE_CODE                    820821\n",
       "FIRE_NAME                   1555741\n",
       "ICS209INCIDENT_NUMBER        960479\n",
       "ICS209NAME                  1854747\n",
       "MTBS_ID                     1854747\n",
       "MTBSFIRENAME                1869461\n",
       "COMPLEX_NAME                1869461\n",
       "EMPTY                       1875281\n",
       "FIRE_YEAR                         0\n",
       "DISCOVERY_DATE                    0\n",
       "DISCOVERY_DOY                     0\n",
       "DISCOVERY_TIME               882638\n",
       "STATCAUSECODE                     0\n",
       "STATCAUSEDESCR                    0\n",
       "CONT_DATE                    891531\n",
       "CONT_DOY                     891531\n",
       "CONT_TIME                    972553\n",
       "FIRE_SIZE                         0\n",
       "FIRESIZECLASS                     0\n",
       "LATITUDE                          0\n",
       "LONGITUDE                         0\n",
       "OWNER_CODE                        0\n",
       "OWNER_DESCR                       0\n",
       "STATE                             0\n",
       "dtype: int64"
      ]
     },
     "metadata": {},
     "execution_count": 18
    }
   ],
   "metadata": {}
  },
  {
   "cell_type": "code",
   "execution_count": 19,
   "source": [
    "data = data.drop(columns=[\"EMPTY\",\"LOCALINCIDENTID\", \"FIRE_CODE\",\"FIRE_NAME\",\"ICS209INCIDENT_NUMBER\", \"ICS209NAME\", \"MTBS_ID\",\"MTBSFIRENAME\",\"COMPLEX_NAME\", \"CONT_DATE\", \"CONT_DOY\", \"CONT_TIME\"])"
   ],
   "outputs": [],
   "metadata": {}
  },
  {
   "cell_type": "code",
   "execution_count": 20,
   "source": [
    "print(data.columns)"
   ],
   "outputs": [
    {
     "output_type": "stream",
     "name": "stdout",
     "text": [
      "Index(['FOD_ID', 'FPA_ID', 'SOURCESYSTEMTYPE', 'SOURCESYSTEM',\n",
      "       'NWCGREPORTINGAGENCY', 'NWCGREPORTINGUNIT_ID',\n",
      "       'SOURCEREPORTINGUNIT_NAME', 'LOCALFIREREPORT_ID', 'FIRE_YEAR',\n",
      "       'DISCOVERY_DATE', 'DISCOVERY_DOY', 'DISCOVERY_TIME', 'STATCAUSECODE',\n",
      "       'STATCAUSEDESCR', 'FIRE_SIZE', 'FIRESIZECLASS', 'LATITUDE', 'LONGITUDE',\n",
      "       'OWNER_CODE', 'OWNER_DESCR', 'STATE'],\n",
      "      dtype='object')\n"
     ]
    }
   ],
   "metadata": {}
  },
  {
   "cell_type": "code",
   "execution_count": 21,
   "source": [
    "data.dtypes"
   ],
   "outputs": [
    {
     "output_type": "execute_result",
     "data": {
      "text/plain": [
       "FOD_ID                       object\n",
       "FPA_ID                       object\n",
       "SOURCESYSTEMTYPE             object\n",
       "SOURCESYSTEM                 object\n",
       "NWCGREPORTINGAGENCY          object\n",
       "NWCGREPORTINGUNIT_ID         object\n",
       "SOURCEREPORTINGUNIT_NAME     object\n",
       "LOCALFIREREPORT_ID           object\n",
       "FIRE_YEAR                     int64\n",
       "DISCOVERY_DATE              float64\n",
       "DISCOVERY_DOY                 int64\n",
       "DISCOVERY_TIME              float64\n",
       "STATCAUSECODE                 int64\n",
       "STATCAUSEDESCR               object\n",
       "FIRE_SIZE                   float64\n",
       "FIRESIZECLASS                object\n",
       "LATITUDE                    float64\n",
       "LONGITUDE                   float64\n",
       "OWNER_CODE                    int64\n",
       "OWNER_DESCR                  object\n",
       "STATE                        object\n",
       "dtype: object"
      ]
     },
     "metadata": {},
     "execution_count": 21
    }
   ],
   "metadata": {}
  },
  {
   "cell_type": "code",
   "execution_count": 22,
   "source": [
    "data[\"DISCOVERY_TIME\"]"
   ],
   "outputs": [
    {
     "output_type": "execute_result",
     "data": {
      "text/plain": [
       "0           845.0\n",
       "1          1921.0\n",
       "2          1600.0\n",
       "3          1600.0\n",
       "4          1800.0\n",
       "            ...  \n",
       "1880459    1726.0\n",
       "1880460     126.0\n",
       "1880461    2052.0\n",
       "1880462    2309.0\n",
       "1880463    2128.0\n",
       "Name: DISCOVERY_TIME, Length: 1880464, dtype: float64"
      ]
     },
     "metadata": {},
     "execution_count": 22
    }
   ],
   "metadata": {}
  },
  {
   "cell_type": "code",
   "execution_count": 23,
   "source": [
    "sns.histplot(data[\"DISCOVERY_TIME\"])"
   ],
   "outputs": [
    {
     "output_type": "execute_result",
     "data": {
      "text/plain": [
       "<AxesSubplot:xlabel='DISCOVERY_TIME', ylabel='Count'>"
      ]
     },
     "metadata": {},
     "execution_count": 23
    },
    {
     "output_type": "display_data",
     "data": {
      "text/plain": [
       "<Figure size 432x288 with 1 Axes>"
      ],
      "image/png": "[encoded data removed]"
     },
     "metadata": {
      "needs_background": "light"
     }
    }
   ],
   "metadata": {}
  },
  {
   "cell_type": "code",
   "execution_count": 27,
   "source": [
    "data[\"DISCOVERY_DOY\"]"
   ],
   "outputs": [
    {
     "output_type": "execute_result",
     "data": {
      "text/plain": [
       "0          133\n",
       "1          152\n",
       "2          180\n",
       "3          180\n",
       "4          182\n",
       "          ... \n",
       "1880459    269\n",
       "1880460    278\n",
       "1880461    122\n",
       "1880462    287\n",
       "1880463     73\n",
       "Name: DISCOVERY_DOY, Length: 1880464, dtype: int64"
      ]
     },
     "metadata": {},
     "execution_count": 27
    }
   ],
   "metadata": {}
  },
  {
   "cell_type": "code",
   "execution_count": 28,
   "source": [
    "data[\"DISCOVERY_DATE\"]"
   ],
   "outputs": [
    {
     "output_type": "execute_result",
     "data": {
      "text/plain": [
       "0          2453137.5\n",
       "1          2453156.5\n",
       "2          2453184.5\n",
       "3          2453184.5\n",
       "4          2453186.5\n",
       "             ...    \n",
       "1880459    2457291.5\n",
       "1880460    2457300.5\n",
       "1880461    2457144.5\n",
       "1880462    2457309.5\n",
       "1880463    2457095.5\n",
       "Name: DISCOVERY_DATE, Length: 1880464, dtype: float64"
      ]
     },
     "metadata": {},
     "execution_count": 28
    }
   ],
   "metadata": {}
  },
  {
   "cell_type": "code",
   "execution_count": 29,
   "source": [
    "data[\"FIRE_YEAR\"]"
   ],
   "outputs": [
    {
     "output_type": "execute_result",
     "data": {
      "text/plain": [
       "0          2004\n",
       "1          2004\n",
       "2          2004\n",
       "3          2004\n",
       "4          2004\n",
       "           ... \n",
       "1880459    2015\n",
       "1880460    2015\n",
       "1880461    2015\n",
       "1880462    2015\n",
       "1880463    2015\n",
       "Name: FIRE_YEAR, Length: 1880464, dtype: int64"
      ]
     },
     "metadata": {},
     "execution_count": 29
    }
   ],
   "metadata": {}
  },
  {
   "cell_type": "code",
   "execution_count": 32,
   "source": [
    "data[\"Julian_Date\"] = data[\"FIRE_YEAR\"].astype(str) + data[\"DISCOVERY_DOY\"].astype(str)\n",
    "data[\"Julian_Date\"]"
   ],
   "outputs": [
    {
     "output_type": "execute_result",
     "data": {
      "text/plain": [
       "0          2004133\n",
       "1          2004152\n",
       "2          2004180\n",
       "3          2004180\n",
       "4          2004182\n",
       "            ...   \n",
       "1880459    2015269\n",
       "1880460    2015278\n",
       "1880461    2015122\n",
       "1880462    2015287\n",
       "1880463     201573\n",
       "Name: Julian_Date, Length: 1880464, dtype: object"
      ]
     },
     "metadata": {},
     "execution_count": 32
    }
   ],
   "metadata": {}
  },
  {
   "cell_type": "code",
   "execution_count": 36,
   "source": [
    "# code from: https://rafatieppo.github.io/post/2018_12_01_juliandate/ \n",
    "def julian_date_converter(julian_date):\n",
    "    date_format = '%Y%j'\n",
    "    converted_date = datetime.datetime.strptime(julian_date, date_format).date()\n",
    "    return converted_date"
   ],
   "outputs": [],
   "metadata": {}
  },
  {
   "cell_type": "code",
   "execution_count": 38,
   "source": [
    "data['Converted_Date'] = data['Julian_Date'].map(lambda x: julian_date_converter(x))\n",
    "data['Converted_Date'] "
   ],
   "outputs": [
    {
     "output_type": "execute_result",
     "data": {
      "text/plain": [
       "0          2004-05-12\n",
       "1          2004-05-31\n",
       "2          2004-06-28\n",
       "3          2004-06-28\n",
       "4          2004-06-30\n",
       "              ...    \n",
       "1880459    2015-09-26\n",
       "1880460    2015-10-05\n",
       "1880461    2015-05-02\n",
       "1880462    2015-10-14\n",
       "1880463    2015-03-14\n",
       "Name: Converted_Date, Length: 1880464, dtype: object"
      ]
     },
     "metadata": {},
     "execution_count": 38
    }
   ],
   "metadata": {}
  },
  {
   "cell_type": "code",
   "execution_count": 41,
   "source": [
    "data[\"DISOVERY_MONTH\"] = data['Julian_Date'].map(lambda x: julian_date_converter(x).month)\n",
    "data[\"DISOVERY_DAY\"] = data['Julian_Date'].map(lambda x: julian_date_converter(x).day)"
   ],
   "outputs": [],
   "metadata": {}
  },
  {
   "cell_type": "code",
   "execution_count": 42,
   "source": [
    "data[\"DISOVERY_MONTH\"]"
   ],
   "outputs": [
    {
     "output_type": "execute_result",
     "data": {
      "text/plain": [
       "0           5\n",
       "1           5\n",
       "2           6\n",
       "3           6\n",
       "4           6\n",
       "           ..\n",
       "1880459     9\n",
       "1880460    10\n",
       "1880461     5\n",
       "1880462    10\n",
       "1880463     3\n",
       "Name: DISOVERY_MONTH, Length: 1880464, dtype: int64"
      ]
     },
     "metadata": {},
     "execution_count": 42
    }
   ],
   "metadata": {}
  },
  {
   "cell_type": "code",
   "execution_count": 43,
   "source": [
    "data[\"DISOVERY_DAY\"]"
   ],
   "outputs": [
    {
     "output_type": "execute_result",
     "data": {
      "text/plain": [
       "0          12\n",
       "1          31\n",
       "2          28\n",
       "3          28\n",
       "4          30\n",
       "           ..\n",
       "1880459    26\n",
       "1880460     5\n",
       "1880461     2\n",
       "1880462    14\n",
       "1880463    14\n",
       "Name: DISOVERY_DAY, Length: 1880464, dtype: int64"
      ]
     },
     "metadata": {},
     "execution_count": 43
    }
   ],
   "metadata": {}
  },
  {
   "cell_type": "code",
   "execution_count": 44,
   "source": [
    "data.columns"
   ],
   "outputs": [
    {
     "output_type": "execute_result",
     "data": {
      "text/plain": [
       "Index(['FOD_ID', 'FPA_ID', 'SOURCESYSTEMTYPE', 'SOURCESYSTEM',\n",
       "       'NWCGREPORTINGAGENCY', 'NWCGREPORTINGUNIT_ID',\n",
       "       'SOURCEREPORTINGUNIT_NAME', 'LOCALFIREREPORT_ID', 'FIRE_YEAR',\n",
       "       'DISCOVERY_DATE', 'DISCOVERY_DOY', 'DISCOVERY_TIME', 'STATCAUSECODE',\n",
       "       'STATCAUSEDESCR', 'FIRE_SIZE', 'FIRESIZECLASS', 'LATITUDE', 'LONGITUDE',\n",
       "       'OWNER_CODE', 'OWNER_DESCR', 'STATE', 'Julian_Date', 'Converted_Date',\n",
       "       'DISOVERY_MONTH', 'DISOVERY_DAY'],\n",
       "      dtype='object')"
      ]
     },
     "metadata": {},
     "execution_count": 44
    }
   ],
   "metadata": {}
  },
  {
   "cell_type": "markdown",
   "source": [
    "# FLAML"
   ],
   "metadata": {}
  },
  {
   "cell_type": "code",
   "execution_count": 22,
   "source": [
    "#split into train and test\n",
    "train = data[data['FIRE_YEAR'] < 2010]\n",
    "test = data[data['FIRE_YEAR']>= 2010]"
   ],
   "outputs": [],
   "metadata": {}
  },
  {
   "cell_type": "code",
   "execution_count": 23,
   "source": [
    "train.shape, test.shape"
   ],
   "outputs": [
    {
     "output_type": "execute_result",
     "data": {
      "text/plain": [
       "((1430230, 21), (450234, 21))"
      ]
     },
     "metadata": {},
     "execution_count": 23
    }
   ],
   "metadata": {}
  },
  {
   "cell_type": "code",
   "execution_count": 24,
   "source": [
    "X_train = train.loc[:, train.columns!=\"FIRE_YEAR\"]\n",
    "Y_train = train[\"FIRE_YEAR\"]\n",
    "X_test = test.loc[:, train.columns!=\"FIRE_YEAR\"]\n",
    "Y_test = test[\"FIRE_YEAR\"]"
   ],
   "outputs": [],
   "metadata": {}
  },
  {
   "cell_type": "code",
   "execution_count": null,
   "source": [],
   "outputs": [],
   "metadata": {}
  },
  {
   "cell_type": "code",
   "execution_count": null,
   "source": [
    "automl = AutoML()\n",
    "\n",
    "settings = {\n",
    "    \"time_budget\": 10,  # total running time in seconds\n",
    "    \"metric\": \"mape\",  # primary metric\n",
    "    \"task\": \"ts_forecast\",  # task type\n",
    "    \"log_file_name\": \"energy_forecast_categorical.log\",  # flaml log file\n",
    "    \"eval_method\": \"holdout\",\n",
    "    \"log_type\": \"all\",\n",
    "    \"label\": \"demand\",\n",
    "}\n",
    "\n",
    "# train the model\n",
    "automl.fit(dataframe=df, **settings, period=time_horizon)\n",
    "\n",
    "# predictions\n",
    "print(automl.predict(multi_X_test))"
   ],
   "outputs": [],
   "metadata": {}
  }
 ],
 "metadata": {
  "kernelspec": {
   "name": "python3",
   "display_name": "Python 3.8.8 64-bit ('base': conda)"
  },
  "language_info": {
   "codemirror_mode": {
    "name": "ipython",
    "version": 3
   },
   "file_extension": ".py",
   "mimetype": "text/x-python",
   "name": "python",
   "nbconvert_exporter": "python",
   "pygments_lexer": "ipython3",
   "version": "3.8.8"
  },
  "interpreter": {
   "hash": "32f7275dabe6fcf69b795835cae463ce3a1b9086ff692c15c8d9cedd403d1e94"
  }
 },
 "nbformat": 4,
 "nbformat_minor": 4
}