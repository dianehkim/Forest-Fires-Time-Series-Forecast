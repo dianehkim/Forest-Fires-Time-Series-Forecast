{
 "cells": [
  {
   "cell_type": "markdown",
   "metadata": {},
   "source": [
    "# 1. Import Libraries"
   ]
  },
  {
   "cell_type": "code",
   "execution_count": 1,
   "metadata": {},
   "outputs": [
    {
     "name": "stderr",
     "output_type": "stream",
     "text": [
      "/Users/diane/opt/anaconda3/lib/python3.8/site-packages/pandas/core/computation/expressions.py:20: UserWarning: Pandas requires version '2.7.3' or newer of 'numexpr' (version '2.7.1' currently installed).\n",
      "  from pandas.core.computation.check import NUMEXPR_INSTALLED\n"
     ]
    }
   ],
   "source": [
    "import pandas as pd\n",
    "import numpy as np\n",
    "import seaborn as sns\n",
    "import matplotlib.pyplot as plt\n",
    "import datetime"
   ]
  },
  {
   "cell_type": "code",
   "execution_count": 2,
   "metadata": {},
   "outputs": [
    {
     "name": "stderr",
     "output_type": "stream",
     "text": [
      "<ipython-input-2-03c3e46369cd>:2: DtypeWarning: Columns (8,10,11,12,13,14,15,16,17,18,35,37) have mixed types. Specify dtype option on import or set low_memory=False.\n",
      "  data = pd.read_csv('fires.csv')\n"
     ]
    }
   ],
   "source": [
    "# data source https://www.kaggle.com/rtatman/188-million-us-wildfires\n",
    "data = pd.read_csv('fires.csv')"
   ]
  },
  {
   "cell_type": "markdown",
   "metadata": {},
   "source": [
    "# 2. EDA & Data Cleanup"
   ]
  },
  {
   "cell_type": "code",
   "execution_count": 3,
   "metadata": {},
   "outputs": [
    {
     "data": {
      "text/html": [
       "<div>\n",
       "<style scoped>\n",
       "    .dataframe tbody tr th:only-of-type {\n",
       "        vertical-align: middle;\n",
       "    }\n",
       "\n",
       "    .dataframe tbody tr th {\n",
       "        vertical-align: top;\n",
       "    }\n",
       "\n",
       "    .dataframe thead th {\n",
       "        text-align: right;\n",
       "    }\n",
       "</style>\n",
       "<table border=\"1\" class=\"dataframe\">\n",
       "  <thead>\n",
       "    <tr style=\"text-align: right;\">\n",
       "      <th></th>\n",
       "      <th>1</th>\n",
       "      <th>1.1</th>\n",
       "      <th>FS-1418826</th>\n",
       "      <th>FED</th>\n",
       "      <th>FS-FIRESTAT</th>\n",
       "      <th>FS</th>\n",
       "      <th>USCAPNF</th>\n",
       "      <th>Plumas National Forest</th>\n",
       "      <th>0511</th>\n",
       "      <th>Plumas National Forest.1</th>\n",
       "      <th>...</th>\n",
       "      <th>A</th>\n",
       "      <th>40.03694444</th>\n",
       "      <th>-121.00583333</th>\n",
       "      <th>5</th>\n",
       "      <th>USFS</th>\n",
       "      <th>CA</th>\n",
       "      <th>63</th>\n",
       "      <th>063</th>\n",
       "      <th>Plumas</th>\n",
       "      <th>Unnamed: 38</th>\n",
       "    </tr>\n",
       "  </thead>\n",
       "  <tbody>\n",
       "    <tr>\n",
       "      <th>0</th>\n",
       "      <td>2</td>\n",
       "      <td>2</td>\n",
       "      <td>FS-1418827</td>\n",
       "      <td>FED</td>\n",
       "      <td>FS-FIRESTAT</td>\n",
       "      <td>FS</td>\n",
       "      <td>USCAENF</td>\n",
       "      <td>Eldorado National Forest</td>\n",
       "      <td>503</td>\n",
       "      <td>Eldorado National Forest</td>\n",
       "      <td>...</td>\n",
       "      <td>A</td>\n",
       "      <td>38.933056</td>\n",
       "      <td>-120.404444</td>\n",
       "      <td>5</td>\n",
       "      <td>USFS</td>\n",
       "      <td>CA</td>\n",
       "      <td>61.0</td>\n",
       "      <td>61.0</td>\n",
       "      <td>Placer</td>\n",
       "      <td>NaN</td>\n",
       "    </tr>\n",
       "    <tr>\n",
       "      <th>1</th>\n",
       "      <td>3</td>\n",
       "      <td>3</td>\n",
       "      <td>FS-1418835</td>\n",
       "      <td>FED</td>\n",
       "      <td>FS-FIRESTAT</td>\n",
       "      <td>FS</td>\n",
       "      <td>USCAENF</td>\n",
       "      <td>Eldorado National Forest</td>\n",
       "      <td>503</td>\n",
       "      <td>Eldorado National Forest</td>\n",
       "      <td>...</td>\n",
       "      <td>A</td>\n",
       "      <td>38.984167</td>\n",
       "      <td>-120.735556</td>\n",
       "      <td>13</td>\n",
       "      <td>STATE OR PRIVATE</td>\n",
       "      <td>CA</td>\n",
       "      <td>17.0</td>\n",
       "      <td>17.0</td>\n",
       "      <td>El Dorado</td>\n",
       "      <td>NaN</td>\n",
       "    </tr>\n",
       "    <tr>\n",
       "      <th>2</th>\n",
       "      <td>4</td>\n",
       "      <td>4</td>\n",
       "      <td>FS-1418845</td>\n",
       "      <td>FED</td>\n",
       "      <td>FS-FIRESTAT</td>\n",
       "      <td>FS</td>\n",
       "      <td>USCAENF</td>\n",
       "      <td>Eldorado National Forest</td>\n",
       "      <td>503</td>\n",
       "      <td>Eldorado National Forest</td>\n",
       "      <td>...</td>\n",
       "      <td>A</td>\n",
       "      <td>38.559167</td>\n",
       "      <td>-119.913333</td>\n",
       "      <td>5</td>\n",
       "      <td>USFS</td>\n",
       "      <td>CA</td>\n",
       "      <td>3.0</td>\n",
       "      <td>3.0</td>\n",
       "      <td>Alpine</td>\n",
       "      <td>NaN</td>\n",
       "    </tr>\n",
       "    <tr>\n",
       "      <th>3</th>\n",
       "      <td>5</td>\n",
       "      <td>5</td>\n",
       "      <td>FS-1418847</td>\n",
       "      <td>FED</td>\n",
       "      <td>FS-FIRESTAT</td>\n",
       "      <td>FS</td>\n",
       "      <td>USCAENF</td>\n",
       "      <td>Eldorado National Forest</td>\n",
       "      <td>503</td>\n",
       "      <td>Eldorado National Forest</td>\n",
       "      <td>...</td>\n",
       "      <td>A</td>\n",
       "      <td>38.559167</td>\n",
       "      <td>-119.933056</td>\n",
       "      <td>5</td>\n",
       "      <td>USFS</td>\n",
       "      <td>CA</td>\n",
       "      <td>3.0</td>\n",
       "      <td>3.0</td>\n",
       "      <td>Alpine</td>\n",
       "      <td>NaN</td>\n",
       "    </tr>\n",
       "    <tr>\n",
       "      <th>4</th>\n",
       "      <td>6</td>\n",
       "      <td>6</td>\n",
       "      <td>FS-1418849</td>\n",
       "      <td>FED</td>\n",
       "      <td>FS-FIRESTAT</td>\n",
       "      <td>FS</td>\n",
       "      <td>USCAENF</td>\n",
       "      <td>Eldorado National Forest</td>\n",
       "      <td>503</td>\n",
       "      <td>Eldorado National Forest</td>\n",
       "      <td>...</td>\n",
       "      <td>A</td>\n",
       "      <td>38.635278</td>\n",
       "      <td>-120.103611</td>\n",
       "      <td>5</td>\n",
       "      <td>USFS</td>\n",
       "      <td>CA</td>\n",
       "      <td>5.0</td>\n",
       "      <td>5.0</td>\n",
       "      <td>Amador</td>\n",
       "      <td>NaN</td>\n",
       "    </tr>\n",
       "  </tbody>\n",
       "</table>\n",
       "<p>5 rows × 39 columns</p>\n",
       "</div>"
      ],
      "text/plain": [
       "   1  1.1  FS-1418826  FED  FS-FIRESTAT  FS  USCAPNF  \\\n",
       "0  2    2  FS-1418827  FED  FS-FIRESTAT  FS  USCAENF   \n",
       "1  3    3  FS-1418835  FED  FS-FIRESTAT  FS  USCAENF   \n",
       "2  4    4  FS-1418845  FED  FS-FIRESTAT  FS  USCAENF   \n",
       "3  5    5  FS-1418847  FED  FS-FIRESTAT  FS  USCAENF   \n",
       "4  6    6  FS-1418849  FED  FS-FIRESTAT  FS  USCAENF   \n",
       "\n",
       "     Plumas National Forest 0511  Plumas National Forest.1  ...  A  \\\n",
       "0  Eldorado National Forest  503  Eldorado National Forest  ...  A   \n",
       "1  Eldorado National Forest  503  Eldorado National Forest  ...  A   \n",
       "2  Eldorado National Forest  503  Eldorado National Forest  ...  A   \n",
       "3  Eldorado National Forest  503  Eldorado National Forest  ...  A   \n",
       "4  Eldorado National Forest  503  Eldorado National Forest  ...  A   \n",
       "\n",
       "  40.03694444 -121.00583333   5              USFS  CA    63   063     Plumas  \\\n",
       "0   38.933056   -120.404444   5              USFS  CA  61.0  61.0     Placer   \n",
       "1   38.984167   -120.735556  13  STATE OR PRIVATE  CA  17.0  17.0  El Dorado   \n",
       "2   38.559167   -119.913333   5              USFS  CA   3.0   3.0     Alpine   \n",
       "3   38.559167   -119.933056   5              USFS  CA   3.0   3.0     Alpine   \n",
       "4   38.635278   -120.103611   5              USFS  CA   5.0   5.0     Amador   \n",
       "\n",
       "   Unnamed: 38  \n",
       "0          NaN  \n",
       "1          NaN  \n",
       "2          NaN  \n",
       "3          NaN  \n",
       "4          NaN  \n",
       "\n",
       "[5 rows x 39 columns]"
      ]
     },
     "execution_count": 3,
     "metadata": {},
     "output_type": "execute_result"
    }
   ],
   "source": [
    "data.head()"
   ]
  },
  {
   "cell_type": "code",
   "execution_count": 4,
   "metadata": {},
   "outputs": [
    {
     "name": "stdout",
     "output_type": "stream",
     "text": [
      "<class 'pandas.core.frame.DataFrame'>\n",
      "RangeIndex: 1880464 entries, 0 to 1880463\n",
      "Data columns (total 39 columns):\n",
      " #   Column                    Dtype  \n",
      "---  ------                    -----  \n",
      " 0   1                         int64  \n",
      " 1   1.1                       int64  \n",
      " 2   FS-1418826                object \n",
      " 3   FED                       object \n",
      " 4   FS-FIRESTAT               object \n",
      " 5   FS                        object \n",
      " 6   USCAPNF                   object \n",
      " 7   Plumas National Forest    object \n",
      " 8   0511                      object \n",
      " 9   Plumas National Forest.1  object \n",
      " 10  1.2                       object \n",
      " 11  PNF-47                    object \n",
      " 12  BJ8K                      object \n",
      " 13  FOUNTAIN                  object \n",
      " 14  Unnamed: 14               object \n",
      " 15  Unnamed: 15               object \n",
      " 16  Unnamed: 16               object \n",
      " 17  Unnamed: 17               object \n",
      " 18  Unnamed: 18               object \n",
      " 19  2005                      int64  \n",
      " 20  2453403.5                 float64\n",
      " 21  33                        int64  \n",
      " 22  1300                      float64\n",
      " 23  9                         int64  \n",
      " 24  Miscellaneous             object \n",
      " 25  2453403.5.1               float64\n",
      " 26  33.1                      float64\n",
      " 27  1730                      float64\n",
      " 28  0.1                       float64\n",
      " 29  A                         object \n",
      " 30  40.03694444               float64\n",
      " 31  -121.00583333             float64\n",
      " 32  5                         int64  \n",
      " 33  USFS                      object \n",
      " 34  CA                        object \n",
      " 35  63                        object \n",
      " 36  063                       float64\n",
      " 37  Plumas                    object \n",
      " 38  Unnamed: 38               float64\n",
      "dtypes: float64(10), int64(6), object(23)\n",
      "memory usage: 559.5+ MB\n"
     ]
    }
   ],
   "source": [
    "data.info()"
   ]
  },
  {
   "cell_type": "code",
   "execution_count": 5,
   "metadata": {},
   "outputs": [
    {
     "data": {
      "text/html": [
       "<div>\n",
       "<style scoped>\n",
       "    .dataframe tbody tr th:only-of-type {\n",
       "        vertical-align: middle;\n",
       "    }\n",
       "\n",
       "    .dataframe tbody tr th {\n",
       "        vertical-align: top;\n",
       "    }\n",
       "\n",
       "    .dataframe thead th {\n",
       "        text-align: right;\n",
       "    }\n",
       "</style>\n",
       "<table border=\"1\" class=\"dataframe\">\n",
       "  <thead>\n",
       "    <tr style=\"text-align: right;\">\n",
       "      <th></th>\n",
       "      <th>1</th>\n",
       "      <th>1.1</th>\n",
       "      <th>2005</th>\n",
       "      <th>2453403.5</th>\n",
       "      <th>33</th>\n",
       "      <th>1300</th>\n",
       "      <th>9</th>\n",
       "      <th>2453403.5.1</th>\n",
       "      <th>33.1</th>\n",
       "      <th>1730</th>\n",
       "      <th>0.1</th>\n",
       "      <th>40.03694444</th>\n",
       "      <th>-121.00583333</th>\n",
       "      <th>5</th>\n",
       "      <th>063</th>\n",
       "      <th>Unnamed: 38</th>\n",
       "    </tr>\n",
       "  </thead>\n",
       "  <tbody>\n",
       "    <tr>\n",
       "      <th>count</th>\n",
       "      <td>1.880464e+06</td>\n",
       "      <td>1.880464e+06</td>\n",
       "      <td>1.880464e+06</td>\n",
       "      <td>1.880464e+06</td>\n",
       "      <td>1.880464e+06</td>\n",
       "      <td>997826.000000</td>\n",
       "      <td>1.880464e+06</td>\n",
       "      <td>9.889330e+05</td>\n",
       "      <td>988933.000000</td>\n",
       "      <td>907911.000000</td>\n",
       "      <td>1.880464e+06</td>\n",
       "      <td>1.880464e+06</td>\n",
       "      <td>1.880464e+06</td>\n",
       "      <td>1.880464e+06</td>\n",
       "      <td>1.202316e+06</td>\n",
       "      <td>0.0</td>\n",
       "    </tr>\n",
       "    <tr>\n",
       "      <th>mean</th>\n",
       "      <td>9.402335e+05</td>\n",
       "      <td>5.484023e+07</td>\n",
       "      <td>2.003710e+03</td>\n",
       "      <td>2.453064e+06</td>\n",
       "      <td>1.647192e+02</td>\n",
       "      <td>1453.014479</td>\n",
       "      <td>5.979035e+00</td>\n",
       "      <td>2.453238e+06</td>\n",
       "      <td>172.656907</td>\n",
       "      <td>1534.831865</td>\n",
       "      <td>7.452020e+01</td>\n",
       "      <td>3.678121e+01</td>\n",
       "      <td>-9.570493e+01</td>\n",
       "      <td>1.059658e+01</td>\n",
       "      <td>9.578353e+01</td>\n",
       "      <td>NaN</td>\n",
       "    </tr>\n",
       "    <tr>\n",
       "      <th>std</th>\n",
       "      <td>5.428433e+05</td>\n",
       "      <td>1.011963e+08</td>\n",
       "      <td>6.663100e+00</td>\n",
       "      <td>2.434574e+03</td>\n",
       "      <td>9.003888e+01</td>\n",
       "      <td>405.961137</td>\n",
       "      <td>3.483860e+00</td>\n",
       "      <td>2.687549e+03</td>\n",
       "      <td>84.320273</td>\n",
       "      <td>432.737884</td>\n",
       "      <td>2.497599e+03</td>\n",
       "      <td>6.139032e+00</td>\n",
       "      <td>1.671694e+01</td>\n",
       "      <td>4.404661e+00</td>\n",
       "      <td>9.861509e+01</td>\n",
       "      <td>NaN</td>\n",
       "    </tr>\n",
       "    <tr>\n",
       "      <th>min</th>\n",
       "      <td>2.000000e+00</td>\n",
       "      <td>2.000000e+00</td>\n",
       "      <td>1.992000e+03</td>\n",
       "      <td>2.448622e+06</td>\n",
       "      <td>1.000000e+00</td>\n",
       "      <td>0.000000</td>\n",
       "      <td>1.000000e+00</td>\n",
       "      <td>2.448622e+06</td>\n",
       "      <td>1.000000</td>\n",
       "      <td>0.000000</td>\n",
       "      <td>1.000000e-05</td>\n",
       "      <td>1.793972e+01</td>\n",
       "      <td>-1.788026e+02</td>\n",
       "      <td>0.000000e+00</td>\n",
       "      <td>1.000000e+00</td>\n",
       "      <td>NaN</td>\n",
       "    </tr>\n",
       "    <tr>\n",
       "      <th>25%</th>\n",
       "      <td>4.701178e+05</td>\n",
       "      <td>5.055008e+05</td>\n",
       "      <td>1.998000e+03</td>\n",
       "      <td>2.451084e+06</td>\n",
       "      <td>8.900000e+01</td>\n",
       "      <td>1240.000000</td>\n",
       "      <td>3.000000e+00</td>\n",
       "      <td>2.450700e+06</td>\n",
       "      <td>102.000000</td>\n",
       "      <td>1310.000000</td>\n",
       "      <td>1.000000e-01</td>\n",
       "      <td>3.281860e+01</td>\n",
       "      <td>-1.103632e+02</td>\n",
       "      <td>8.000000e+00</td>\n",
       "      <td>2.900000e+01</td>\n",
       "      <td>NaN</td>\n",
       "    </tr>\n",
       "    <tr>\n",
       "      <th>50%</th>\n",
       "      <td>9.402335e+05</td>\n",
       "      <td>1.067762e+06</td>\n",
       "      <td>2.004000e+03</td>\n",
       "      <td>2.453178e+06</td>\n",
       "      <td>1.640000e+02</td>\n",
       "      <td>1457.000000</td>\n",
       "      <td>5.000000e+00</td>\n",
       "      <td>2.453466e+06</td>\n",
       "      <td>181.000000</td>\n",
       "      <td>1600.000000</td>\n",
       "      <td>1.000000e+00</td>\n",
       "      <td>3.545250e+01</td>\n",
       "      <td>-9.204293e+01</td>\n",
       "      <td>1.400000e+01</td>\n",
       "      <td>6.700000e+01</td>\n",
       "      <td>NaN</td>\n",
       "    </tr>\n",
       "    <tr>\n",
       "      <th>75%</th>\n",
       "      <td>1.410349e+06</td>\n",
       "      <td>1.910639e+07</td>\n",
       "      <td>2.009000e+03</td>\n",
       "      <td>2.455036e+06</td>\n",
       "      <td>2.300000e+02</td>\n",
       "      <td>1708.000000</td>\n",
       "      <td>9.000000e+00</td>\n",
       "      <td>2.455754e+06</td>\n",
       "      <td>232.000000</td>\n",
       "      <td>1810.000000</td>\n",
       "      <td>3.300000e+00</td>\n",
       "      <td>4.082720e+01</td>\n",
       "      <td>-8.229760e+01</td>\n",
       "      <td>1.400000e+01</td>\n",
       "      <td>1.210000e+02</td>\n",
       "      <td>NaN</td>\n",
       "    </tr>\n",
       "    <tr>\n",
       "      <th>max</th>\n",
       "      <td>1.880465e+06</td>\n",
       "      <td>3.003484e+08</td>\n",
       "      <td>2.015000e+03</td>\n",
       "      <td>2.457388e+06</td>\n",
       "      <td>3.660000e+02</td>\n",
       "      <td>2359.000000</td>\n",
       "      <td>1.300000e+01</td>\n",
       "      <td>2.457392e+06</td>\n",
       "      <td>366.000000</td>\n",
       "      <td>2359.000000</td>\n",
       "      <td>6.069450e+05</td>\n",
       "      <td>7.033060e+01</td>\n",
       "      <td>-6.525694e+01</td>\n",
       "      <td>1.500000e+01</td>\n",
       "      <td>8.100000e+02</td>\n",
       "      <td>NaN</td>\n",
       "    </tr>\n",
       "  </tbody>\n",
       "</table>\n",
       "</div>"
      ],
      "text/plain": [
       "                  1           1.1          2005     2453403.5            33  \\\n",
       "count  1.880464e+06  1.880464e+06  1.880464e+06  1.880464e+06  1.880464e+06   \n",
       "mean   9.402335e+05  5.484023e+07  2.003710e+03  2.453064e+06  1.647192e+02   \n",
       "std    5.428433e+05  1.011963e+08  6.663100e+00  2.434574e+03  9.003888e+01   \n",
       "min    2.000000e+00  2.000000e+00  1.992000e+03  2.448622e+06  1.000000e+00   \n",
       "25%    4.701178e+05  5.055008e+05  1.998000e+03  2.451084e+06  8.900000e+01   \n",
       "50%    9.402335e+05  1.067762e+06  2.004000e+03  2.453178e+06  1.640000e+02   \n",
       "75%    1.410349e+06  1.910639e+07  2.009000e+03  2.455036e+06  2.300000e+02   \n",
       "max    1.880465e+06  3.003484e+08  2.015000e+03  2.457388e+06  3.660000e+02   \n",
       "\n",
       "                1300             9   2453403.5.1           33.1  \\\n",
       "count  997826.000000  1.880464e+06  9.889330e+05  988933.000000   \n",
       "mean     1453.014479  5.979035e+00  2.453238e+06     172.656907   \n",
       "std       405.961137  3.483860e+00  2.687549e+03      84.320273   \n",
       "min         0.000000  1.000000e+00  2.448622e+06       1.000000   \n",
       "25%      1240.000000  3.000000e+00  2.450700e+06     102.000000   \n",
       "50%      1457.000000  5.000000e+00  2.453466e+06     181.000000   \n",
       "75%      1708.000000  9.000000e+00  2.455754e+06     232.000000   \n",
       "max      2359.000000  1.300000e+01  2.457392e+06     366.000000   \n",
       "\n",
       "                1730           0.1   40.03694444  -121.00583333             5  \\\n",
       "count  907911.000000  1.880464e+06  1.880464e+06   1.880464e+06  1.880464e+06   \n",
       "mean     1534.831865  7.452020e+01  3.678121e+01  -9.570493e+01  1.059658e+01   \n",
       "std       432.737884  2.497599e+03  6.139032e+00   1.671694e+01  4.404661e+00   \n",
       "min         0.000000  1.000000e-05  1.793972e+01  -1.788026e+02  0.000000e+00   \n",
       "25%      1310.000000  1.000000e-01  3.281860e+01  -1.103632e+02  8.000000e+00   \n",
       "50%      1600.000000  1.000000e+00  3.545250e+01  -9.204293e+01  1.400000e+01   \n",
       "75%      1810.000000  3.300000e+00  4.082720e+01  -8.229760e+01  1.400000e+01   \n",
       "max      2359.000000  6.069450e+05  7.033060e+01  -6.525694e+01  1.500000e+01   \n",
       "\n",
       "                063  Unnamed: 38  \n",
       "count  1.202316e+06          0.0  \n",
       "mean   9.578353e+01          NaN  \n",
       "std    9.861509e+01          NaN  \n",
       "min    1.000000e+00          NaN  \n",
       "25%    2.900000e+01          NaN  \n",
       "50%    6.700000e+01          NaN  \n",
       "75%    1.210000e+02          NaN  \n",
       "max    8.100000e+02          NaN  "
      ]
     },
     "execution_count": 5,
     "metadata": {},
     "output_type": "execute_result"
    }
   ],
   "source": [
    "data.describe()"
   ]
  },
  {
   "cell_type": "code",
   "execution_count": 6,
   "metadata": {},
   "outputs": [
    {
     "data": {
      "text/plain": [
       "array([False, False, False, False, False, False, False, False, False,\n",
       "       False, False, False, False, False, False, False, False, False,\n",
       "       False, False, False, False, False, False, False, False, False,\n",
       "       False, False, False, False, False, False, False, False, False,\n",
       "       False, False, False])"
      ]
     },
     "execution_count": 6,
     "metadata": {},
     "output_type": "execute_result"
    }
   ],
   "source": [
    "data.columns.isna()"
   ]
  },
  {
   "cell_type": "code",
   "execution_count": 7,
   "metadata": {},
   "outputs": [
    {
     "name": "stdout",
     "output_type": "stream",
     "text": [
      "Index(['1', '1.1', 'FS-1418826', 'FED', 'FS-FIRESTAT', 'FS', 'USCAPNF',\n",
      "       'Plumas National Forest', '0511', 'Plumas National Forest.1', '1.2',\n",
      "       'PNF-47', 'BJ8K', 'FOUNTAIN', 'Unnamed: 14', 'Unnamed: 15',\n",
      "       'Unnamed: 16', 'Unnamed: 17', 'Unnamed: 18', '2005', '2453403.5', '33',\n",
      "       '1300', '9', 'Miscellaneous', '2453403.5.1', '33.1', '1730', '0.1', 'A',\n",
      "       '40.03694444', '-121.00583333', '5', 'USFS', 'CA', '63', '063',\n",
      "       'Plumas', 'Unnamed: 38'],\n",
      "      dtype='object')\n"
     ]
    }
   ],
   "source": [
    "print(data.columns)"
   ]
  },
  {
   "cell_type": "markdown",
   "metadata": {},
   "source": [
    "# 2.1 Column Name Cleanup"
   ]
  },
  {
   "cell_type": "code",
   "execution_count": 8,
   "metadata": {},
   "outputs": [],
   "source": [
    "data = data.drop(columns=[\"1\", \"1.1\"])"
   ]
  },
  {
   "cell_type": "code",
   "execution_count": 9,
   "metadata": {},
   "outputs": [],
   "source": [
    "data.columns = [\"FOD_ID\", \"FPA_ID\", \"SOURCESYSTEMTYPE\", \"SOURCESYSTEM\", \"NWCGREPORTINGAGENCY\", \"NWCGREPORTINGUNIT_ID\", \"SOURCEREPORTINGUNIT_NAME\", \"LOCALFIREREPORT_ID\", \"LOCALINCIDENTID\", \"FIRE_CODE\", \"FIRE_NAME\", \"ICS209INCIDENT_NUMBER\", \"ICS209NAME\", \"MTBS_ID\", \"MTBSFIRENAME\", \"COMPLEX_NAME\", \"EMPTY\", \"FIRE_YEAR\", \"DISCOVERY_DATE\", \"DISCOVERY_DOY\", \"DISCOVERY_TIME\", \"STATCAUSECODE\", \"STATCAUSEDESCR\", \"CONT_DATE\", \"CONT_DOY\", \"CONT_TIME\", \"FIRE_SIZE\", \"FIRESIZECLASS\", \"LATITUDE\", \"LONGITUDE\", \"OWNER_CODE\", \"OWNER_DESCR\", \"STATE\", \"DELETE!\",\"DELETE\", \"DELETE2\", \"DELETE3\"]"
   ]
  },
  {
   "cell_type": "code",
   "execution_count": 10,
   "metadata": {},
   "outputs": [],
   "source": [
    "data = data.drop(columns=[\"DELETE!\", \"DELETE\", \"DELETE2\", \"DELETE3\"])"
   ]
  },
  {
   "cell_type": "code",
   "execution_count": 11,
   "metadata": {},
   "outputs": [
    {
     "data": {
      "text/html": [
       "<div>\n",
       "<style scoped>\n",
       "    .dataframe tbody tr th:only-of-type {\n",
       "        vertical-align: middle;\n",
       "    }\n",
       "\n",
       "    .dataframe tbody tr th {\n",
       "        vertical-align: top;\n",
       "    }\n",
       "\n",
       "    .dataframe thead th {\n",
       "        text-align: right;\n",
       "    }\n",
       "</style>\n",
       "<table border=\"1\" class=\"dataframe\">\n",
       "  <thead>\n",
       "    <tr style=\"text-align: right;\">\n",
       "      <th></th>\n",
       "      <th>FOD_ID</th>\n",
       "      <th>FPA_ID</th>\n",
       "      <th>SOURCESYSTEMTYPE</th>\n",
       "      <th>SOURCESYSTEM</th>\n",
       "      <th>NWCGREPORTINGAGENCY</th>\n",
       "      <th>NWCGREPORTINGUNIT_ID</th>\n",
       "      <th>SOURCEREPORTINGUNIT_NAME</th>\n",
       "      <th>LOCALFIREREPORT_ID</th>\n",
       "      <th>LOCALINCIDENTID</th>\n",
       "      <th>FIRE_CODE</th>\n",
       "      <th>...</th>\n",
       "      <th>CONT_DATE</th>\n",
       "      <th>CONT_DOY</th>\n",
       "      <th>CONT_TIME</th>\n",
       "      <th>FIRE_SIZE</th>\n",
       "      <th>FIRESIZECLASS</th>\n",
       "      <th>LATITUDE</th>\n",
       "      <th>LONGITUDE</th>\n",
       "      <th>OWNER_CODE</th>\n",
       "      <th>OWNER_DESCR</th>\n",
       "      <th>STATE</th>\n",
       "    </tr>\n",
       "  </thead>\n",
       "  <tbody>\n",
       "    <tr>\n",
       "      <th>0</th>\n",
       "      <td>FS-1418827</td>\n",
       "      <td>FED</td>\n",
       "      <td>FS-FIRESTAT</td>\n",
       "      <td>FS</td>\n",
       "      <td>USCAENF</td>\n",
       "      <td>Eldorado National Forest</td>\n",
       "      <td>503</td>\n",
       "      <td>Eldorado National Forest</td>\n",
       "      <td>13</td>\n",
       "      <td>13</td>\n",
       "      <td>...</td>\n",
       "      <td>2453137.5</td>\n",
       "      <td>133.0</td>\n",
       "      <td>1530.0</td>\n",
       "      <td>0.25</td>\n",
       "      <td>A</td>\n",
       "      <td>38.933056</td>\n",
       "      <td>-120.404444</td>\n",
       "      <td>5</td>\n",
       "      <td>USFS</td>\n",
       "      <td>CA</td>\n",
       "    </tr>\n",
       "    <tr>\n",
       "      <th>1</th>\n",
       "      <td>FS-1418835</td>\n",
       "      <td>FED</td>\n",
       "      <td>FS-FIRESTAT</td>\n",
       "      <td>FS</td>\n",
       "      <td>USCAENF</td>\n",
       "      <td>Eldorado National Forest</td>\n",
       "      <td>503</td>\n",
       "      <td>Eldorado National Forest</td>\n",
       "      <td>27</td>\n",
       "      <td>021</td>\n",
       "      <td>...</td>\n",
       "      <td>2453156.5</td>\n",
       "      <td>152.0</td>\n",
       "      <td>2024.0</td>\n",
       "      <td>0.10</td>\n",
       "      <td>A</td>\n",
       "      <td>38.984167</td>\n",
       "      <td>-120.735556</td>\n",
       "      <td>13</td>\n",
       "      <td>STATE OR PRIVATE</td>\n",
       "      <td>CA</td>\n",
       "    </tr>\n",
       "    <tr>\n",
       "      <th>2</th>\n",
       "      <td>FS-1418845</td>\n",
       "      <td>FED</td>\n",
       "      <td>FS-FIRESTAT</td>\n",
       "      <td>FS</td>\n",
       "      <td>USCAENF</td>\n",
       "      <td>Eldorado National Forest</td>\n",
       "      <td>503</td>\n",
       "      <td>Eldorado National Forest</td>\n",
       "      <td>43</td>\n",
       "      <td>6</td>\n",
       "      <td>...</td>\n",
       "      <td>2453189.5</td>\n",
       "      <td>185.0</td>\n",
       "      <td>1400.0</td>\n",
       "      <td>0.10</td>\n",
       "      <td>A</td>\n",
       "      <td>38.559167</td>\n",
       "      <td>-119.913333</td>\n",
       "      <td>5</td>\n",
       "      <td>USFS</td>\n",
       "      <td>CA</td>\n",
       "    </tr>\n",
       "    <tr>\n",
       "      <th>3</th>\n",
       "      <td>FS-1418847</td>\n",
       "      <td>FED</td>\n",
       "      <td>FS-FIRESTAT</td>\n",
       "      <td>FS</td>\n",
       "      <td>USCAENF</td>\n",
       "      <td>Eldorado National Forest</td>\n",
       "      <td>503</td>\n",
       "      <td>Eldorado National Forest</td>\n",
       "      <td>44</td>\n",
       "      <td>7</td>\n",
       "      <td>...</td>\n",
       "      <td>2453189.5</td>\n",
       "      <td>185.0</td>\n",
       "      <td>1200.0</td>\n",
       "      <td>0.10</td>\n",
       "      <td>A</td>\n",
       "      <td>38.559167</td>\n",
       "      <td>-119.933056</td>\n",
       "      <td>5</td>\n",
       "      <td>USFS</td>\n",
       "      <td>CA</td>\n",
       "    </tr>\n",
       "    <tr>\n",
       "      <th>4</th>\n",
       "      <td>FS-1418849</td>\n",
       "      <td>FED</td>\n",
       "      <td>FS-FIRESTAT</td>\n",
       "      <td>FS</td>\n",
       "      <td>USCAENF</td>\n",
       "      <td>Eldorado National Forest</td>\n",
       "      <td>503</td>\n",
       "      <td>Eldorado National Forest</td>\n",
       "      <td>54</td>\n",
       "      <td>8</td>\n",
       "      <td>...</td>\n",
       "      <td>2453187.5</td>\n",
       "      <td>183.0</td>\n",
       "      <td>1600.0</td>\n",
       "      <td>0.10</td>\n",
       "      <td>A</td>\n",
       "      <td>38.635278</td>\n",
       "      <td>-120.103611</td>\n",
       "      <td>5</td>\n",
       "      <td>USFS</td>\n",
       "      <td>CA</td>\n",
       "    </tr>\n",
       "  </tbody>\n",
       "</table>\n",
       "<p>5 rows × 33 columns</p>\n",
       "</div>"
      ],
      "text/plain": [
       "       FOD_ID FPA_ID SOURCESYSTEMTYPE SOURCESYSTEM NWCGREPORTINGAGENCY  \\\n",
       "0  FS-1418827    FED      FS-FIRESTAT           FS             USCAENF   \n",
       "1  FS-1418835    FED      FS-FIRESTAT           FS             USCAENF   \n",
       "2  FS-1418845    FED      FS-FIRESTAT           FS             USCAENF   \n",
       "3  FS-1418847    FED      FS-FIRESTAT           FS             USCAENF   \n",
       "4  FS-1418849    FED      FS-FIRESTAT           FS             USCAENF   \n",
       "\n",
       "       NWCGREPORTINGUNIT_ID SOURCEREPORTINGUNIT_NAME  \\\n",
       "0  Eldorado National Forest                      503   \n",
       "1  Eldorado National Forest                      503   \n",
       "2  Eldorado National Forest                      503   \n",
       "3  Eldorado National Forest                      503   \n",
       "4  Eldorado National Forest                      503   \n",
       "\n",
       "         LOCALFIREREPORT_ID LOCALINCIDENTID FIRE_CODE  ...  CONT_DATE  \\\n",
       "0  Eldorado National Forest              13        13  ...  2453137.5   \n",
       "1  Eldorado National Forest              27       021  ...  2453156.5   \n",
       "2  Eldorado National Forest              43         6  ...  2453189.5   \n",
       "3  Eldorado National Forest              44         7  ...  2453189.5   \n",
       "4  Eldorado National Forest              54         8  ...  2453187.5   \n",
       "\n",
       "  CONT_DOY CONT_TIME FIRE_SIZE FIRESIZECLASS   LATITUDE   LONGITUDE  \\\n",
       "0    133.0    1530.0      0.25             A  38.933056 -120.404444   \n",
       "1    152.0    2024.0      0.10             A  38.984167 -120.735556   \n",
       "2    185.0    1400.0      0.10             A  38.559167 -119.913333   \n",
       "3    185.0    1200.0      0.10             A  38.559167 -119.933056   \n",
       "4    183.0    1600.0      0.10             A  38.635278 -120.103611   \n",
       "\n",
       "   OWNER_CODE       OWNER_DESCR  STATE  \n",
       "0           5              USFS     CA  \n",
       "1          13  STATE OR PRIVATE     CA  \n",
       "2           5              USFS     CA  \n",
       "3           5              USFS     CA  \n",
       "4           5              USFS     CA  \n",
       "\n",
       "[5 rows x 33 columns]"
      ]
     },
     "execution_count": 11,
     "metadata": {},
     "output_type": "execute_result"
    }
   ],
   "source": [
    "data.head()"
   ]
  },
  {
   "cell_type": "code",
   "execution_count": 12,
   "metadata": {},
   "outputs": [
    {
     "name": "stdout",
     "output_type": "stream",
     "text": [
      "Index(['FOD_ID', 'FPA_ID', 'SOURCESYSTEMTYPE', 'SOURCESYSTEM',\n",
      "       'NWCGREPORTINGAGENCY', 'NWCGREPORTINGUNIT_ID',\n",
      "       'SOURCEREPORTINGUNIT_NAME', 'LOCALFIREREPORT_ID', 'LOCALINCIDENTID',\n",
      "       'FIRE_CODE', 'FIRE_NAME', 'ICS209INCIDENT_NUMBER', 'ICS209NAME',\n",
      "       'MTBS_ID', 'MTBSFIRENAME', 'COMPLEX_NAME', 'EMPTY', 'FIRE_YEAR',\n",
      "       'DISCOVERY_DATE', 'DISCOVERY_DOY', 'DISCOVERY_TIME', 'STATCAUSECODE',\n",
      "       'STATCAUSEDESCR', 'CONT_DATE', 'CONT_DOY', 'CONT_TIME', 'FIRE_SIZE',\n",
      "       'FIRESIZECLASS', 'LATITUDE', 'LONGITUDE', 'OWNER_CODE', 'OWNER_DESCR',\n",
      "       'STATE'],\n",
      "      dtype='object')\n"
     ]
    }
   ],
   "source": [
    "print(data.columns)"
   ]
  },
  {
   "cell_type": "markdown",
   "metadata": {},
   "source": [
    "# 2.2 Visualizations"
   ]
  },
  {
   "cell_type": "code",
   "execution_count": 13,
   "metadata": {},
   "outputs": [
    {
     "data": {
      "text/plain": [
       "<AxesSubplot:xlabel='FIRE_YEAR', ylabel='Count'>"
      ]
     },
     "execution_count": 13,
     "metadata": {},
     "output_type": "execute_result"
    },
    {
     "data": {
      "image/png": "[encoded data removed]",
      "text/plain": [
       "<Figure size 432x288 with 1 Axes>"
      ]
     },
     "metadata": {
      "needs_background": "light"
     },
     "output_type": "display_data"
    }
   ],
   "source": [
    "sns.histplot(data[\"FIRE_YEAR\"])"
   ]
  },
  {
   "cell_type": "code",
   "execution_count": 14,
   "metadata": {},
   "outputs": [
    {
     "data": {
      "text/plain": [
       "<AxesSubplot:xlabel='DISCOVERY_DOY', ylabel='Count'>"
      ]
     },
     "execution_count": 14,
     "metadata": {},
     "output_type": "execute_result"
    },
    {
     "data": {
      "image/png": "[encoded data removed]",
      "text/plain": [
       "<Figure size 432x288 with 1 Axes>"
      ]
     },
     "metadata": {
      "needs_background": "light"
     },
     "output_type": "display_data"
    }
   ],
   "source": [
    "sns.histplot(data[\"DISCOVERY_DOY\"])"
   ]
  },
  {
   "cell_type": "code",
   "execution_count": 15,
   "metadata": {},
   "outputs": [
    {
     "name": "stderr",
     "output_type": "stream",
     "text": [
      "/Users/diane/opt/anaconda3/lib/python3.8/site-packages/seaborn/_decorators.py:36: FutureWarning: Pass the following variable as a keyword arg: x. From version 0.12, the only valid positional argument will be `data`, and passing other arguments without an explicit keyword will result in an error or misinterpretation.\n",
      "  warnings.warn(\n"
     ]
    },
    {
     "data": {
      "text/plain": [
       "<AxesSubplot:xlabel='STATE', ylabel='count'>"
      ]
     },
     "execution_count": 15,
     "metadata": {},
     "output_type": "execute_result"
    },
    {
     "data": {
      "image/png": "[encoded data removed]",
      "text/plain": [
       "<Figure size 1080x288 with 1 Axes>"
      ]
     },
     "metadata": {
      "needs_background": "light"
     },
     "output_type": "display_data"
    }
   ],
   "source": [
    "plt.figure(figsize=(15,4))\n",
    "sns.countplot(data[\"STATE\"])"
   ]
  },
  {
   "cell_type": "code",
   "execution_count": 16,
   "metadata": {},
   "outputs": [
    {
     "data": {
      "text/plain": [
       "<AxesSubplot:xlabel='STATE', ylabel='FIRE_SIZE'>"
      ]
     },
     "execution_count": 16,
     "metadata": {},
     "output_type": "execute_result"
    },
    {
     "data": {
      "image/png": "[encoded data removed]",
      "text/plain": [
       "<Figure size 1080x288 with 1 Axes>"
      ]
     },
     "metadata": {
      "needs_background": "light"
     },
     "output_type": "display_data"
    }
   ],
   "source": [
    "plt.figure(figsize=(15,4))\n",
    "sns.barplot(data=data, x=data[\"STATE\"], y=data[\"FIRE_SIZE\"])"
   ]
  },
  {
   "cell_type": "code",
   "execution_count": 17,
   "metadata": {},
   "outputs": [
    {
     "data": {
      "text/plain": [
       "<AxesSubplot:xlabel='FIRE_YEAR', ylabel='FIRE_SIZE'>"
      ]
     },
     "execution_count": 17,
     "metadata": {},
     "output_type": "execute_result"
    },
    {
     "data": {
      "image/png": "[encoded data removed]",
      "text/plain": [
       "<Figure size 576x288 with 1 Axes>"
      ]
     },
     "metadata": {
      "needs_background": "light"
     },
     "output_type": "display_data"
    }
   ],
   "source": [
    "plt.figure(figsize=(8,4))\n",
    "sns.barplot(data=data, x=data[\"FIRE_YEAR\"], y=data[\"FIRE_SIZE\"])"
   ]
  },
  {
   "cell_type": "markdown",
   "metadata": {},
   "source": [
    "# 2.3 Drop Columns"
   ]
  },
  {
   "cell_type": "code",
   "execution_count": 18,
   "metadata": {},
   "outputs": [
    {
     "data": {
      "text/plain": [
       "FOD_ID                            0\n",
       "FPA_ID                            0\n",
       "SOURCESYSTEMTYPE                  0\n",
       "SOURCESYSTEM                      0\n",
       "NWCGREPORTINGAGENCY               0\n",
       "NWCGREPORTINGUNIT_ID              0\n",
       "SOURCEREPORTINGUNIT_NAME          0\n",
       "LOCALFIREREPORT_ID                0\n",
       "LOCALINCIDENTID             1459286\n",
       "FIRE_CODE                    820821\n",
       "FIRE_NAME                   1555741\n",
       "ICS209INCIDENT_NUMBER        960479\n",
       "ICS209NAME                  1854747\n",
       "MTBS_ID                     1854747\n",
       "MTBSFIRENAME                1869461\n",
       "COMPLEX_NAME                1869461\n",
       "EMPTY                       1875281\n",
       "FIRE_YEAR                         0\n",
       "DISCOVERY_DATE                    0\n",
       "DISCOVERY_DOY                     0\n",
       "DISCOVERY_TIME               882638\n",
       "STATCAUSECODE                     0\n",
       "STATCAUSEDESCR                    0\n",
       "CONT_DATE                    891531\n",
       "CONT_DOY                     891531\n",
       "CONT_TIME                    972553\n",
       "FIRE_SIZE                         0\n",
       "FIRESIZECLASS                     0\n",
       "LATITUDE                          0\n",
       "LONGITUDE                         0\n",
       "OWNER_CODE                        0\n",
       "OWNER_DESCR                       0\n",
       "STATE                             0\n",
       "dtype: int64"
      ]
     },
     "execution_count": 18,
     "metadata": {},
     "output_type": "execute_result"
    }
   ],
   "source": [
    "data.isna().sum()\n"
   ]
  },
  {
   "cell_type": "code",
   "execution_count": 19,
   "metadata": {},
   "outputs": [],
   "source": [
    "data = data.drop(columns=[\"EMPTY\",\"LOCALINCIDENTID\", \"FIRE_CODE\",\"FIRE_NAME\",\"ICS209INCIDENT_NUMBER\", \"ICS209NAME\", \"MTBS_ID\",\"MTBSFIRENAME\",\"COMPLEX_NAME\", \"CONT_DATE\", \"CONT_DOY\", \"CONT_TIME\"])"
   ]
  },
  {
   "cell_type": "code",
   "execution_count": 20,
   "metadata": {},
   "outputs": [
    {
     "name": "stdout",
     "output_type": "stream",
     "text": [
      "Index(['FOD_ID', 'FPA_ID', 'SOURCESYSTEMTYPE', 'SOURCESYSTEM',\n",
      "       'NWCGREPORTINGAGENCY', 'NWCGREPORTINGUNIT_ID',\n",
      "       'SOURCEREPORTINGUNIT_NAME', 'LOCALFIREREPORT_ID', 'FIRE_YEAR',\n",
      "       'DISCOVERY_DATE', 'DISCOVERY_DOY', 'DISCOVERY_TIME', 'STATCAUSECODE',\n",
      "       'STATCAUSEDESCR', 'FIRE_SIZE', 'FIRESIZECLASS', 'LATITUDE', 'LONGITUDE',\n",
      "       'OWNER_CODE', 'OWNER_DESCR', 'STATE'],\n",
      "      dtype='object')\n"
     ]
    }
   ],
   "source": [
    "print(data.columns)"
   ]
  },
  {
   "cell_type": "code",
   "execution_count": 21,
   "metadata": {},
   "outputs": [
    {
     "data": {
      "text/plain": [
       "FOD_ID                       object\n",
       "FPA_ID                       object\n",
       "SOURCESYSTEMTYPE             object\n",
       "SOURCESYSTEM                 object\n",
       "NWCGREPORTINGAGENCY          object\n",
       "NWCGREPORTINGUNIT_ID         object\n",
       "SOURCEREPORTINGUNIT_NAME     object\n",
       "LOCALFIREREPORT_ID           object\n",
       "FIRE_YEAR                     int64\n",
       "DISCOVERY_DATE              float64\n",
       "DISCOVERY_DOY                 int64\n",
       "DISCOVERY_TIME              float64\n",
       "STATCAUSECODE                 int64\n",
       "STATCAUSEDESCR               object\n",
       "FIRE_SIZE                   float64\n",
       "FIRESIZECLASS                object\n",
       "LATITUDE                    float64\n",
       "LONGITUDE                   float64\n",
       "OWNER_CODE                    int64\n",
       "OWNER_DESCR                  object\n",
       "STATE                        object\n",
       "dtype: object"
      ]
     },
     "execution_count": 21,
     "metadata": {},
     "output_type": "execute_result"
    }
   ],
   "source": [
    "data.dtypes"
   ]
  },
  {
   "cell_type": "markdown",
   "metadata": {},
   "source": [
    "# 2.4 Convert Dates"
   ]
  },
  {
   "cell_type": "code",
   "execution_count": 22,
   "metadata": {},
   "outputs": [
    {
     "data": {
      "text/plain": [
       "0           845.0\n",
       "1          1921.0\n",
       "2          1600.0\n",
       "3          1600.0\n",
       "4          1800.0\n",
       "            ...  \n",
       "1880459    1726.0\n",
       "1880460     126.0\n",
       "1880461    2052.0\n",
       "1880462    2309.0\n",
       "1880463    2128.0\n",
       "Name: DISCOVERY_TIME, Length: 1880464, dtype: float64"
      ]
     },
     "execution_count": 22,
     "metadata": {},
     "output_type": "execute_result"
    }
   ],
   "source": [
    "data[\"DISCOVERY_TIME\"]"
   ]
  },
  {
   "cell_type": "code",
   "execution_count": 23,
   "metadata": {},
   "outputs": [
    {
     "data": {
      "text/plain": [
       "<AxesSubplot:xlabel='DISCOVERY_TIME', ylabel='Count'>"
      ]
     },
     "execution_count": 23,
     "metadata": {},
     "output_type": "execute_result"
    },
    {
     "data": {
      "image/png": "[encoded data removed]",
      "text/plain": [
       "<Figure size 432x288 with 1 Axes>"
      ]
     },
     "metadata": {
      "needs_background": "light"
     },
     "output_type": "display_data"
    }
   ],
   "source": [
    "sns.histplot(data[\"DISCOVERY_TIME\"])"
   ]
  },
  {
   "cell_type": "code",
   "execution_count": 24,
   "metadata": {},
   "outputs": [
    {
     "data": {
      "text/plain": [
       "0          133\n",
       "1          152\n",
       "2          180\n",
       "3          180\n",
       "4          182\n",
       "          ... \n",
       "1880459    269\n",
       "1880460    278\n",
       "1880461    122\n",
       "1880462    287\n",
       "1880463     73\n",
       "Name: DISCOVERY_DOY, Length: 1880464, dtype: int64"
      ]
     },
     "execution_count": 24,
     "metadata": {},
     "output_type": "execute_result"
    }
   ],
   "source": [
    "data[\"DISCOVERY_DOY\"]"
   ]
  },
  {
   "cell_type": "code",
   "execution_count": 25,
   "metadata": {},
   "outputs": [
    {
     "data": {
      "text/plain": [
       "0          2453137.5\n",
       "1          2453156.5\n",
       "2          2453184.5\n",
       "3          2453184.5\n",
       "4          2453186.5\n",
       "             ...    \n",
       "1880459    2457291.5\n",
       "1880460    2457300.5\n",
       "1880461    2457144.5\n",
       "1880462    2457309.5\n",
       "1880463    2457095.5\n",
       "Name: DISCOVERY_DATE, Length: 1880464, dtype: float64"
      ]
     },
     "execution_count": 25,
     "metadata": {},
     "output_type": "execute_result"
    }
   ],
   "source": [
    "data[\"DISCOVERY_DATE\"]"
   ]
  },
  {
   "cell_type": "code",
   "execution_count": 26,
   "metadata": {},
   "outputs": [
    {
     "data": {
      "text/plain": [
       "0          2004\n",
       "1          2004\n",
       "2          2004\n",
       "3          2004\n",
       "4          2004\n",
       "           ... \n",
       "1880459    2015\n",
       "1880460    2015\n",
       "1880461    2015\n",
       "1880462    2015\n",
       "1880463    2015\n",
       "Name: FIRE_YEAR, Length: 1880464, dtype: int64"
      ]
     },
     "execution_count": 26,
     "metadata": {},
     "output_type": "execute_result"
    }
   ],
   "source": [
    "data[\"FIRE_YEAR\"]"
   ]
  },
  {
   "cell_type": "code",
   "execution_count": 27,
   "metadata": {},
   "outputs": [
    {
     "data": {
      "text/plain": [
       "0          2004133\n",
       "1          2004152\n",
       "2          2004180\n",
       "3          2004180\n",
       "4          2004182\n",
       "            ...   \n",
       "1880459    2015269\n",
       "1880460    2015278\n",
       "1880461    2015122\n",
       "1880462    2015287\n",
       "1880463     201573\n",
       "Name: Julian_Date, Length: 1880464, dtype: object"
      ]
     },
     "execution_count": 27,
     "metadata": {},
     "output_type": "execute_result"
    }
   ],
   "source": [
    "data[\"Julian_Date\"] = data[\"FIRE_YEAR\"].astype(str) + data[\"DISCOVERY_DOY\"].astype(str)\n",
    "data[\"Julian_Date\"]"
   ]
  },
  {
   "cell_type": "code",
   "execution_count": 28,
   "metadata": {},
   "outputs": [],
   "source": [
    "# code from: https://rafatieppo.github.io/post/2018_12_01_juliandate/ \n",
    "def julian_date_converter(julian_date):\n",
    "    date_format = '%Y%j'\n",
    "    converted_date = datetime.datetime.strptime(julian_date, date_format).date()\n",
    "    return converted_date"
   ]
  },
  {
   "cell_type": "code",
   "execution_count": 29,
   "metadata": {},
   "outputs": [
    {
     "data": {
      "text/plain": [
       "0          2004-05-12\n",
       "1          2004-05-31\n",
       "2          2004-06-28\n",
       "3          2004-06-28\n",
       "4          2004-06-30\n",
       "              ...    \n",
       "1880459    2015-09-26\n",
       "1880460    2015-10-05\n",
       "1880461    2015-05-02\n",
       "1880462    2015-10-14\n",
       "1880463    2015-03-14\n",
       "Name: Converted_Date, Length: 1880464, dtype: object"
      ]
     },
     "execution_count": 29,
     "metadata": {},
     "output_type": "execute_result"
    }
   ],
   "source": [
    "data['Converted_Date'] = data['Julian_Date'].map(lambda x: julian_date_converter(x))\n",
    "data['Converted_Date'] "
   ]
  },
  {
   "cell_type": "code",
   "execution_count": 30,
   "metadata": {},
   "outputs": [],
   "source": [
    "data[\"DISOVERY_MONTH\"] = data['Julian_Date'].map(lambda x: julian_date_converter(x).month)\n",
    "data[\"DISOVERY_DAY\"] = data['Julian_Date'].map(lambda x: julian_date_converter(x).day)"
   ]
  },
  {
   "cell_type": "code",
   "execution_count": 31,
   "metadata": {},
   "outputs": [
    {
     "data": {
      "text/plain": [
       "0           5\n",
       "1           5\n",
       "2           6\n",
       "3           6\n",
       "4           6\n",
       "           ..\n",
       "1880459     9\n",
       "1880460    10\n",
       "1880461     5\n",
       "1880462    10\n",
       "1880463     3\n",
       "Name: DISOVERY_MONTH, Length: 1880464, dtype: int64"
      ]
     },
     "execution_count": 31,
     "metadata": {},
     "output_type": "execute_result"
    }
   ],
   "source": [
    "data[\"DISOVERY_MONTH\"]"
   ]
  },
  {
   "cell_type": "code",
   "execution_count": 32,
   "metadata": {},
   "outputs": [
    {
     "data": {
      "text/plain": [
       "0          12\n",
       "1          31\n",
       "2          28\n",
       "3          28\n",
       "4          30\n",
       "           ..\n",
       "1880459    26\n",
       "1880460     5\n",
       "1880461     2\n",
       "1880462    14\n",
       "1880463    14\n",
       "Name: DISOVERY_DAY, Length: 1880464, dtype: int64"
      ]
     },
     "execution_count": 32,
     "metadata": {},
     "output_type": "execute_result"
    }
   ],
   "source": [
    "data[\"DISOVERY_DAY\"]"
   ]
  },
  {
   "cell_type": "code",
   "execution_count": 33,
   "metadata": {},
   "outputs": [
    {
     "data": {
      "text/plain": [
       "Index(['FOD_ID', 'FPA_ID', 'SOURCESYSTEMTYPE', 'SOURCESYSTEM',\n",
       "       'NWCGREPORTINGAGENCY', 'NWCGREPORTINGUNIT_ID',\n",
       "       'SOURCEREPORTINGUNIT_NAME', 'LOCALFIREREPORT_ID', 'FIRE_YEAR',\n",
       "       'DISCOVERY_DATE', 'DISCOVERY_DOY', 'DISCOVERY_TIME', 'STATCAUSECODE',\n",
       "       'STATCAUSEDESCR', 'FIRE_SIZE', 'FIRESIZECLASS', 'LATITUDE', 'LONGITUDE',\n",
       "       'OWNER_CODE', 'OWNER_DESCR', 'STATE', 'Julian_Date', 'Converted_Date',\n",
       "       'DISOVERY_MONTH', 'DISOVERY_DAY'],\n",
       "      dtype='object')"
      ]
     },
     "execution_count": 33,
     "metadata": {},
     "output_type": "execute_result"
    }
   ],
   "source": [
    "data.columns"
   ]
  },
  {
   "cell_type": "code",
   "execution_count": 34,
   "metadata": {},
   "outputs": [
    {
     "data": {
      "text/html": [
       "<div>\n",
       "<style scoped>\n",
       "    .dataframe tbody tr th:only-of-type {\n",
       "        vertical-align: middle;\n",
       "    }\n",
       "\n",
       "    .dataframe tbody tr th {\n",
       "        vertical-align: top;\n",
       "    }\n",
       "\n",
       "    .dataframe thead th {\n",
       "        text-align: right;\n",
       "    }\n",
       "</style>\n",
       "<table border=\"1\" class=\"dataframe\">\n",
       "  <thead>\n",
       "    <tr style=\"text-align: right;\">\n",
       "      <th></th>\n",
       "      <th>FOD_ID</th>\n",
       "      <th>FPA_ID</th>\n",
       "      <th>SOURCESYSTEMTYPE</th>\n",
       "      <th>SOURCESYSTEM</th>\n",
       "      <th>NWCGREPORTINGAGENCY</th>\n",
       "      <th>NWCGREPORTINGUNIT_ID</th>\n",
       "      <th>SOURCEREPORTINGUNIT_NAME</th>\n",
       "      <th>LOCALFIREREPORT_ID</th>\n",
       "      <th>FIRE_YEAR</th>\n",
       "      <th>DISCOVERY_DATE</th>\n",
       "      <th>...</th>\n",
       "      <th>FIRESIZECLASS</th>\n",
       "      <th>LATITUDE</th>\n",
       "      <th>LONGITUDE</th>\n",
       "      <th>OWNER_CODE</th>\n",
       "      <th>OWNER_DESCR</th>\n",
       "      <th>STATE</th>\n",
       "      <th>Julian_Date</th>\n",
       "      <th>Converted_Date</th>\n",
       "      <th>DISOVERY_MONTH</th>\n",
       "      <th>DISOVERY_DAY</th>\n",
       "    </tr>\n",
       "  </thead>\n",
       "  <tbody>\n",
       "    <tr>\n",
       "      <th>0</th>\n",
       "      <td>FS-1418827</td>\n",
       "      <td>FED</td>\n",
       "      <td>FS-FIRESTAT</td>\n",
       "      <td>FS</td>\n",
       "      <td>USCAENF</td>\n",
       "      <td>Eldorado National Forest</td>\n",
       "      <td>503</td>\n",
       "      <td>Eldorado National Forest</td>\n",
       "      <td>2004</td>\n",
       "      <td>2453137.5</td>\n",
       "      <td>...</td>\n",
       "      <td>A</td>\n",
       "      <td>38.933056</td>\n",
       "      <td>-120.404444</td>\n",
       "      <td>5</td>\n",
       "      <td>USFS</td>\n",
       "      <td>CA</td>\n",
       "      <td>2004133</td>\n",
       "      <td>2004-05-12</td>\n",
       "      <td>5</td>\n",
       "      <td>12</td>\n",
       "    </tr>\n",
       "    <tr>\n",
       "      <th>1</th>\n",
       "      <td>FS-1418835</td>\n",
       "      <td>FED</td>\n",
       "      <td>FS-FIRESTAT</td>\n",
       "      <td>FS</td>\n",
       "      <td>USCAENF</td>\n",
       "      <td>Eldorado National Forest</td>\n",
       "      <td>503</td>\n",
       "      <td>Eldorado National Forest</td>\n",
       "      <td>2004</td>\n",
       "      <td>2453156.5</td>\n",
       "      <td>...</td>\n",
       "      <td>A</td>\n",
       "      <td>38.984167</td>\n",
       "      <td>-120.735556</td>\n",
       "      <td>13</td>\n",
       "      <td>STATE OR PRIVATE</td>\n",
       "      <td>CA</td>\n",
       "      <td>2004152</td>\n",
       "      <td>2004-05-31</td>\n",
       "      <td>5</td>\n",
       "      <td>31</td>\n",
       "    </tr>\n",
       "    <tr>\n",
       "      <th>2</th>\n",
       "      <td>FS-1418845</td>\n",
       "      <td>FED</td>\n",
       "      <td>FS-FIRESTAT</td>\n",
       "      <td>FS</td>\n",
       "      <td>USCAENF</td>\n",
       "      <td>Eldorado National Forest</td>\n",
       "      <td>503</td>\n",
       "      <td>Eldorado National Forest</td>\n",
       "      <td>2004</td>\n",
       "      <td>2453184.5</td>\n",
       "      <td>...</td>\n",
       "      <td>A</td>\n",
       "      <td>38.559167</td>\n",
       "      <td>-119.913333</td>\n",
       "      <td>5</td>\n",
       "      <td>USFS</td>\n",
       "      <td>CA</td>\n",
       "      <td>2004180</td>\n",
       "      <td>2004-06-28</td>\n",
       "      <td>6</td>\n",
       "      <td>28</td>\n",
       "    </tr>\n",
       "    <tr>\n",
       "      <th>3</th>\n",
       "      <td>FS-1418847</td>\n",
       "      <td>FED</td>\n",
       "      <td>FS-FIRESTAT</td>\n",
       "      <td>FS</td>\n",
       "      <td>USCAENF</td>\n",
       "      <td>Eldorado National Forest</td>\n",
       "      <td>503</td>\n",
       "      <td>Eldorado National Forest</td>\n",
       "      <td>2004</td>\n",
       "      <td>2453184.5</td>\n",
       "      <td>...</td>\n",
       "      <td>A</td>\n",
       "      <td>38.559167</td>\n",
       "      <td>-119.933056</td>\n",
       "      <td>5</td>\n",
       "      <td>USFS</td>\n",
       "      <td>CA</td>\n",
       "      <td>2004180</td>\n",
       "      <td>2004-06-28</td>\n",
       "      <td>6</td>\n",
       "      <td>28</td>\n",
       "    </tr>\n",
       "    <tr>\n",
       "      <th>4</th>\n",
       "      <td>FS-1418849</td>\n",
       "      <td>FED</td>\n",
       "      <td>FS-FIRESTAT</td>\n",
       "      <td>FS</td>\n",
       "      <td>USCAENF</td>\n",
       "      <td>Eldorado National Forest</td>\n",
       "      <td>503</td>\n",
       "      <td>Eldorado National Forest</td>\n",
       "      <td>2004</td>\n",
       "      <td>2453186.5</td>\n",
       "      <td>...</td>\n",
       "      <td>A</td>\n",
       "      <td>38.635278</td>\n",
       "      <td>-120.103611</td>\n",
       "      <td>5</td>\n",
       "      <td>USFS</td>\n",
       "      <td>CA</td>\n",
       "      <td>2004182</td>\n",
       "      <td>2004-06-30</td>\n",
       "      <td>6</td>\n",
       "      <td>30</td>\n",
       "    </tr>\n",
       "  </tbody>\n",
       "</table>\n",
       "<p>5 rows × 25 columns</p>\n",
       "</div>"
      ],
      "text/plain": [
       "       FOD_ID FPA_ID SOURCESYSTEMTYPE SOURCESYSTEM NWCGREPORTINGAGENCY  \\\n",
       "0  FS-1418827    FED      FS-FIRESTAT           FS             USCAENF   \n",
       "1  FS-1418835    FED      FS-FIRESTAT           FS             USCAENF   \n",
       "2  FS-1418845    FED      FS-FIRESTAT           FS             USCAENF   \n",
       "3  FS-1418847    FED      FS-FIRESTAT           FS             USCAENF   \n",
       "4  FS-1418849    FED      FS-FIRESTAT           FS             USCAENF   \n",
       "\n",
       "       NWCGREPORTINGUNIT_ID SOURCEREPORTINGUNIT_NAME  \\\n",
       "0  Eldorado National Forest                      503   \n",
       "1  Eldorado National Forest                      503   \n",
       "2  Eldorado National Forest                      503   \n",
       "3  Eldorado National Forest                      503   \n",
       "4  Eldorado National Forest                      503   \n",
       "\n",
       "         LOCALFIREREPORT_ID  FIRE_YEAR  DISCOVERY_DATE  ...  FIRESIZECLASS  \\\n",
       "0  Eldorado National Forest       2004       2453137.5  ...              A   \n",
       "1  Eldorado National Forest       2004       2453156.5  ...              A   \n",
       "2  Eldorado National Forest       2004       2453184.5  ...              A   \n",
       "3  Eldorado National Forest       2004       2453184.5  ...              A   \n",
       "4  Eldorado National Forest       2004       2453186.5  ...              A   \n",
       "\n",
       "    LATITUDE   LONGITUDE OWNER_CODE       OWNER_DESCR STATE  Julian_Date  \\\n",
       "0  38.933056 -120.404444          5              USFS    CA      2004133   \n",
       "1  38.984167 -120.735556         13  STATE OR PRIVATE    CA      2004152   \n",
       "2  38.559167 -119.913333          5              USFS    CA      2004180   \n",
       "3  38.559167 -119.933056          5              USFS    CA      2004180   \n",
       "4  38.635278 -120.103611          5              USFS    CA      2004182   \n",
       "\n",
       "   Converted_Date  DISOVERY_MONTH DISOVERY_DAY  \n",
       "0      2004-05-12               5           12  \n",
       "1      2004-05-31               5           31  \n",
       "2      2004-06-28               6           28  \n",
       "3      2004-06-28               6           28  \n",
       "4      2004-06-30               6           30  \n",
       "\n",
       "[5 rows x 25 columns]"
      ]
     },
     "execution_count": 34,
     "metadata": {},
     "output_type": "execute_result"
    }
   ],
   "source": [
    "data.head()"
   ]
  },
  {
   "cell_type": "markdown",
   "metadata": {},
   "source": [
    "# 2.5 Drop Columns for Dummy Variables"
   ]
  },
  {
   "cell_type": "code",
   "execution_count": 35,
   "metadata": {},
   "outputs": [
    {
     "data": {
      "text/plain": [
       "SFO-2015CACDFLNU003791     2\n",
       "FS-1452833                 2\n",
       "ICS209_2009_KS-DDQ-128     2\n",
       "FS-1418827                 1\n",
       "SFO-GA-FY2002-Dodge-092    1\n",
       "                          ..\n",
       "SFO-TX02240706-32931       1\n",
       "SFO-TX02240706-32930       1\n",
       "SFO-TX02240706-32928       1\n",
       "SFO-TX02240706-32927       1\n",
       "2015CAIRS26733926          1\n",
       "Name: FOD_ID, Length: 1880461, dtype: int64"
      ]
     },
     "execution_count": 35,
     "metadata": {},
     "output_type": "execute_result"
    }
   ],
   "source": [
    "data[\"FOD_ID\"].value_counts() # can drop"
   ]
  },
  {
   "cell_type": "code",
   "execution_count": 36,
   "metadata": {},
   "outputs": [
    {
     "data": {
      "text/plain": [
       "NONFED       1362148\n",
       "FED           481105\n",
       "INTERAGCY      37211\n",
       "Name: FPA_ID, dtype: int64"
      ]
     },
     "execution_count": 36,
     "metadata": {},
     "output_type": "execute_result"
    }
   ],
   "source": [
    "data[\"FPA_ID\"].value_counts() # can turn to dummy variables "
   ]
  },
  {
   "cell_type": "code",
   "execution_count": 37,
   "metadata": {},
   "outputs": [
    {
     "data": {
      "text/plain": [
       "ST-NASF        711236\n",
       "DOI-WFMI       241423\n",
       "FS-FIRESTAT    220355\n",
       "ST-CACDF        87355\n",
       "ST-NCNCS        65695\n",
       "ST-GAGAS        65061\n",
       "ST-MSMSS        60513\n",
       "ST-TXTXS        57945\n",
       "ST-ALALS        54951\n",
       "ST-SCSCS        49281\n",
       "ST-FLFLS        45077\n",
       "IA-PRIITF       21802\n",
       "FWS-FMIS        19327\n",
       "ST-ORORS        18121\n",
       "ST-LALAS        16172\n",
       "ST-OKOKS        15397\n",
       "ST-TNTNS        14777\n",
       "ST-WIWIS        14323\n",
       "ST-ARARS        11303\n",
       "ST-VAVAS        10575\n",
       "ST-MOMOS         9835\n",
       "IA-HIWMO         9714\n",
       "ST-WAWAS         9648\n",
       "ST-MEMES         7252\n",
       "ST-KYKYS         6519\n",
       "ST-UTUTS         4470\n",
       "ST-NMNMS         4433\n",
       "IA-AKACC         3713\n",
       "ST-AZAZS         3446\n",
       "FA-NFIRS         3387\n",
       "ST-CTCTS         3379\n",
       "ST-SDSDS         3181\n",
       "ST-MTMTS         2737\n",
       "ST-COCOS         2433\n",
       "ST-MIMIS         2139\n",
       "IA-ICS209        1983\n",
       "ST-WYWYS         1489\n",
       "ST-NENES           17\n",
       "Name: SOURCESYSTEMTYPE, dtype: int64"
      ]
     },
     "execution_count": 37,
     "metadata": {},
     "output_type": "execute_result"
    }
   ],
   "source": [
    "data[\"SOURCESYSTEMTYPE\"].value_counts() # can drop"
   ]
  },
  {
   "cell_type": "code",
   "execution_count": 38,
   "metadata": {},
   "outputs": [
    {
     "data": {
      "text/plain": [
       "ST/C&L    1377090\n",
       "FS         220496\n",
       "BIA        119943\n",
       "BLM         97034\n",
       "IA          21841\n",
       "NPS         20893\n",
       "FWS         19331\n",
       "TRIBE        3739\n",
       "DOD            81\n",
       "BOR            14\n",
       "DOE             2\n",
       "Name: SOURCESYSTEM, dtype: int64"
      ]
     },
     "execution_count": 38,
     "metadata": {},
     "output_type": "execute_result"
    }
   ],
   "source": [
    "data[\"SOURCESYSTEM\"].value_counts() # turn to dummy variables "
   ]
  },
  {
   "cell_type": "code",
   "execution_count": 39,
   "metadata": {},
   "outputs": [
    {
     "data": {
      "text/plain": [
       "USGAGAS    167123\n",
       "USTXTXS    111362\n",
       "USNCNCS    107424\n",
       "USFLFLS     83024\n",
       "USSCSCS     78977\n",
       "            ...  \n",
       "USKSSTX         1\n",
       "USKSSNX         1\n",
       "USKSLGX         1\n",
       "USKSGLX         1\n",
       "USTNLHR         1\n",
       "Name: NWCGREPORTINGAGENCY, Length: 1640, dtype: int64"
      ]
     },
     "execution_count": 39,
     "metadata": {},
     "output_type": "execute_result"
    }
   ],
   "source": [
    "data[\"NWCGREPORTINGAGENCY\"].value_counts() # can drop"
   ]
  },
  {
   "cell_type": "code",
   "execution_count": 40,
   "metadata": {},
   "outputs": [
    {
     "data": {
      "text/plain": [
       "Georgia Forestry Commission                      167123\n",
       "Texas A & M Forest Service                       111362\n",
       "North Carolina Forest Service                    107424\n",
       "Florida Forest Service                            83024\n",
       "South Carolina Forestry Commission                78977\n",
       "                                                  ...  \n",
       "Oregon Coast National Wildlife Refuge Complex         1\n",
       "Coleman National Fish Hatchery                        1\n",
       "Steigerwald Lake National Wildlife Refuge             1\n",
       "Cedar Breaks National Monument                        1\n",
       "Fort Matanzas National Monument                       1\n",
       "Name: NWCGREPORTINGUNIT_ID, Length: 1635, dtype: int64"
      ]
     },
     "execution_count": 40,
     "metadata": {},
     "output_type": "execute_result"
    }
   ],
   "source": [
    "data[\"NWCGREPORTINGUNIT_ID\"].value_counts() # can drop"
   ]
  },
  {
   "cell_type": "code",
   "execution_count": 41,
   "metadata": {},
   "outputs": [
    {
     "data": {
      "text/plain": [
       "GAGAS      97844\n",
       "SCSCS      52064\n",
       "TXTXS      40366\n",
       "FLFLS      37945\n",
       "NCNCS      37255\n",
       "           ...  \n",
       "UTTIP          1\n",
       "03221          1\n",
       "UTCBP          1\n",
       "NY0605         1\n",
       "USSDSLR        1\n",
       "Name: SOURCEREPORTINGUNIT_NAME, Length: 5116, dtype: int64"
      ]
     },
     "execution_count": 41,
     "metadata": {},
     "output_type": "execute_result"
    }
   ],
   "source": [
    "data['SOURCEREPORTINGUNIT_NAME'].value_counts() # can drop"
   ]
  },
  {
   "cell_type": "code",
   "execution_count": 42,
   "metadata": {},
   "outputs": [
    {
     "data": {
      "text/plain": [
       "Georgia Forestry Commission                97844\n",
       "Fire Department of New York                75461\n",
       "South Carolina Forestry Commission         52064\n",
       "Mississippi Forestry Commission            46396\n",
       "Texas Forest Service                       42675\n",
       "                                           ...  \n",
       "MINGO NWR                                      1\n",
       "Eagle Mountain VFD                             1\n",
       "Slade National Wildlife Refuge                 1\n",
       "Chase Lake National Wildlife Refuge            1\n",
       "BENTON LAKE WETLAND MANAGEMENT DISTRICT        1\n",
       "Name: LOCALFIREREPORT_ID, Length: 4441, dtype: int64"
      ]
     },
     "execution_count": 42,
     "metadata": {},
     "output_type": "execute_result"
    }
   ],
   "source": [
    "data['LOCALFIREREPORT_ID'].value_counts() # can drop"
   ]
  },
  {
   "cell_type": "code",
   "execution_count": 43,
   "metadata": {},
   "outputs": [
    {
     "data": {
      "text/plain": [
       "5     429028\n",
       "9     323804\n",
       "7     281455\n",
       "1     278468\n",
       "13    166723\n",
       "2     147612\n",
       "4      76139\n",
       "8      61167\n",
       "3      52869\n",
       "6      33455\n",
       "11     14448\n",
       "10     11500\n",
       "12      3796\n",
       "Name: STATCAUSECODE, dtype: int64"
      ]
     },
     "execution_count": 43,
     "metadata": {},
     "output_type": "execute_result"
    }
   ],
   "source": [
    "data['STATCAUSECODE'].value_counts() # drop because same as STATCAUSEDESCR "
   ]
  },
  {
   "cell_type": "code",
   "execution_count": 44,
   "metadata": {},
   "outputs": [
    {
     "data": {
      "text/plain": [
       "Debris Burning       429028\n",
       "Miscellaneous        323804\n",
       "Arson                281455\n",
       "Lightning            278468\n",
       "Missing/Undefined    166723\n",
       "Equipment Use        147612\n",
       "Campfire              76139\n",
       "Children              61167\n",
       "Smoking               52869\n",
       "Railroad              33455\n",
       "Powerline             14448\n",
       "Fireworks             11500\n",
       "Structure              3796\n",
       "Name: STATCAUSEDESCR, dtype: int64"
      ]
     },
     "execution_count": 44,
     "metadata": {},
     "output_type": "execute_result"
    }
   ],
   "source": [
    "data[\"STATCAUSEDESCR\"].value_counts() # turn to dummy variables"
   ]
  },
  {
   "cell_type": "code",
   "execution_count": 45,
   "metadata": {},
   "outputs": [
    {
     "data": {
      "text/plain": [
       "B    939376\n",
       "A    666918\n",
       "C    220077\n",
       "D     28427\n",
       "E     14107\n",
       "F      7786\n",
       "G      3773\n",
       "Name: FIRESIZECLASS, dtype: int64"
      ]
     },
     "execution_count": 45,
     "metadata": {},
     "output_type": "execute_result"
    }
   ],
   "source": [
    "data[\"FIRESIZECLASS\"].value_counts() # turn to dummy variables"
   ]
  },
  {
   "cell_type": "code",
   "execution_count": 46,
   "metadata": {},
   "outputs": [
    {
     "data": {
      "text/plain": [
       "14    1050835\n",
       "8      314822\n",
       "5      188337\n",
       "2      106819\n",
       "13      71881\n",
       "1       63278\n",
       "7       30790\n",
       "3       17524\n",
       "4       12191\n",
       "9        8952\n",
       "6        6452\n",
       "12       4236\n",
       "15       2206\n",
       "11       1841\n",
       "10        285\n",
       "0          15\n",
       "Name: OWNER_CODE, dtype: int64"
      ]
     },
     "execution_count": 46,
     "metadata": {},
     "output_type": "execute_result"
    }
   ],
   "source": [
    "data[\"OWNER_CODE\"].value_counts() # can drop because same as OWNER_DESCR"
   ]
  },
  {
   "cell_type": "code",
   "execution_count": 47,
   "metadata": {},
   "outputs": [
    {
     "data": {
      "text/plain": [
       "MISSING/NOT SPECIFIED    1050835\n",
       "PRIVATE                   314822\n",
       "USFS                      188337\n",
       "BIA                       106819\n",
       "STATE OR PRIVATE           71881\n",
       "BLM                        63278\n",
       "STATE                      30790\n",
       "NPS                        17524\n",
       "FWS                        12191\n",
       "TRIBAL                      8952\n",
       "OTHER FEDERAL               6452\n",
       "MUNICIPAL/LOCAL             4236\n",
       "UNDEFINED FEDERAL           2206\n",
       "COUNTY                      1841\n",
       "BOR                          285\n",
       "FOREIGN                       15\n",
       "Name: OWNER_DESCR, dtype: int64"
      ]
     },
     "execution_count": 47,
     "metadata": {},
     "output_type": "execute_result"
    }
   ],
   "source": [
    "data[\"OWNER_DESCR\"].value_counts() #  turn to dummy variables"
   ]
  },
  {
   "cell_type": "code",
   "execution_count": 48,
   "metadata": {},
   "outputs": [
    {
     "data": {
      "text/plain": [
       "Index(['FOD_ID', 'FPA_ID', 'SOURCESYSTEMTYPE', 'SOURCESYSTEM',\n",
       "       'NWCGREPORTINGAGENCY', 'NWCGREPORTINGUNIT_ID',\n",
       "       'SOURCEREPORTINGUNIT_NAME', 'LOCALFIREREPORT_ID', 'FIRE_YEAR',\n",
       "       'DISCOVERY_DATE', 'DISCOVERY_DOY', 'DISCOVERY_TIME', 'STATCAUSECODE',\n",
       "       'STATCAUSEDESCR', 'FIRE_SIZE', 'FIRESIZECLASS', 'LATITUDE', 'LONGITUDE',\n",
       "       'OWNER_CODE', 'OWNER_DESCR', 'STATE', 'Julian_Date', 'Converted_Date',\n",
       "       'DISOVERY_MONTH', 'DISOVERY_DAY'],\n",
       "      dtype='object')"
      ]
     },
     "execution_count": 48,
     "metadata": {},
     "output_type": "execute_result"
    }
   ],
   "source": [
    "data.columns"
   ]
  },
  {
   "cell_type": "code",
   "execution_count": 49,
   "metadata": {},
   "outputs": [],
   "source": [
    "svm_drop = ['FOD_ID', 'SOURCESYSTEMTYPE', 'NWCGREPORTINGAGENCY', 'NWCGREPORTINGUNIT_ID', 'SOURCEREPORTINGUNIT_NAME', 'LOCALFIREREPORT_ID',\n",
    "'STATCAUSECODE', 'OWNER_CODE', 'Converted_Date']\n",
    "svm_data = data.drop(columns= svm_drop)"
   ]
  },
  {
   "cell_type": "code",
   "execution_count": 50,
   "metadata": {},
   "outputs": [],
   "source": [
    "drop_columns = ['FOD_ID', 'SOURCESYSTEMTYPE', 'NWCGREPORTINGAGENCY', 'NWCGREPORTINGUNIT_ID', 'SOURCEREPORTINGUNIT_NAME', 'LOCALFIREREPORT_ID',\n",
    "'STATCAUSECODE', 'OWNER_CODE', 'DISCOVERY_DATE', 'DISCOVERY_DOY', 'Julian_Date']\n",
    "data = data.drop(columns= drop_columns)"
   ]
  },
  {
   "cell_type": "code",
   "execution_count": 51,
   "metadata": {},
   "outputs": [
    {
     "data": {
      "text/plain": [
       "Index(['FPA_ID', 'SOURCESYSTEM', 'FIRE_YEAR', 'DISCOVERY_TIME',\n",
       "       'STATCAUSEDESCR', 'FIRE_SIZE', 'FIRESIZECLASS', 'LATITUDE', 'LONGITUDE',\n",
       "       'OWNER_DESCR', 'STATE', 'Converted_Date', 'DISOVERY_MONTH',\n",
       "       'DISOVERY_DAY'],\n",
       "      dtype='object')"
      ]
     },
     "execution_count": 51,
     "metadata": {},
     "output_type": "execute_result"
    }
   ],
   "source": [
    "data.columns"
   ]
  },
  {
   "cell_type": "code",
   "execution_count": 52,
   "metadata": {},
   "outputs": [
    {
     "data": {
      "text/plain": [
       "(1880464, 14)"
      ]
     },
     "execution_count": 52,
     "metadata": {},
     "output_type": "execute_result"
    }
   ],
   "source": [
    "data.shape"
   ]
  },
  {
   "cell_type": "code",
   "execution_count": 53,
   "metadata": {},
   "outputs": [],
   "source": [
    "fire_date = data[\"Converted_Date\"]"
   ]
  },
  {
   "cell_type": "code",
   "execution_count": 54,
   "metadata": {},
   "outputs": [],
   "source": [
    "data_no_date = data.drop(columns= [\"Converted_Date\"])"
   ]
  },
  {
   "cell_type": "markdown",
   "metadata": {},
   "source": [
    "# 2.6 Dummy Variables"
   ]
  },
  {
   "cell_type": "code",
   "execution_count": 55,
   "metadata": {},
   "outputs": [],
   "source": [
    "data_no_date = data_no_date.drop(columns=[\"DISOVERY_MONTH\", \"DISOVERY_DAY\", \"FIRE_YEAR\"])"
   ]
  },
  {
   "cell_type": "code",
   "execution_count": 56,
   "metadata": {},
   "outputs": [
    {
     "data": {
      "text/plain": [
       "FPA_ID             object\n",
       "SOURCESYSTEM       object\n",
       "DISCOVERY_TIME    float64\n",
       "STATCAUSEDESCR     object\n",
       "FIRE_SIZE         float64\n",
       "FIRESIZECLASS      object\n",
       "LATITUDE          float64\n",
       "LONGITUDE         float64\n",
       "OWNER_DESCR        object\n",
       "STATE              object\n",
       "dtype: object"
      ]
     },
     "execution_count": 56,
     "metadata": {},
     "output_type": "execute_result"
    }
   ],
   "source": [
    "data_no_date.dtypes"
   ]
  },
  {
   "cell_type": "code",
   "execution_count": 57,
   "metadata": {},
   "outputs": [],
   "source": [
    "dummy_data_no_date = pd.get_dummies(data_no_date)"
   ]
  },
  {
   "cell_type": "code",
   "execution_count": 58,
   "metadata": {},
   "outputs": [
    {
     "data": {
      "text/plain": [
       "Index(['DISCOVERY_TIME', 'FIRE_SIZE', 'LATITUDE', 'LONGITUDE', 'FPA_ID_FED',\n",
       "       'FPA_ID_INTERAGCY', 'FPA_ID_NONFED', 'SOURCESYSTEM_BIA',\n",
       "       'SOURCESYSTEM_BLM', 'SOURCESYSTEM_BOR',\n",
       "       ...\n",
       "       'STATE_SD', 'STATE_TN', 'STATE_TX', 'STATE_UT', 'STATE_VA', 'STATE_VT',\n",
       "       'STATE_WA', 'STATE_WI', 'STATE_WV', 'STATE_WY'],\n",
       "      dtype='object', length=106)"
      ]
     },
     "execution_count": 58,
     "metadata": {},
     "output_type": "execute_result"
    }
   ],
   "source": [
    "dummy_data_no_date.columns"
   ]
  },
  {
   "cell_type": "code",
   "execution_count": 59,
   "metadata": {},
   "outputs": [
    {
     "data": {
      "text/plain": [
       "(1880464, 106)"
      ]
     },
     "execution_count": 59,
     "metadata": {},
     "output_type": "execute_result"
    }
   ],
   "source": [
    "dummy_data_no_date.shape"
   ]
  },
  {
   "cell_type": "code",
   "execution_count": 60,
   "metadata": {},
   "outputs": [
    {
     "data": {
      "text/html": [
       "<div>\n",
       "<style scoped>\n",
       "    .dataframe tbody tr th:only-of-type {\n",
       "        vertical-align: middle;\n",
       "    }\n",
       "\n",
       "    .dataframe tbody tr th {\n",
       "        vertical-align: top;\n",
       "    }\n",
       "\n",
       "    .dataframe thead th {\n",
       "        text-align: right;\n",
       "    }\n",
       "</style>\n",
       "<table border=\"1\" class=\"dataframe\">\n",
       "  <thead>\n",
       "    <tr style=\"text-align: right;\">\n",
       "      <th></th>\n",
       "      <th>DISCOVERY_TIME</th>\n",
       "      <th>FIRE_SIZE</th>\n",
       "      <th>LATITUDE</th>\n",
       "      <th>LONGITUDE</th>\n",
       "      <th>FPA_ID_FED</th>\n",
       "      <th>FPA_ID_INTERAGCY</th>\n",
       "      <th>FPA_ID_NONFED</th>\n",
       "      <th>SOURCESYSTEM_BIA</th>\n",
       "      <th>SOURCESYSTEM_BLM</th>\n",
       "      <th>SOURCESYSTEM_BOR</th>\n",
       "      <th>...</th>\n",
       "      <th>STATE_SD</th>\n",
       "      <th>STATE_TN</th>\n",
       "      <th>STATE_TX</th>\n",
       "      <th>STATE_UT</th>\n",
       "      <th>STATE_VA</th>\n",
       "      <th>STATE_VT</th>\n",
       "      <th>STATE_WA</th>\n",
       "      <th>STATE_WI</th>\n",
       "      <th>STATE_WV</th>\n",
       "      <th>STATE_WY</th>\n",
       "    </tr>\n",
       "  </thead>\n",
       "  <tbody>\n",
       "    <tr>\n",
       "      <th>0</th>\n",
       "      <td>845.0</td>\n",
       "      <td>0.25</td>\n",
       "      <td>38.933056</td>\n",
       "      <td>-120.404444</td>\n",
       "      <td>1</td>\n",
       "      <td>0</td>\n",
       "      <td>0</td>\n",
       "      <td>0</td>\n",
       "      <td>0</td>\n",
       "      <td>0</td>\n",
       "      <td>...</td>\n",
       "      <td>0</td>\n",
       "      <td>0</td>\n",
       "      <td>0</td>\n",
       "      <td>0</td>\n",
       "      <td>0</td>\n",
       "      <td>0</td>\n",
       "      <td>0</td>\n",
       "      <td>0</td>\n",
       "      <td>0</td>\n",
       "      <td>0</td>\n",
       "    </tr>\n",
       "    <tr>\n",
       "      <th>1</th>\n",
       "      <td>1921.0</td>\n",
       "      <td>0.10</td>\n",
       "      <td>38.984167</td>\n",
       "      <td>-120.735556</td>\n",
       "      <td>1</td>\n",
       "      <td>0</td>\n",
       "      <td>0</td>\n",
       "      <td>0</td>\n",
       "      <td>0</td>\n",
       "      <td>0</td>\n",
       "      <td>...</td>\n",
       "      <td>0</td>\n",
       "      <td>0</td>\n",
       "      <td>0</td>\n",
       "      <td>0</td>\n",
       "      <td>0</td>\n",
       "      <td>0</td>\n",
       "      <td>0</td>\n",
       "      <td>0</td>\n",
       "      <td>0</td>\n",
       "      <td>0</td>\n",
       "    </tr>\n",
       "    <tr>\n",
       "      <th>2</th>\n",
       "      <td>1600.0</td>\n",
       "      <td>0.10</td>\n",
       "      <td>38.559167</td>\n",
       "      <td>-119.913333</td>\n",
       "      <td>1</td>\n",
       "      <td>0</td>\n",
       "      <td>0</td>\n",
       "      <td>0</td>\n",
       "      <td>0</td>\n",
       "      <td>0</td>\n",
       "      <td>...</td>\n",
       "      <td>0</td>\n",
       "      <td>0</td>\n",
       "      <td>0</td>\n",
       "      <td>0</td>\n",
       "      <td>0</td>\n",
       "      <td>0</td>\n",
       "      <td>0</td>\n",
       "      <td>0</td>\n",
       "      <td>0</td>\n",
       "      <td>0</td>\n",
       "    </tr>\n",
       "    <tr>\n",
       "      <th>3</th>\n",
       "      <td>1600.0</td>\n",
       "      <td>0.10</td>\n",
       "      <td>38.559167</td>\n",
       "      <td>-119.933056</td>\n",
       "      <td>1</td>\n",
       "      <td>0</td>\n",
       "      <td>0</td>\n",
       "      <td>0</td>\n",
       "      <td>0</td>\n",
       "      <td>0</td>\n",
       "      <td>...</td>\n",
       "      <td>0</td>\n",
       "      <td>0</td>\n",
       "      <td>0</td>\n",
       "      <td>0</td>\n",
       "      <td>0</td>\n",
       "      <td>0</td>\n",
       "      <td>0</td>\n",
       "      <td>0</td>\n",
       "      <td>0</td>\n",
       "      <td>0</td>\n",
       "    </tr>\n",
       "    <tr>\n",
       "      <th>4</th>\n",
       "      <td>1800.0</td>\n",
       "      <td>0.10</td>\n",
       "      <td>38.635278</td>\n",
       "      <td>-120.103611</td>\n",
       "      <td>1</td>\n",
       "      <td>0</td>\n",
       "      <td>0</td>\n",
       "      <td>0</td>\n",
       "      <td>0</td>\n",
       "      <td>0</td>\n",
       "      <td>...</td>\n",
       "      <td>0</td>\n",
       "      <td>0</td>\n",
       "      <td>0</td>\n",
       "      <td>0</td>\n",
       "      <td>0</td>\n",
       "      <td>0</td>\n",
       "      <td>0</td>\n",
       "      <td>0</td>\n",
       "      <td>0</td>\n",
       "      <td>0</td>\n",
       "    </tr>\n",
       "  </tbody>\n",
       "</table>\n",
       "<p>5 rows × 106 columns</p>\n",
       "</div>"
      ],
      "text/plain": [
       "   DISCOVERY_TIME  FIRE_SIZE   LATITUDE   LONGITUDE  FPA_ID_FED  \\\n",
       "0           845.0       0.25  38.933056 -120.404444           1   \n",
       "1          1921.0       0.10  38.984167 -120.735556           1   \n",
       "2          1600.0       0.10  38.559167 -119.913333           1   \n",
       "3          1600.0       0.10  38.559167 -119.933056           1   \n",
       "4          1800.0       0.10  38.635278 -120.103611           1   \n",
       "\n",
       "   FPA_ID_INTERAGCY  FPA_ID_NONFED  SOURCESYSTEM_BIA  SOURCESYSTEM_BLM  \\\n",
       "0                 0              0                 0                 0   \n",
       "1                 0              0                 0                 0   \n",
       "2                 0              0                 0                 0   \n",
       "3                 0              0                 0                 0   \n",
       "4                 0              0                 0                 0   \n",
       "\n",
       "   SOURCESYSTEM_BOR  ...  STATE_SD  STATE_TN  STATE_TX  STATE_UT  STATE_VA  \\\n",
       "0                 0  ...         0         0         0         0         0   \n",
       "1                 0  ...         0         0         0         0         0   \n",
       "2                 0  ...         0         0         0         0         0   \n",
       "3                 0  ...         0         0         0         0         0   \n",
       "4                 0  ...         0         0         0         0         0   \n",
       "\n",
       "   STATE_VT  STATE_WA  STATE_WI  STATE_WV  STATE_WY  \n",
       "0         0         0         0         0         0  \n",
       "1         0         0         0         0         0  \n",
       "2         0         0         0         0         0  \n",
       "3         0         0         0         0         0  \n",
       "4         0         0         0         0         0  \n",
       "\n",
       "[5 rows x 106 columns]"
      ]
     },
     "execution_count": 60,
     "metadata": {},
     "output_type": "execute_result"
    }
   ],
   "source": [
    "dummy_data_no_date.head()"
   ]
  },
  {
   "cell_type": "code",
   "execution_count": 61,
   "metadata": {},
   "outputs": [
    {
     "data": {
      "text/plain": [
       "Index(['DISCOVERY_TIME', 'FIRE_SIZE', 'LATITUDE', 'LONGITUDE', 'FPA_ID_FED',\n",
       "       'FPA_ID_INTERAGCY', 'FPA_ID_NONFED', 'SOURCESYSTEM_BIA',\n",
       "       'SOURCESYSTEM_BLM', 'SOURCESYSTEM_BOR',\n",
       "       ...\n",
       "       'STATE_TN', 'STATE_TX', 'STATE_UT', 'STATE_VA', 'STATE_VT', 'STATE_WA',\n",
       "       'STATE_WI', 'STATE_WV', 'STATE_WY', 'timestamp'],\n",
       "      dtype='object', length=107)"
      ]
     },
     "execution_count": 61,
     "metadata": {},
     "output_type": "execute_result"
    }
   ],
   "source": [
    "dummy_data_no_date[\"timestamp\"] = fire_date\n",
    "dummy_data_no_date.columns"
   ]
  },
  {
   "cell_type": "code",
   "execution_count": 62,
   "metadata": {},
   "outputs": [
    {
     "data": {
      "text/plain": [
       "Index(['FPA_ID', 'SOURCESYSTEM', 'FIRE_YEAR', 'DISCOVERY_DATE',\n",
       "       'DISCOVERY_DOY', 'DISCOVERY_TIME', 'STATCAUSEDESCR', 'FIRE_SIZE',\n",
       "       'FIRESIZECLASS', 'LATITUDE', 'LONGITUDE', 'OWNER_DESCR', 'STATE',\n",
       "       'Julian_Date', 'DISOVERY_MONTH', 'DISOVERY_DAY'],\n",
       "      dtype='object')"
      ]
     },
     "execution_count": 62,
     "metadata": {},
     "output_type": "execute_result"
    }
   ],
   "source": [
    "svm_data.columns"
   ]
  },
  {
   "cell_type": "code",
   "execution_count": 63,
   "metadata": {},
   "outputs": [],
   "source": [
    "svm_data = svm_data.drop(columns=['Julian_Date'])"
   ]
  },
  {
   "cell_type": "code",
   "execution_count": 64,
   "metadata": {},
   "outputs": [
    {
     "data": {
      "text/plain": [
       "Index(['FIRE_YEAR', 'DISCOVERY_DATE', 'DISCOVERY_DOY', 'DISCOVERY_TIME',\n",
       "       'FIRE_SIZE', 'LATITUDE', 'LONGITUDE', 'DISOVERY_MONTH', 'DISOVERY_DAY',\n",
       "       'FPA_ID_FED',\n",
       "       ...\n",
       "       'STATE_SD', 'STATE_TN', 'STATE_TX', 'STATE_UT', 'STATE_VA', 'STATE_VT',\n",
       "       'STATE_WA', 'STATE_WI', 'STATE_WV', 'STATE_WY'],\n",
       "      dtype='object', length=111)"
      ]
     },
     "execution_count": 64,
     "metadata": {},
     "output_type": "execute_result"
    }
   ],
   "source": [
    "final_svm = pd.get_dummies(svm_data)\n",
    "final_svm.columns"
   ]
  },
  {
   "cell_type": "code",
   "execution_count": 65,
   "metadata": {},
   "outputs": [],
   "source": [
    "final_svm = final_svm.drop(columns=\"DISCOVERY_TIME\")"
   ]
  },
  {
   "cell_type": "code",
   "execution_count": 66,
   "metadata": {},
   "outputs": [
    {
     "data": {
      "text/plain": [
       "FIRE_YEAR         0\n",
       "DISCOVERY_DATE    0\n",
       "DISCOVERY_DOY     0\n",
       "FIRE_SIZE         0\n",
       "LATITUDE          0\n",
       "                 ..\n",
       "STATE_VT          0\n",
       "STATE_WA          0\n",
       "STATE_WI          0\n",
       "STATE_WV          0\n",
       "STATE_WY          0\n",
       "Length: 110, dtype: int64"
      ]
     },
     "execution_count": 66,
     "metadata": {},
     "output_type": "execute_result"
    }
   ],
   "source": [
    "final_svm.isnull().sum()"
   ]
  },
  {
   "cell_type": "markdown",
   "metadata": {},
   "source": [
    "# 3. Model"
   ]
  },
  {
   "cell_type": "markdown",
   "metadata": {},
   "source": [
    "# 3.1 Test Model - SVM"
   ]
  },
  {
   "cell_type": "code",
   "execution_count": 67,
   "metadata": {},
   "outputs": [],
   "source": [
    "#y = final_svm['FIRE_SIZE']\n",
    "#X = final_svm.loc[:, final_svm.columns != 'FIRE_SIZE']"
   ]
  },
  {
   "cell_type": "code",
   "execution_count": 68,
   "metadata": {},
   "outputs": [],
   "source": [
    "#from sklearn.model_selection import train_test_split\n",
    "#X_train, X_test, y_train, y_test = train_test_split( X, y, test_size=0.2, random_state=42)"
   ]
  },
  {
   "cell_type": "code",
   "execution_count": 69,
   "metadata": {},
   "outputs": [],
   "source": [
    "#from sklearn.svm import SVR\n",
    "\n",
    "#svr = SVR().fit(X_train, y_train)"
   ]
  },
  {
   "cell_type": "code",
   "execution_count": 70,
   "metadata": {},
   "outputs": [],
   "source": [
    "#yfit = svr.predict(X_test)"
   ]
  },
  {
   "cell_type": "code",
   "execution_count": 71,
   "metadata": {},
   "outputs": [],
   "source": [
    "#mean_squared_error(y_test, yfit)"
   ]
  },
  {
   "cell_type": "markdown",
   "metadata": {},
   "source": [
    "# 3.2 FLAML"
   ]
  },
  {
   "cell_type": "code",
   "execution_count": 72,
   "metadata": {},
   "outputs": [],
   "source": [
    "final_data = dummy_data_no_date"
   ]
  },
  {
   "cell_type": "code",
   "execution_count": 73,
   "metadata": {},
   "outputs": [],
   "source": [
    "y = final_data['FIRE_SIZE']\n",
    "X = final_data.loc[:, final_data.columns != 'FIRE_SIZE']"
   ]
  },
  {
   "cell_type": "code",
   "execution_count": 74,
   "metadata": {},
   "outputs": [],
   "source": [
    "# Make timestamp the first column\n",
    "cols = X.columns.tolist()\n",
    "cols = cols[-1:] + cols[:-1]\n",
    "X = X[cols]"
   ]
  },
  {
   "cell_type": "code",
   "execution_count": 75,
   "metadata": {},
   "outputs": [],
   "source": [
    "# append the converted date"
   ]
  },
  {
   "cell_type": "code",
   "execution_count": 76,
   "metadata": {},
   "outputs": [],
   "source": [
    "from sklearn.model_selection import train_test_split\n",
    "X_train, X_test, y_train, y_test = train_test_split( X, y, test_size=0.2, random_state=42)"
   ]
  },
  {
   "cell_type": "code",
   "execution_count": 78,
   "metadata": {},
   "outputs": [],
   "source": [
    "from flaml import AutoML"
   ]
  },
  {
   "cell_type": "code",
   "execution_count": 79,
   "metadata": {},
   "outputs": [],
   "source": [
    "automl = AutoML()"
   ]
  },
  {
   "cell_type": "code",
   "execution_count": 80,
   "metadata": {},
   "outputs": [],
   "source": [
    "# popping timestamp and adding as first column"
   ]
  },
  {
   "cell_type": "code",
   "execution_count": 81,
   "metadata": {},
   "outputs": [
    {
     "data": {
      "text/plain": [
       "Index(['DISCOVERY_TIME', 'FIRE_SIZE', 'LATITUDE', 'LONGITUDE', 'FPA_ID_FED',\n",
       "       'FPA_ID_INTERAGCY', 'FPA_ID_NONFED', 'SOURCESYSTEM_BIA',\n",
       "       'SOURCESYSTEM_BLM', 'SOURCESYSTEM_BOR',\n",
       "       ...\n",
       "       'STATE_TN', 'STATE_TX', 'STATE_UT', 'STATE_VA', 'STATE_VT', 'STATE_WA',\n",
       "       'STATE_WI', 'STATE_WV', 'STATE_WY', 'timestamp'],\n",
       "      dtype='object', length=107)"
      ]
     },
     "execution_count": 81,
     "metadata": {},
     "output_type": "execute_result"
    }
   ],
   "source": [
    "final_data.columns"
   ]
  },
  {
   "cell_type": "code",
   "execution_count": 82,
   "metadata": {},
   "outputs": [
    {
     "data": {
      "text/plain": [
       "<bound method NDFrame.head of          DISCOVERY_TIME  FIRE_SIZE   LATITUDE   LONGITUDE  FPA_ID_FED  \\\n",
       "0                 845.0       0.25  38.933056 -120.404444           1   \n",
       "1                1921.0       0.10  38.984167 -120.735556           1   \n",
       "2                1600.0       0.10  38.559167 -119.913333           1   \n",
       "3                1600.0       0.10  38.559167 -119.933056           1   \n",
       "4                1800.0       0.10  38.635278 -120.103611           1   \n",
       "...                 ...        ...        ...         ...         ...   \n",
       "1880459          1726.0       0.01  40.481637 -122.389375           0   \n",
       "1880460           126.0       0.20  37.617619 -120.938570           0   \n",
       "1880461          2052.0       0.10  37.617619 -120.938570           0   \n",
       "1880462          2309.0       2.00  37.672235 -120.898356           0   \n",
       "1880463          2128.0       0.10  34.263217 -116.830950           0   \n",
       "\n",
       "         FPA_ID_INTERAGCY  FPA_ID_NONFED  SOURCESYSTEM_BIA  SOURCESYSTEM_BLM  \\\n",
       "0                       0              0                 0                 0   \n",
       "1                       0              0                 0                 0   \n",
       "2                       0              0                 0                 0   \n",
       "3                       0              0                 0                 0   \n",
       "4                       0              0                 0                 0   \n",
       "...                   ...            ...               ...               ...   \n",
       "1880459                 0              1                 0                 0   \n",
       "1880460                 0              1                 0                 0   \n",
       "1880461                 0              1                 0                 0   \n",
       "1880462                 0              1                 0                 0   \n",
       "1880463                 0              1                 0                 0   \n",
       "\n",
       "         SOURCESYSTEM_BOR  ...  STATE_TN  STATE_TX  STATE_UT  STATE_VA  \\\n",
       "0                       0  ...         0         0         0         0   \n",
       "1                       0  ...         0         0         0         0   \n",
       "2                       0  ...         0         0         0         0   \n",
       "3                       0  ...         0         0         0         0   \n",
       "4                       0  ...         0         0         0         0   \n",
       "...                   ...  ...       ...       ...       ...       ...   \n",
       "1880459                 0  ...         0         0         0         0   \n",
       "1880460                 0  ...         0         0         0         0   \n",
       "1880461                 0  ...         0         0         0         0   \n",
       "1880462                 0  ...         0         0         0         0   \n",
       "1880463                 0  ...         0         0         0         0   \n",
       "\n",
       "         STATE_VT  STATE_WA  STATE_WI  STATE_WV  STATE_WY   timestamp  \n",
       "0               0         0         0         0         0  2004-05-12  \n",
       "1               0         0         0         0         0  2004-05-31  \n",
       "2               0         0         0         0         0  2004-06-28  \n",
       "3               0         0         0         0         0  2004-06-28  \n",
       "4               0         0         0         0         0  2004-06-30  \n",
       "...           ...       ...       ...       ...       ...         ...  \n",
       "1880459         0         0         0         0         0  2015-09-26  \n",
       "1880460         0         0         0         0         0  2015-10-05  \n",
       "1880461         0         0         0         0         0  2015-05-02  \n",
       "1880462         0         0         0         0         0  2015-10-14  \n",
       "1880463         0         0         0         0         0  2015-03-14  \n",
       "\n",
       "[1880464 rows x 107 columns]>"
      ]
     },
     "execution_count": 82,
     "metadata": {},
     "output_type": "execute_result"
    }
   ],
   "source": [
    "df = final_data\n",
    "df.head"
   ]
  },
  {
   "cell_type": "code",
   "execution_count": 84,
   "metadata": {},
   "outputs": [],
   "source": [
    "#df.columns\n",
    "#first_column = df.pop('timestamp')"
   ]
  },
  {
   "cell_type": "code",
   "execution_count": 85,
   "metadata": {},
   "outputs": [
    {
     "data": {
      "text/html": [
       "<div>\n",
       "<style scoped>\n",
       "    .dataframe tbody tr th:only-of-type {\n",
       "        vertical-align: middle;\n",
       "    }\n",
       "\n",
       "    .dataframe tbody tr th {\n",
       "        vertical-align: top;\n",
       "    }\n",
       "\n",
       "    .dataframe thead th {\n",
       "        text-align: right;\n",
       "    }\n",
       "</style>\n",
       "<table border=\"1\" class=\"dataframe\">\n",
       "  <thead>\n",
       "    <tr style=\"text-align: right;\">\n",
       "      <th></th>\n",
       "      <th>DISCOVERY_TIME</th>\n",
       "      <th>FIRE_SIZE</th>\n",
       "      <th>LATITUDE</th>\n",
       "      <th>LONGITUDE</th>\n",
       "      <th>FPA_ID_FED</th>\n",
       "      <th>FPA_ID_INTERAGCY</th>\n",
       "      <th>FPA_ID_NONFED</th>\n",
       "      <th>SOURCESYSTEM_BIA</th>\n",
       "      <th>SOURCESYSTEM_BLM</th>\n",
       "      <th>SOURCESYSTEM_BOR</th>\n",
       "      <th>...</th>\n",
       "      <th>STATE_TN</th>\n",
       "      <th>STATE_TX</th>\n",
       "      <th>STATE_UT</th>\n",
       "      <th>STATE_VA</th>\n",
       "      <th>STATE_VT</th>\n",
       "      <th>STATE_WA</th>\n",
       "      <th>STATE_WI</th>\n",
       "      <th>STATE_WV</th>\n",
       "      <th>STATE_WY</th>\n",
       "      <th>timestamp</th>\n",
       "    </tr>\n",
       "  </thead>\n",
       "  <tbody>\n",
       "    <tr>\n",
       "      <th>0</th>\n",
       "      <td>845.0</td>\n",
       "      <td>0.25</td>\n",
       "      <td>38.933056</td>\n",
       "      <td>-120.404444</td>\n",
       "      <td>1</td>\n",
       "      <td>0</td>\n",
       "      <td>0</td>\n",
       "      <td>0</td>\n",
       "      <td>0</td>\n",
       "      <td>0</td>\n",
       "      <td>...</td>\n",
       "      <td>0</td>\n",
       "      <td>0</td>\n",
       "      <td>0</td>\n",
       "      <td>0</td>\n",
       "      <td>0</td>\n",
       "      <td>0</td>\n",
       "      <td>0</td>\n",
       "      <td>0</td>\n",
       "      <td>0</td>\n",
       "      <td>2004-05-12</td>\n",
       "    </tr>\n",
       "    <tr>\n",
       "      <th>1</th>\n",
       "      <td>1921.0</td>\n",
       "      <td>0.10</td>\n",
       "      <td>38.984167</td>\n",
       "      <td>-120.735556</td>\n",
       "      <td>1</td>\n",
       "      <td>0</td>\n",
       "      <td>0</td>\n",
       "      <td>0</td>\n",
       "      <td>0</td>\n",
       "      <td>0</td>\n",
       "      <td>...</td>\n",
       "      <td>0</td>\n",
       "      <td>0</td>\n",
       "      <td>0</td>\n",
       "      <td>0</td>\n",
       "      <td>0</td>\n",
       "      <td>0</td>\n",
       "      <td>0</td>\n",
       "      <td>0</td>\n",
       "      <td>0</td>\n",
       "      <td>2004-05-31</td>\n",
       "    </tr>\n",
       "    <tr>\n",
       "      <th>2</th>\n",
       "      <td>1600.0</td>\n",
       "      <td>0.10</td>\n",
       "      <td>38.559167</td>\n",
       "      <td>-119.913333</td>\n",
       "      <td>1</td>\n",
       "      <td>0</td>\n",
       "      <td>0</td>\n",
       "      <td>0</td>\n",
       "      <td>0</td>\n",
       "      <td>0</td>\n",
       "      <td>...</td>\n",
       "      <td>0</td>\n",
       "      <td>0</td>\n",
       "      <td>0</td>\n",
       "      <td>0</td>\n",
       "      <td>0</td>\n",
       "      <td>0</td>\n",
       "      <td>0</td>\n",
       "      <td>0</td>\n",
       "      <td>0</td>\n",
       "      <td>2004-06-28</td>\n",
       "    </tr>\n",
       "    <tr>\n",
       "      <th>3</th>\n",
       "      <td>1600.0</td>\n",
       "      <td>0.10</td>\n",
       "      <td>38.559167</td>\n",
       "      <td>-119.933056</td>\n",
       "      <td>1</td>\n",
       "      <td>0</td>\n",
       "      <td>0</td>\n",
       "      <td>0</td>\n",
       "      <td>0</td>\n",
       "      <td>0</td>\n",
       "      <td>...</td>\n",
       "      <td>0</td>\n",
       "      <td>0</td>\n",
       "      <td>0</td>\n",
       "      <td>0</td>\n",
       "      <td>0</td>\n",
       "      <td>0</td>\n",
       "      <td>0</td>\n",
       "      <td>0</td>\n",
       "      <td>0</td>\n",
       "      <td>2004-06-28</td>\n",
       "    </tr>\n",
       "    <tr>\n",
       "      <th>4</th>\n",
       "      <td>1800.0</td>\n",
       "      <td>0.10</td>\n",
       "      <td>38.635278</td>\n",
       "      <td>-120.103611</td>\n",
       "      <td>1</td>\n",
       "      <td>0</td>\n",
       "      <td>0</td>\n",
       "      <td>0</td>\n",
       "      <td>0</td>\n",
       "      <td>0</td>\n",
       "      <td>...</td>\n",
       "      <td>0</td>\n",
       "      <td>0</td>\n",
       "      <td>0</td>\n",
       "      <td>0</td>\n",
       "      <td>0</td>\n",
       "      <td>0</td>\n",
       "      <td>0</td>\n",
       "      <td>0</td>\n",
       "      <td>0</td>\n",
       "      <td>2004-06-30</td>\n",
       "    </tr>\n",
       "    <tr>\n",
       "      <th>...</th>\n",
       "      <td>...</td>\n",
       "      <td>...</td>\n",
       "      <td>...</td>\n",
       "      <td>...</td>\n",
       "      <td>...</td>\n",
       "      <td>...</td>\n",
       "      <td>...</td>\n",
       "      <td>...</td>\n",
       "      <td>...</td>\n",
       "      <td>...</td>\n",
       "      <td>...</td>\n",
       "      <td>...</td>\n",
       "      <td>...</td>\n",
       "      <td>...</td>\n",
       "      <td>...</td>\n",
       "      <td>...</td>\n",
       "      <td>...</td>\n",
       "      <td>...</td>\n",
       "      <td>...</td>\n",
       "      <td>...</td>\n",
       "      <td>...</td>\n",
       "    </tr>\n",
       "    <tr>\n",
       "      <th>1880459</th>\n",
       "      <td>1726.0</td>\n",
       "      <td>0.01</td>\n",
       "      <td>40.481637</td>\n",
       "      <td>-122.389375</td>\n",
       "      <td>0</td>\n",
       "      <td>0</td>\n",
       "      <td>1</td>\n",
       "      <td>0</td>\n",
       "      <td>0</td>\n",
       "      <td>0</td>\n",
       "      <td>...</td>\n",
       "      <td>0</td>\n",
       "      <td>0</td>\n",
       "      <td>0</td>\n",
       "      <td>0</td>\n",
       "      <td>0</td>\n",
       "      <td>0</td>\n",
       "      <td>0</td>\n",
       "      <td>0</td>\n",
       "      <td>0</td>\n",
       "      <td>2015-09-26</td>\n",
       "    </tr>\n",
       "    <tr>\n",
       "      <th>1880460</th>\n",
       "      <td>126.0</td>\n",
       "      <td>0.20</td>\n",
       "      <td>37.617619</td>\n",
       "      <td>-120.938570</td>\n",
       "      <td>0</td>\n",
       "      <td>0</td>\n",
       "      <td>1</td>\n",
       "      <td>0</td>\n",
       "      <td>0</td>\n",
       "      <td>0</td>\n",
       "      <td>...</td>\n",
       "      <td>0</td>\n",
       "      <td>0</td>\n",
       "      <td>0</td>\n",
       "      <td>0</td>\n",
       "      <td>0</td>\n",
       "      <td>0</td>\n",
       "      <td>0</td>\n",
       "      <td>0</td>\n",
       "      <td>0</td>\n",
       "      <td>2015-10-05</td>\n",
       "    </tr>\n",
       "    <tr>\n",
       "      <th>1880461</th>\n",
       "      <td>2052.0</td>\n",
       "      <td>0.10</td>\n",
       "      <td>37.617619</td>\n",
       "      <td>-120.938570</td>\n",
       "      <td>0</td>\n",
       "      <td>0</td>\n",
       "      <td>1</td>\n",
       "      <td>0</td>\n",
       "      <td>0</td>\n",
       "      <td>0</td>\n",
       "      <td>...</td>\n",
       "      <td>0</td>\n",
       "      <td>0</td>\n",
       "      <td>0</td>\n",
       "      <td>0</td>\n",
       "      <td>0</td>\n",
       "      <td>0</td>\n",
       "      <td>0</td>\n",
       "      <td>0</td>\n",
       "      <td>0</td>\n",
       "      <td>2015-05-02</td>\n",
       "    </tr>\n",
       "    <tr>\n",
       "      <th>1880462</th>\n",
       "      <td>2309.0</td>\n",
       "      <td>2.00</td>\n",
       "      <td>37.672235</td>\n",
       "      <td>-120.898356</td>\n",
       "      <td>0</td>\n",
       "      <td>0</td>\n",
       "      <td>1</td>\n",
       "      <td>0</td>\n",
       "      <td>0</td>\n",
       "      <td>0</td>\n",
       "      <td>...</td>\n",
       "      <td>0</td>\n",
       "      <td>0</td>\n",
       "      <td>0</td>\n",
       "      <td>0</td>\n",
       "      <td>0</td>\n",
       "      <td>0</td>\n",
       "      <td>0</td>\n",
       "      <td>0</td>\n",
       "      <td>0</td>\n",
       "      <td>2015-10-14</td>\n",
       "    </tr>\n",
       "    <tr>\n",
       "      <th>1880463</th>\n",
       "      <td>2128.0</td>\n",
       "      <td>0.10</td>\n",
       "      <td>34.263217</td>\n",
       "      <td>-116.830950</td>\n",
       "      <td>0</td>\n",
       "      <td>0</td>\n",
       "      <td>1</td>\n",
       "      <td>0</td>\n",
       "      <td>0</td>\n",
       "      <td>0</td>\n",
       "      <td>...</td>\n",
       "      <td>0</td>\n",
       "      <td>0</td>\n",
       "      <td>0</td>\n",
       "      <td>0</td>\n",
       "      <td>0</td>\n",
       "      <td>0</td>\n",
       "      <td>0</td>\n",
       "      <td>0</td>\n",
       "      <td>0</td>\n",
       "      <td>2015-03-14</td>\n",
       "    </tr>\n",
       "  </tbody>\n",
       "</table>\n",
       "<p>1880464 rows × 107 columns</p>\n",
       "</div>"
      ],
      "text/plain": [
       "         DISCOVERY_TIME  FIRE_SIZE   LATITUDE   LONGITUDE  FPA_ID_FED  \\\n",
       "0                 845.0       0.25  38.933056 -120.404444           1   \n",
       "1                1921.0       0.10  38.984167 -120.735556           1   \n",
       "2                1600.0       0.10  38.559167 -119.913333           1   \n",
       "3                1600.0       0.10  38.559167 -119.933056           1   \n",
       "4                1800.0       0.10  38.635278 -120.103611           1   \n",
       "...                 ...        ...        ...         ...         ...   \n",
       "1880459          1726.0       0.01  40.481637 -122.389375           0   \n",
       "1880460           126.0       0.20  37.617619 -120.938570           0   \n",
       "1880461          2052.0       0.10  37.617619 -120.938570           0   \n",
       "1880462          2309.0       2.00  37.672235 -120.898356           0   \n",
       "1880463          2128.0       0.10  34.263217 -116.830950           0   \n",
       "\n",
       "         FPA_ID_INTERAGCY  FPA_ID_NONFED  SOURCESYSTEM_BIA  SOURCESYSTEM_BLM  \\\n",
       "0                       0              0                 0                 0   \n",
       "1                       0              0                 0                 0   \n",
       "2                       0              0                 0                 0   \n",
       "3                       0              0                 0                 0   \n",
       "4                       0              0                 0                 0   \n",
       "...                   ...            ...               ...               ...   \n",
       "1880459                 0              1                 0                 0   \n",
       "1880460                 0              1                 0                 0   \n",
       "1880461                 0              1                 0                 0   \n",
       "1880462                 0              1                 0                 0   \n",
       "1880463                 0              1                 0                 0   \n",
       "\n",
       "         SOURCESYSTEM_BOR  ...  STATE_TN  STATE_TX  STATE_UT  STATE_VA  \\\n",
       "0                       0  ...         0         0         0         0   \n",
       "1                       0  ...         0         0         0         0   \n",
       "2                       0  ...         0         0         0         0   \n",
       "3                       0  ...         0         0         0         0   \n",
       "4                       0  ...         0         0         0         0   \n",
       "...                   ...  ...       ...       ...       ...       ...   \n",
       "1880459                 0  ...         0         0         0         0   \n",
       "1880460                 0  ...         0         0         0         0   \n",
       "1880461                 0  ...         0         0         0         0   \n",
       "1880462                 0  ...         0         0         0         0   \n",
       "1880463                 0  ...         0         0         0         0   \n",
       "\n",
       "         STATE_VT  STATE_WA  STATE_WI  STATE_WV  STATE_WY   timestamp  \n",
       "0               0         0         0         0         0  2004-05-12  \n",
       "1               0         0         0         0         0  2004-05-31  \n",
       "2               0         0         0         0         0  2004-06-28  \n",
       "3               0         0         0         0         0  2004-06-28  \n",
       "4               0         0         0         0         0  2004-06-30  \n",
       "...           ...       ...       ...       ...       ...         ...  \n",
       "1880459         0         0         0         0         0  2015-09-26  \n",
       "1880460         0         0         0         0         0  2015-10-05  \n",
       "1880461         0         0         0         0         0  2015-05-02  \n",
       "1880462         0         0         0         0         0  2015-10-14  \n",
       "1880463         0         0         0         0         0  2015-03-14  \n",
       "\n",
       "[1880464 rows x 107 columns]"
      ]
     },
     "metadata": {},
     "output_type": "display_data"
    }
   ],
   "source": [
    "#df.insert(0, 'DATE', first_column)\n",
    "display(df)"
   ]
  },
  {
   "cell_type": "code",
   "execution_count": 88,
   "metadata": {},
   "outputs": [
    {
     "data": {
      "text/html": [
       "<div>\n",
       "<style scoped>\n",
       "    .dataframe tbody tr th:only-of-type {\n",
       "        vertical-align: middle;\n",
       "    }\n",
       "\n",
       "    .dataframe tbody tr th {\n",
       "        vertical-align: top;\n",
       "    }\n",
       "\n",
       "    .dataframe thead th {\n",
       "        text-align: right;\n",
       "    }\n",
       "</style>\n",
       "<table border=\"1\" class=\"dataframe\">\n",
       "  <thead>\n",
       "    <tr style=\"text-align: right;\">\n",
       "      <th></th>\n",
       "      <th>timestamp</th>\n",
       "      <th>DISCOVERY_TIME</th>\n",
       "      <th>LATITUDE</th>\n",
       "      <th>LONGITUDE</th>\n",
       "      <th>FPA_ID_FED</th>\n",
       "      <th>FPA_ID_INTERAGCY</th>\n",
       "      <th>FPA_ID_NONFED</th>\n",
       "      <th>SOURCESYSTEM_BIA</th>\n",
       "      <th>SOURCESYSTEM_BLM</th>\n",
       "      <th>SOURCESYSTEM_BOR</th>\n",
       "      <th>...</th>\n",
       "      <th>STATE_SD</th>\n",
       "      <th>STATE_TN</th>\n",
       "      <th>STATE_TX</th>\n",
       "      <th>STATE_UT</th>\n",
       "      <th>STATE_VA</th>\n",
       "      <th>STATE_VT</th>\n",
       "      <th>STATE_WA</th>\n",
       "      <th>STATE_WI</th>\n",
       "      <th>STATE_WV</th>\n",
       "      <th>STATE_WY</th>\n",
       "    </tr>\n",
       "  </thead>\n",
       "  <tbody>\n",
       "    <tr>\n",
       "      <th>635127</th>\n",
       "      <td>2006-07-12</td>\n",
       "      <td>NaN</td>\n",
       "      <td>32.718680</td>\n",
       "      <td>-102.645200</td>\n",
       "      <td>0</td>\n",
       "      <td>0</td>\n",
       "      <td>1</td>\n",
       "      <td>0</td>\n",
       "      <td>0</td>\n",
       "      <td>0</td>\n",
       "      <td>...</td>\n",
       "      <td>0</td>\n",
       "      <td>0</td>\n",
       "      <td>1</td>\n",
       "      <td>0</td>\n",
       "      <td>0</td>\n",
       "      <td>0</td>\n",
       "      <td>0</td>\n",
       "      <td>0</td>\n",
       "      <td>0</td>\n",
       "      <td>0</td>\n",
       "    </tr>\n",
       "    <tr>\n",
       "      <th>417085</th>\n",
       "      <td>2003-01-24</td>\n",
       "      <td>NaN</td>\n",
       "      <td>34.390316</td>\n",
       "      <td>-83.766311</td>\n",
       "      <td>0</td>\n",
       "      <td>0</td>\n",
       "      <td>1</td>\n",
       "      <td>0</td>\n",
       "      <td>0</td>\n",
       "      <td>0</td>\n",
       "      <td>...</td>\n",
       "      <td>0</td>\n",
       "      <td>0</td>\n",
       "      <td>0</td>\n",
       "      <td>0</td>\n",
       "      <td>0</td>\n",
       "      <td>0</td>\n",
       "      <td>0</td>\n",
       "      <td>0</td>\n",
       "      <td>0</td>\n",
       "      <td>0</td>\n",
       "    </tr>\n",
       "    <tr>\n",
       "      <th>911616</th>\n",
       "      <td>1999-03-06</td>\n",
       "      <td>NaN</td>\n",
       "      <td>34.216700</td>\n",
       "      <td>-80.400000</td>\n",
       "      <td>0</td>\n",
       "      <td>0</td>\n",
       "      <td>1</td>\n",
       "      <td>0</td>\n",
       "      <td>0</td>\n",
       "      <td>0</td>\n",
       "      <td>...</td>\n",
       "      <td>0</td>\n",
       "      <td>0</td>\n",
       "      <td>0</td>\n",
       "      <td>0</td>\n",
       "      <td>0</td>\n",
       "      <td>0</td>\n",
       "      <td>0</td>\n",
       "      <td>0</td>\n",
       "      <td>0</td>\n",
       "      <td>0</td>\n",
       "    </tr>\n",
       "    <tr>\n",
       "      <th>1127882</th>\n",
       "      <td>1997-03-16</td>\n",
       "      <td>NaN</td>\n",
       "      <td>37.398056</td>\n",
       "      <td>-118.558056</td>\n",
       "      <td>0</td>\n",
       "      <td>0</td>\n",
       "      <td>1</td>\n",
       "      <td>0</td>\n",
       "      <td>0</td>\n",
       "      <td>0</td>\n",
       "      <td>...</td>\n",
       "      <td>0</td>\n",
       "      <td>0</td>\n",
       "      <td>0</td>\n",
       "      <td>0</td>\n",
       "      <td>0</td>\n",
       "      <td>0</td>\n",
       "      <td>0</td>\n",
       "      <td>0</td>\n",
       "      <td>0</td>\n",
       "      <td>0</td>\n",
       "    </tr>\n",
       "    <tr>\n",
       "      <th>1308391</th>\n",
       "      <td>2006-04-12</td>\n",
       "      <td>2143.0</td>\n",
       "      <td>40.780764</td>\n",
       "      <td>-73.791343</td>\n",
       "      <td>0</td>\n",
       "      <td>0</td>\n",
       "      <td>1</td>\n",
       "      <td>0</td>\n",
       "      <td>0</td>\n",
       "      <td>0</td>\n",
       "      <td>...</td>\n",
       "      <td>0</td>\n",
       "      <td>0</td>\n",
       "      <td>0</td>\n",
       "      <td>0</td>\n",
       "      <td>0</td>\n",
       "      <td>0</td>\n",
       "      <td>0</td>\n",
       "      <td>0</td>\n",
       "      <td>0</td>\n",
       "      <td>0</td>\n",
       "    </tr>\n",
       "    <tr>\n",
       "      <th>...</th>\n",
       "      <td>...</td>\n",
       "      <td>...</td>\n",
       "      <td>...</td>\n",
       "      <td>...</td>\n",
       "      <td>...</td>\n",
       "      <td>...</td>\n",
       "      <td>...</td>\n",
       "      <td>...</td>\n",
       "      <td>...</td>\n",
       "      <td>...</td>\n",
       "      <td>...</td>\n",
       "      <td>...</td>\n",
       "      <td>...</td>\n",
       "      <td>...</td>\n",
       "      <td>...</td>\n",
       "      <td>...</td>\n",
       "      <td>...</td>\n",
       "      <td>...</td>\n",
       "      <td>...</td>\n",
       "      <td>...</td>\n",
       "      <td>...</td>\n",
       "    </tr>\n",
       "    <tr>\n",
       "      <th>259178</th>\n",
       "      <td>2008-04-04</td>\n",
       "      <td>2250.0</td>\n",
       "      <td>48.867500</td>\n",
       "      <td>-99.720500</td>\n",
       "      <td>1</td>\n",
       "      <td>0</td>\n",
       "      <td>0</td>\n",
       "      <td>1</td>\n",
       "      <td>0</td>\n",
       "      <td>0</td>\n",
       "      <td>...</td>\n",
       "      <td>0</td>\n",
       "      <td>0</td>\n",
       "      <td>0</td>\n",
       "      <td>0</td>\n",
       "      <td>0</td>\n",
       "      <td>0</td>\n",
       "      <td>0</td>\n",
       "      <td>0</td>\n",
       "      <td>0</td>\n",
       "      <td>0</td>\n",
       "    </tr>\n",
       "    <tr>\n",
       "      <th>1414414</th>\n",
       "      <td>1995-04-16</td>\n",
       "      <td>1450.0</td>\n",
       "      <td>33.795900</td>\n",
       "      <td>-85.186400</td>\n",
       "      <td>0</td>\n",
       "      <td>0</td>\n",
       "      <td>1</td>\n",
       "      <td>0</td>\n",
       "      <td>0</td>\n",
       "      <td>0</td>\n",
       "      <td>...</td>\n",
       "      <td>0</td>\n",
       "      <td>0</td>\n",
       "      <td>0</td>\n",
       "      <td>0</td>\n",
       "      <td>0</td>\n",
       "      <td>0</td>\n",
       "      <td>0</td>\n",
       "      <td>0</td>\n",
       "      <td>0</td>\n",
       "      <td>0</td>\n",
       "    </tr>\n",
       "    <tr>\n",
       "      <th>131932</th>\n",
       "      <td>2000-08-17</td>\n",
       "      <td>1400.0</td>\n",
       "      <td>44.068889</td>\n",
       "      <td>-110.110278</td>\n",
       "      <td>1</td>\n",
       "      <td>0</td>\n",
       "      <td>0</td>\n",
       "      <td>0</td>\n",
       "      <td>0</td>\n",
       "      <td>0</td>\n",
       "      <td>...</td>\n",
       "      <td>0</td>\n",
       "      <td>0</td>\n",
       "      <td>0</td>\n",
       "      <td>0</td>\n",
       "      <td>0</td>\n",
       "      <td>0</td>\n",
       "      <td>0</td>\n",
       "      <td>0</td>\n",
       "      <td>0</td>\n",
       "      <td>1</td>\n",
       "    </tr>\n",
       "    <tr>\n",
       "      <th>671155</th>\n",
       "      <td>2007-11-03</td>\n",
       "      <td>NaN</td>\n",
       "      <td>42.857380</td>\n",
       "      <td>-89.541600</td>\n",
       "      <td>0</td>\n",
       "      <td>0</td>\n",
       "      <td>1</td>\n",
       "      <td>0</td>\n",
       "      <td>0</td>\n",
       "      <td>0</td>\n",
       "      <td>...</td>\n",
       "      <td>0</td>\n",
       "      <td>0</td>\n",
       "      <td>0</td>\n",
       "      <td>0</td>\n",
       "      <td>0</td>\n",
       "      <td>0</td>\n",
       "      <td>0</td>\n",
       "      <td>1</td>\n",
       "      <td>0</td>\n",
       "      <td>0</td>\n",
       "    </tr>\n",
       "    <tr>\n",
       "      <th>121958</th>\n",
       "      <td>1999-08-05</td>\n",
       "      <td>1357.0</td>\n",
       "      <td>46.876389</td>\n",
       "      <td>-121.066944</td>\n",
       "      <td>1</td>\n",
       "      <td>0</td>\n",
       "      <td>0</td>\n",
       "      <td>0</td>\n",
       "      <td>0</td>\n",
       "      <td>0</td>\n",
       "      <td>...</td>\n",
       "      <td>0</td>\n",
       "      <td>0</td>\n",
       "      <td>0</td>\n",
       "      <td>0</td>\n",
       "      <td>0</td>\n",
       "      <td>0</td>\n",
       "      <td>1</td>\n",
       "      <td>0</td>\n",
       "      <td>0</td>\n",
       "      <td>0</td>\n",
       "    </tr>\n",
       "  </tbody>\n",
       "</table>\n",
       "<p>1504371 rows × 106 columns</p>\n",
       "</div>"
      ],
      "text/plain": [
       "          timestamp  DISCOVERY_TIME   LATITUDE   LONGITUDE  FPA_ID_FED  \\\n",
       "635127   2006-07-12             NaN  32.718680 -102.645200           0   \n",
       "417085   2003-01-24             NaN  34.390316  -83.766311           0   \n",
       "911616   1999-03-06             NaN  34.216700  -80.400000           0   \n",
       "1127882  1997-03-16             NaN  37.398056 -118.558056           0   \n",
       "1308391  2006-04-12          2143.0  40.780764  -73.791343           0   \n",
       "...             ...             ...        ...         ...         ...   \n",
       "259178   2008-04-04          2250.0  48.867500  -99.720500           1   \n",
       "1414414  1995-04-16          1450.0  33.795900  -85.186400           0   \n",
       "131932   2000-08-17          1400.0  44.068889 -110.110278           1   \n",
       "671155   2007-11-03             NaN  42.857380  -89.541600           0   \n",
       "121958   1999-08-05          1357.0  46.876389 -121.066944           1   \n",
       "\n",
       "         FPA_ID_INTERAGCY  FPA_ID_NONFED  SOURCESYSTEM_BIA  SOURCESYSTEM_BLM  \\\n",
       "635127                  0              1                 0                 0   \n",
       "417085                  0              1                 0                 0   \n",
       "911616                  0              1                 0                 0   \n",
       "1127882                 0              1                 0                 0   \n",
       "1308391                 0              1                 0                 0   \n",
       "...                   ...            ...               ...               ...   \n",
       "259178                  0              0                 1                 0   \n",
       "1414414                 0              1                 0                 0   \n",
       "131932                  0              0                 0                 0   \n",
       "671155                  0              1                 0                 0   \n",
       "121958                  0              0                 0                 0   \n",
       "\n",
       "         SOURCESYSTEM_BOR  ...  STATE_SD  STATE_TN  STATE_TX  STATE_UT  \\\n",
       "635127                  0  ...         0         0         1         0   \n",
       "417085                  0  ...         0         0         0         0   \n",
       "911616                  0  ...         0         0         0         0   \n",
       "1127882                 0  ...         0         0         0         0   \n",
       "1308391                 0  ...         0         0         0         0   \n",
       "...                   ...  ...       ...       ...       ...       ...   \n",
       "259178                  0  ...         0         0         0         0   \n",
       "1414414                 0  ...         0         0         0         0   \n",
       "131932                  0  ...         0         0         0         0   \n",
       "671155                  0  ...         0         0         0         0   \n",
       "121958                  0  ...         0         0         0         0   \n",
       "\n",
       "         STATE_VA  STATE_VT  STATE_WA  STATE_WI  STATE_WV  STATE_WY  \n",
       "635127          0         0         0         0         0         0  \n",
       "417085          0         0         0         0         0         0  \n",
       "911616          0         0         0         0         0         0  \n",
       "1127882         0         0         0         0         0         0  \n",
       "1308391         0         0         0         0         0         0  \n",
       "...           ...       ...       ...       ...       ...       ...  \n",
       "259178          0         0         0         0         0         0  \n",
       "1414414         0         0         0         0         0         0  \n",
       "131932          0         0         0         0         0         1  \n",
       "671155          0         0         0         1         0         0  \n",
       "121958          0         0         1         0         0         0  \n",
       "\n",
       "[1504371 rows x 106 columns]"
      ]
     },
     "execution_count": 88,
     "metadata": {},
     "output_type": "execute_result"
    }
   ],
   "source": [
    "X_train"
   ]
  },
  {
   "cell_type": "code",
   "execution_count": 89,
   "metadata": {},
   "outputs": [
    {
     "data": {
      "text/plain": [
       "635127       1.00\n",
       "417085       0.55\n",
       "911616       1.00\n",
       "1127882    125.00\n",
       "1308391      0.10\n",
       "            ...  \n",
       "259178       1.30\n",
       "1414414      0.10\n",
       "131932       0.50\n",
       "671155       0.60\n",
       "121958       0.10\n",
       "Name: FIRE_SIZE, Length: 1504371, dtype: float64"
      ]
     },
     "execution_count": 89,
     "metadata": {},
     "output_type": "execute_result"
    }
   ],
   "source": [
    "y_train"
   ]
  },
  {
   "cell_type": "code",
   "execution_count": 90,
   "metadata": {},
   "outputs": [
    {
     "data": {
      "text/plain": [
       "0         1970-01-01 00:00:00.000000845\n",
       "1         1970-01-01 00:00:00.000001921\n",
       "2         1970-01-01 00:00:00.000001600\n",
       "3         1970-01-01 00:00:00.000001600\n",
       "4         1970-01-01 00:00:00.000001800\n",
       "                       ...             \n",
       "1880459   1970-01-01 00:00:00.000001726\n",
       "1880460   1970-01-01 00:00:00.000000126\n",
       "1880461   1970-01-01 00:00:00.000002052\n",
       "1880462   1970-01-01 00:00:00.000002309\n",
       "1880463   1970-01-01 00:00:00.000002128\n",
       "Name: DISCOVERY_TIME, Length: 1880464, dtype: datetime64[ns]"
      ]
     },
     "execution_count": 90,
     "metadata": {},
     "output_type": "execute_result"
    }
   ],
   "source": [
    "#df[\"DISCOVERY_TIME\"].max()\n",
    "#((df[\"DISCOVERY_TIME\"] % 100)/60.0 + df[\"DISCOVERY_TIME\"] / 100)/24\n",
    "dt64 = pd.to_datetime(df[\"DISCOVERY_TIME\"])\n",
    "dt64"
   ]
  },
  {
   "cell_type": "code",
   "execution_count": 91,
   "metadata": {},
   "outputs": [
    {
     "data": {
      "text/html": [
       "<div>\n",
       "<style scoped>\n",
       "    .dataframe tbody tr th:only-of-type {\n",
       "        vertical-align: middle;\n",
       "    }\n",
       "\n",
       "    .dataframe tbody tr th {\n",
       "        vertical-align: top;\n",
       "    }\n",
       "\n",
       "    .dataframe thead th {\n",
       "        text-align: right;\n",
       "    }\n",
       "</style>\n",
       "<table border=\"1\" class=\"dataframe\">\n",
       "  <thead>\n",
       "    <tr style=\"text-align: right;\">\n",
       "      <th></th>\n",
       "      <th>TIMESTAMP1</th>\n",
       "      <th>DISCOVERY_TIME</th>\n",
       "      <th>FIRE_SIZE</th>\n",
       "      <th>LATITUDE</th>\n",
       "      <th>LONGITUDE</th>\n",
       "      <th>FPA_ID_FED</th>\n",
       "      <th>FPA_ID_INTERAGCY</th>\n",
       "      <th>FPA_ID_NONFED</th>\n",
       "      <th>SOURCESYSTEM_BIA</th>\n",
       "      <th>SOURCESYSTEM_BLM</th>\n",
       "      <th>...</th>\n",
       "      <th>STATE_TN</th>\n",
       "      <th>STATE_TX</th>\n",
       "      <th>STATE_UT</th>\n",
       "      <th>STATE_VA</th>\n",
       "      <th>STATE_VT</th>\n",
       "      <th>STATE_WA</th>\n",
       "      <th>STATE_WI</th>\n",
       "      <th>STATE_WV</th>\n",
       "      <th>STATE_WY</th>\n",
       "      <th>timestamp</th>\n",
       "    </tr>\n",
       "  </thead>\n",
       "  <tbody>\n",
       "    <tr>\n",
       "      <th>0</th>\n",
       "      <td>1970-01-01 00:00:00.000000845</td>\n",
       "      <td>845.0</td>\n",
       "      <td>0.25</td>\n",
       "      <td>38.933056</td>\n",
       "      <td>-120.404444</td>\n",
       "      <td>1</td>\n",
       "      <td>0</td>\n",
       "      <td>0</td>\n",
       "      <td>0</td>\n",
       "      <td>0</td>\n",
       "      <td>...</td>\n",
       "      <td>0</td>\n",
       "      <td>0</td>\n",
       "      <td>0</td>\n",
       "      <td>0</td>\n",
       "      <td>0</td>\n",
       "      <td>0</td>\n",
       "      <td>0</td>\n",
       "      <td>0</td>\n",
       "      <td>0</td>\n",
       "      <td>2004-05-12</td>\n",
       "    </tr>\n",
       "    <tr>\n",
       "      <th>1</th>\n",
       "      <td>1970-01-01 00:00:00.000001921</td>\n",
       "      <td>1921.0</td>\n",
       "      <td>0.10</td>\n",
       "      <td>38.984167</td>\n",
       "      <td>-120.735556</td>\n",
       "      <td>1</td>\n",
       "      <td>0</td>\n",
       "      <td>0</td>\n",
       "      <td>0</td>\n",
       "      <td>0</td>\n",
       "      <td>...</td>\n",
       "      <td>0</td>\n",
       "      <td>0</td>\n",
       "      <td>0</td>\n",
       "      <td>0</td>\n",
       "      <td>0</td>\n",
       "      <td>0</td>\n",
       "      <td>0</td>\n",
       "      <td>0</td>\n",
       "      <td>0</td>\n",
       "      <td>2004-05-31</td>\n",
       "    </tr>\n",
       "    <tr>\n",
       "      <th>2</th>\n",
       "      <td>1970-01-01 00:00:00.000001600</td>\n",
       "      <td>1600.0</td>\n",
       "      <td>0.10</td>\n",
       "      <td>38.559167</td>\n",
       "      <td>-119.913333</td>\n",
       "      <td>1</td>\n",
       "      <td>0</td>\n",
       "      <td>0</td>\n",
       "      <td>0</td>\n",
       "      <td>0</td>\n",
       "      <td>...</td>\n",
       "      <td>0</td>\n",
       "      <td>0</td>\n",
       "      <td>0</td>\n",
       "      <td>0</td>\n",
       "      <td>0</td>\n",
       "      <td>0</td>\n",
       "      <td>0</td>\n",
       "      <td>0</td>\n",
       "      <td>0</td>\n",
       "      <td>2004-06-28</td>\n",
       "    </tr>\n",
       "    <tr>\n",
       "      <th>3</th>\n",
       "      <td>1970-01-01 00:00:00.000001600</td>\n",
       "      <td>1600.0</td>\n",
       "      <td>0.10</td>\n",
       "      <td>38.559167</td>\n",
       "      <td>-119.933056</td>\n",
       "      <td>1</td>\n",
       "      <td>0</td>\n",
       "      <td>0</td>\n",
       "      <td>0</td>\n",
       "      <td>0</td>\n",
       "      <td>...</td>\n",
       "      <td>0</td>\n",
       "      <td>0</td>\n",
       "      <td>0</td>\n",
       "      <td>0</td>\n",
       "      <td>0</td>\n",
       "      <td>0</td>\n",
       "      <td>0</td>\n",
       "      <td>0</td>\n",
       "      <td>0</td>\n",
       "      <td>2004-06-28</td>\n",
       "    </tr>\n",
       "    <tr>\n",
       "      <th>4</th>\n",
       "      <td>1970-01-01 00:00:00.000001800</td>\n",
       "      <td>1800.0</td>\n",
       "      <td>0.10</td>\n",
       "      <td>38.635278</td>\n",
       "      <td>-120.103611</td>\n",
       "      <td>1</td>\n",
       "      <td>0</td>\n",
       "      <td>0</td>\n",
       "      <td>0</td>\n",
       "      <td>0</td>\n",
       "      <td>...</td>\n",
       "      <td>0</td>\n",
       "      <td>0</td>\n",
       "      <td>0</td>\n",
       "      <td>0</td>\n",
       "      <td>0</td>\n",
       "      <td>0</td>\n",
       "      <td>0</td>\n",
       "      <td>0</td>\n",
       "      <td>0</td>\n",
       "      <td>2004-06-30</td>\n",
       "    </tr>\n",
       "    <tr>\n",
       "      <th>...</th>\n",
       "      <td>...</td>\n",
       "      <td>...</td>\n",
       "      <td>...</td>\n",
       "      <td>...</td>\n",
       "      <td>...</td>\n",
       "      <td>...</td>\n",
       "      <td>...</td>\n",
       "      <td>...</td>\n",
       "      <td>...</td>\n",
       "      <td>...</td>\n",
       "      <td>...</td>\n",
       "      <td>...</td>\n",
       "      <td>...</td>\n",
       "      <td>...</td>\n",
       "      <td>...</td>\n",
       "      <td>...</td>\n",
       "      <td>...</td>\n",
       "      <td>...</td>\n",
       "      <td>...</td>\n",
       "      <td>...</td>\n",
       "      <td>...</td>\n",
       "    </tr>\n",
       "    <tr>\n",
       "      <th>1880459</th>\n",
       "      <td>1970-01-01 00:00:00.000001726</td>\n",
       "      <td>1726.0</td>\n",
       "      <td>0.01</td>\n",
       "      <td>40.481637</td>\n",
       "      <td>-122.389375</td>\n",
       "      <td>0</td>\n",
       "      <td>0</td>\n",
       "      <td>1</td>\n",
       "      <td>0</td>\n",
       "      <td>0</td>\n",
       "      <td>...</td>\n",
       "      <td>0</td>\n",
       "      <td>0</td>\n",
       "      <td>0</td>\n",
       "      <td>0</td>\n",
       "      <td>0</td>\n",
       "      <td>0</td>\n",
       "      <td>0</td>\n",
       "      <td>0</td>\n",
       "      <td>0</td>\n",
       "      <td>2015-09-26</td>\n",
       "    </tr>\n",
       "    <tr>\n",
       "      <th>1880460</th>\n",
       "      <td>1970-01-01 00:00:00.000000126</td>\n",
       "      <td>126.0</td>\n",
       "      <td>0.20</td>\n",
       "      <td>37.617619</td>\n",
       "      <td>-120.938570</td>\n",
       "      <td>0</td>\n",
       "      <td>0</td>\n",
       "      <td>1</td>\n",
       "      <td>0</td>\n",
       "      <td>0</td>\n",
       "      <td>...</td>\n",
       "      <td>0</td>\n",
       "      <td>0</td>\n",
       "      <td>0</td>\n",
       "      <td>0</td>\n",
       "      <td>0</td>\n",
       "      <td>0</td>\n",
       "      <td>0</td>\n",
       "      <td>0</td>\n",
       "      <td>0</td>\n",
       "      <td>2015-10-05</td>\n",
       "    </tr>\n",
       "    <tr>\n",
       "      <th>1880461</th>\n",
       "      <td>1970-01-01 00:00:00.000002052</td>\n",
       "      <td>2052.0</td>\n",
       "      <td>0.10</td>\n",
       "      <td>37.617619</td>\n",
       "      <td>-120.938570</td>\n",
       "      <td>0</td>\n",
       "      <td>0</td>\n",
       "      <td>1</td>\n",
       "      <td>0</td>\n",
       "      <td>0</td>\n",
       "      <td>...</td>\n",
       "      <td>0</td>\n",
       "      <td>0</td>\n",
       "      <td>0</td>\n",
       "      <td>0</td>\n",
       "      <td>0</td>\n",
       "      <td>0</td>\n",
       "      <td>0</td>\n",
       "      <td>0</td>\n",
       "      <td>0</td>\n",
       "      <td>2015-05-02</td>\n",
       "    </tr>\n",
       "    <tr>\n",
       "      <th>1880462</th>\n",
       "      <td>1970-01-01 00:00:00.000002309</td>\n",
       "      <td>2309.0</td>\n",
       "      <td>2.00</td>\n",
       "      <td>37.672235</td>\n",
       "      <td>-120.898356</td>\n",
       "      <td>0</td>\n",
       "      <td>0</td>\n",
       "      <td>1</td>\n",
       "      <td>0</td>\n",
       "      <td>0</td>\n",
       "      <td>...</td>\n",
       "      <td>0</td>\n",
       "      <td>0</td>\n",
       "      <td>0</td>\n",
       "      <td>0</td>\n",
       "      <td>0</td>\n",
       "      <td>0</td>\n",
       "      <td>0</td>\n",
       "      <td>0</td>\n",
       "      <td>0</td>\n",
       "      <td>2015-10-14</td>\n",
       "    </tr>\n",
       "    <tr>\n",
       "      <th>1880463</th>\n",
       "      <td>1970-01-01 00:00:00.000002128</td>\n",
       "      <td>2128.0</td>\n",
       "      <td>0.10</td>\n",
       "      <td>34.263217</td>\n",
       "      <td>-116.830950</td>\n",
       "      <td>0</td>\n",
       "      <td>0</td>\n",
       "      <td>1</td>\n",
       "      <td>0</td>\n",
       "      <td>0</td>\n",
       "      <td>...</td>\n",
       "      <td>0</td>\n",
       "      <td>0</td>\n",
       "      <td>0</td>\n",
       "      <td>0</td>\n",
       "      <td>0</td>\n",
       "      <td>0</td>\n",
       "      <td>0</td>\n",
       "      <td>0</td>\n",
       "      <td>0</td>\n",
       "      <td>2015-03-14</td>\n",
       "    </tr>\n",
       "  </tbody>\n",
       "</table>\n",
       "<p>1880464 rows × 108 columns</p>\n",
       "</div>"
      ],
      "text/plain": [
       "                           TIMESTAMP1  DISCOVERY_TIME  FIRE_SIZE   LATITUDE  \\\n",
       "0       1970-01-01 00:00:00.000000845           845.0       0.25  38.933056   \n",
       "1       1970-01-01 00:00:00.000001921          1921.0       0.10  38.984167   \n",
       "2       1970-01-01 00:00:00.000001600          1600.0       0.10  38.559167   \n",
       "3       1970-01-01 00:00:00.000001600          1600.0       0.10  38.559167   \n",
       "4       1970-01-01 00:00:00.000001800          1800.0       0.10  38.635278   \n",
       "...                               ...             ...        ...        ...   \n",
       "1880459 1970-01-01 00:00:00.000001726          1726.0       0.01  40.481637   \n",
       "1880460 1970-01-01 00:00:00.000000126           126.0       0.20  37.617619   \n",
       "1880461 1970-01-01 00:00:00.000002052          2052.0       0.10  37.617619   \n",
       "1880462 1970-01-01 00:00:00.000002309          2309.0       2.00  37.672235   \n",
       "1880463 1970-01-01 00:00:00.000002128          2128.0       0.10  34.263217   \n",
       "\n",
       "          LONGITUDE  FPA_ID_FED  FPA_ID_INTERAGCY  FPA_ID_NONFED  \\\n",
       "0       -120.404444           1                 0              0   \n",
       "1       -120.735556           1                 0              0   \n",
       "2       -119.913333           1                 0              0   \n",
       "3       -119.933056           1                 0              0   \n",
       "4       -120.103611           1                 0              0   \n",
       "...             ...         ...               ...            ...   \n",
       "1880459 -122.389375           0                 0              1   \n",
       "1880460 -120.938570           0                 0              1   \n",
       "1880461 -120.938570           0                 0              1   \n",
       "1880462 -120.898356           0                 0              1   \n",
       "1880463 -116.830950           0                 0              1   \n",
       "\n",
       "         SOURCESYSTEM_BIA  SOURCESYSTEM_BLM  ...  STATE_TN  STATE_TX  \\\n",
       "0                       0                 0  ...         0         0   \n",
       "1                       0                 0  ...         0         0   \n",
       "2                       0                 0  ...         0         0   \n",
       "3                       0                 0  ...         0         0   \n",
       "4                       0                 0  ...         0         0   \n",
       "...                   ...               ...  ...       ...       ...   \n",
       "1880459                 0                 0  ...         0         0   \n",
       "1880460                 0                 0  ...         0         0   \n",
       "1880461                 0                 0  ...         0         0   \n",
       "1880462                 0                 0  ...         0         0   \n",
       "1880463                 0                 0  ...         0         0   \n",
       "\n",
       "         STATE_UT  STATE_VA  STATE_VT  STATE_WA  STATE_WI  STATE_WV  STATE_WY  \\\n",
       "0               0         0         0         0         0         0         0   \n",
       "1               0         0         0         0         0         0         0   \n",
       "2               0         0         0         0         0         0         0   \n",
       "3               0         0         0         0         0         0         0   \n",
       "4               0         0         0         0         0         0         0   \n",
       "...           ...       ...       ...       ...       ...       ...       ...   \n",
       "1880459         0         0         0         0         0         0         0   \n",
       "1880460         0         0         0         0         0         0         0   \n",
       "1880461         0         0         0         0         0         0         0   \n",
       "1880462         0         0         0         0         0         0         0   \n",
       "1880463         0         0         0         0         0         0         0   \n",
       "\n",
       "          timestamp  \n",
       "0        2004-05-12  \n",
       "1        2004-05-31  \n",
       "2        2004-06-28  \n",
       "3        2004-06-28  \n",
       "4        2004-06-30  \n",
       "...             ...  \n",
       "1880459  2015-09-26  \n",
       "1880460  2015-10-05  \n",
       "1880461  2015-05-02  \n",
       "1880462  2015-10-14  \n",
       "1880463  2015-03-14  \n",
       "\n",
       "[1880464 rows x 108 columns]"
      ]
     },
     "metadata": {},
     "output_type": "display_data"
    }
   ],
   "source": [
    "dt64 = pd.to_datetime(df[\"DISCOVERY_TIME\"])\n",
    "dt64\n",
    "df.insert(0, 'TIMESTAMP1', dt64)\n",
    "display(df)"
   ]
  },
  {
   "cell_type": "code",
   "execution_count": 92,
   "metadata": {},
   "outputs": [],
   "source": [
    "df = df[\"DISCOVERY_TIME\"].fillna(0)"
   ]
  },
  {
   "cell_type": "code",
   "execution_count": 94,
   "metadata": {},
   "outputs": [],
   "source": [
    "#df.[\"DISCOVERY_TIME\"].apply(lambda x: int(pd.to_timedelta(pd.to_datetime(x, format='%H:%M').strftime('%H:%M:00'))))"
   ]
  },
  {
   "cell_type": "code",
   "execution_count": 95,
   "metadata": {},
   "outputs": [],
   "source": [
    "#pd.to_datetime(df[\"DISCOVERY_TIME\"], format='%H%M')\n",
    "#df[\"DISCOVERY_TIME\"].dtype\n",
    "#t2 = df[\"DISCOVERY_TIME\"].astype(str).str.zfill(6)\n",
    "#df[\"DISCOVERY_TIME\"] = pd.to_datetime(t2, format='%H%M')"
   ]
  },
  {
   "cell_type": "code",
   "execution_count": 126,
   "metadata": {},
   "outputs": [],
   "source": [
    "num_samples = df.shape[0]\n",
    "time_horizon = 12\n",
    "split_idx = num_samples - time_horizon\n",
    "train_df = df[:split_idx].to_frame() \n",
    "\n",
    "#X_test = data[split_idx:]['index'].to_frame() \n",
    "#df[df.columns[0]].dtype.name == \"datetime64[ns]\"\n",
    "#print(df[df.columns[0]].dtype.name)"
   ]
  },
  {
   "cell_type": "code",
   "execution_count": 132,
   "metadata": {},
   "outputs": [
    {
     "data": {
      "text/plain": [
       "635127                              NaT\n",
       "417085                              NaT\n",
       "911616                              NaT\n",
       "1127882                             NaT\n",
       "1308391   1970-01-01 00:00:00.000002143\n",
       "                       ...             \n",
       "259178    1970-01-01 00:00:00.000002250\n",
       "1414414   1970-01-01 00:00:00.000001450\n",
       "131932    1970-01-01 00:00:00.000001400\n",
       "671155                              NaT\n",
       "121958    1970-01-01 00:00:00.000001357\n",
       "Name: DISCOVERY_TIME, Length: 1504371, dtype: datetime64[ns]"
      ]
     },
     "execution_count": 132,
     "metadata": {},
     "output_type": "execute_result"
    }
   ],
   "source": [
    "dt64 = pd.to_datetime(X_train[\"DISCOVERY_TIME\"])\n",
    "dt64\n",
    "X_train.insert(0, 'TIMESTAMP1', dt64)"
   ]
  },
  {
   "cell_type": "code",
   "execution_count": 128,
   "metadata": {},
   "outputs": [
    {
     "data": {
      "text/plain": [
       "Index(['TIMESTAMP1', 'timestamp', 'DISCOVERY_TIME', 'LATITUDE', 'LONGITUDE',\n",
       "       'FPA_ID_FED', 'FPA_ID_INTERAGCY', 'FPA_ID_NONFED', 'SOURCESYSTEM_BIA',\n",
       "       'SOURCESYSTEM_BLM',\n",
       "       ...\n",
       "       'STATE_SD', 'STATE_TN', 'STATE_TX', 'STATE_UT', 'STATE_VA', 'STATE_VT',\n",
       "       'STATE_WA', 'STATE_WI', 'STATE_WV', 'STATE_WY'],\n",
       "      dtype='object', length=107)"
      ]
     },
     "execution_count": 128,
     "metadata": {},
     "output_type": "execute_result"
    }
   ],
   "source": [
    "X_train.columns"
   ]
  },
  {
   "cell_type": "code",
   "execution_count": 129,
   "metadata": {},
   "outputs": [],
   "source": [
    "#X_train.loc[selection['TIMESTAMP1']]\n",
    "#X_train_new = pd.DataFrame(X_train)\n",
    "#X_train1 = X_train.loc[X_train_new]\n",
    "\n",
    "X_train_new = np.array(X_train, dtype=object)"
   ]
  },
  {
   "cell_type": "code",
   "execution_count": 130,
   "metadata": {},
   "outputs": [],
   "source": [
    "# configure AutoML settings\n",
    "settings = {\n",
    "    \"time_budget\": 60,  # total running time in seconds\n",
    "    #\"metric\": \"mape\",  # primary metric\n",
    "    \"task\": \"ts_forecast\",  # task type\n",
    "    \"log_file_name\": \"forest_fire_1.log\",  # flaml log file\n",
    "    #\"eval_method\": \"holdout\",\n",
    "  #  \"log_type\": \"all\",\n",
    "  #  \"label\": \"demand\",\n",
    "}"
   ]
  },
  {
   "cell_type": "code",
   "execution_count": 131,
   "metadata": {},
   "outputs": [
    {
     "ename": "ValueError",
     "evalue": "Cannot index with multidimensional key",
     "output_type": "error",
     "traceback": [
      "\u001b[0;31m---------------------------------------------------------------------------\u001b[0m",
      "\u001b[0;31mValueError\u001b[0m                                Traceback (most recent call last)",
      "\u001b[0;32m<ipython-input-131-6caa12cba36f>\u001b[0m in \u001b[0;36m<module>\u001b[0;34m\u001b[0m\n\u001b[0;32m----> 1\u001b[0;31m automl.fit(X_train = X_train_new,\n\u001b[0m\u001b[1;32m      2\u001b[0m            \u001b[0my_train\u001b[0m \u001b[0;34m=\u001b[0m \u001b[0my_train\u001b[0m\u001b[0;34m,\u001b[0m\u001b[0;34m\u001b[0m\u001b[0;34m\u001b[0m\u001b[0m\n\u001b[1;32m      3\u001b[0m            **settings)\n\u001b[1;32m      4\u001b[0m \u001b[0;31m#label = 'FIRE_SIZE',\u001b[0m\u001b[0;34m\u001b[0m\u001b[0;34m\u001b[0m\u001b[0;34m\u001b[0m\u001b[0m\n\u001b[1;32m      5\u001b[0m \u001b[0;31m#period = time_horizon)\u001b[0m\u001b[0;34m\u001b[0m\u001b[0;34m\u001b[0m\u001b[0;34m\u001b[0m\u001b[0m\n",
      "\u001b[0;32m~/opt/anaconda3/lib/python3.8/site-packages/flaml/automl.py\u001b[0m in \u001b[0;36mfit\u001b[0;34m(self, X_train, y_train, dataframe, label, metric, task, n_jobs, log_file_name, estimator_list, time_budget, max_iter, sample, ensemble, eval_method, log_type, model_history, split_ratio, n_splits, log_training_metric, mem_thres, pred_time_limit, train_time_limit, X_val, y_val, sample_weight_val, groups_val, groups, verbose, retrain_full, split_type, learner_selector, hpo_method, starting_points, seed, n_concurrent_trials, keep_search_state, preserve_checkpoint, early_stop, append_log, auto_augment, min_sample_size, use_ray, metric_constraints, custom_hp, cv_score_agg_func, skip_transform, fit_kwargs_by_estimator, **fit_kwargs)\u001b[0m\n\u001b[1;32m   2583\u001b[0m         \u001b[0mself\u001b[0m\u001b[0;34m.\u001b[0m\u001b[0m_state\u001b[0m\u001b[0;34m.\u001b[0m\u001b[0mweight_val\u001b[0m \u001b[0;34m=\u001b[0m \u001b[0msample_weight_val\u001b[0m\u001b[0;34m\u001b[0m\u001b[0;34m\u001b[0m\u001b[0m\n\u001b[1;32m   2584\u001b[0m \u001b[0;34m\u001b[0m\u001b[0m\n\u001b[0;32m-> 2585\u001b[0;31m         self._validate_data(\n\u001b[0m\u001b[1;32m   2586\u001b[0m             \u001b[0mX_train\u001b[0m\u001b[0;34m,\u001b[0m \u001b[0my_train\u001b[0m\u001b[0;34m,\u001b[0m \u001b[0mdataframe\u001b[0m\u001b[0;34m,\u001b[0m \u001b[0mlabel\u001b[0m\u001b[0;34m,\u001b[0m \u001b[0mX_val\u001b[0m\u001b[0;34m,\u001b[0m \u001b[0my_val\u001b[0m\u001b[0;34m,\u001b[0m \u001b[0mgroups_val\u001b[0m\u001b[0;34m,\u001b[0m \u001b[0mgroups\u001b[0m\u001b[0;34m\u001b[0m\u001b[0;34m\u001b[0m\u001b[0m\n\u001b[1;32m   2587\u001b[0m         )\n",
      "\u001b[0;32m~/opt/anaconda3/lib/python3.8/site-packages/flaml/automl.py\u001b[0m in \u001b[0;36m_validate_data\u001b[0;34m(self, X_train_all, y_train_all, dataframe, label, X_val, y_val, groups_val, groups)\u001b[0m\n\u001b[1;32m   1075\u001b[0m             \u001b[0;32mif\u001b[0m \u001b[0mself\u001b[0m\u001b[0;34m.\u001b[0m\u001b[0m_state\u001b[0m\u001b[0;34m.\u001b[0m\u001b[0mtask\u001b[0m \u001b[0;32min\u001b[0m \u001b[0mTS_FORECAST\u001b[0m\u001b[0;34m:\u001b[0m\u001b[0;34m\u001b[0m\u001b[0;34m\u001b[0m\u001b[0m\n\u001b[1;32m   1076\u001b[0m                 \u001b[0mX_train_all\u001b[0m \u001b[0;34m=\u001b[0m \u001b[0mpd\u001b[0m\u001b[0;34m.\u001b[0m\u001b[0mDataFrame\u001b[0m\u001b[0;34m(\u001b[0m\u001b[0mX_train_all\u001b[0m\u001b[0;34m)\u001b[0m\u001b[0;34m\u001b[0m\u001b[0;34m\u001b[0m\u001b[0m\n\u001b[0;32m-> 1077\u001b[0;31m                 X_train_all, y_train_all = self._validate_ts_data(\n\u001b[0m\u001b[1;32m   1078\u001b[0m                     \u001b[0mX_train_all\u001b[0m\u001b[0;34m,\u001b[0m \u001b[0my_train_all\u001b[0m\u001b[0;34m\u001b[0m\u001b[0;34m\u001b[0m\u001b[0m\n\u001b[1;32m   1079\u001b[0m                 )\n",
      "\u001b[0;32m~/opt/anaconda3/lib/python3.8/site-packages/flaml/automl.py\u001b[0m in \u001b[0;36m_validate_ts_data\u001b[0;34m(self, dataframe, y_train_all)\u001b[0m\n\u001b[1;32m   1019\u001b[0m         \u001b[0;32mif\u001b[0m \u001b[0many\u001b[0m\u001b[0;34m(\u001b[0m\u001b[0mduplicates\u001b[0m\u001b[0;34m)\u001b[0m\u001b[0;34m:\u001b[0m\u001b[0;34m\u001b[0m\u001b[0;34m\u001b[0m\u001b[0m\n\u001b[1;32m   1020\u001b[0m             logger.warning(\n\u001b[0;32m-> 1021\u001b[0;31m                 \u001b[0;34m\"Duplicate timestamp values found in timestamp column. \"\u001b[0m\u001b[0;34m\u001b[0m\u001b[0;34m\u001b[0m\u001b[0m\n\u001b[0m\u001b[1;32m   1022\u001b[0m                 \u001b[0;34mf\"\\n{dataframe.loc[duplicates, dataframe][dataframe.columns[0]]}\"\u001b[0m\u001b[0;34m\u001b[0m\u001b[0;34m\u001b[0m\u001b[0m\n\u001b[1;32m   1023\u001b[0m             )\n",
      "\u001b[0;32m~/opt/anaconda3/lib/python3.8/site-packages/pandas/core/indexing.py\u001b[0m in \u001b[0;36m__getitem__\u001b[0;34m(self, key)\u001b[0m\n\u001b[1;32m   1065\u001b[0m             \u001b[0;32mif\u001b[0m \u001b[0mself\u001b[0m\u001b[0;34m.\u001b[0m\u001b[0m_is_scalar_access\u001b[0m\u001b[0;34m(\u001b[0m\u001b[0mkey\u001b[0m\u001b[0;34m)\u001b[0m\u001b[0;34m:\u001b[0m\u001b[0;34m\u001b[0m\u001b[0;34m\u001b[0m\u001b[0m\n\u001b[1;32m   1066\u001b[0m                 \u001b[0;32mreturn\u001b[0m \u001b[0mself\u001b[0m\u001b[0;34m.\u001b[0m\u001b[0mobj\u001b[0m\u001b[0;34m.\u001b[0m\u001b[0m_get_value\u001b[0m\u001b[0;34m(\u001b[0m\u001b[0;34m*\u001b[0m\u001b[0mkey\u001b[0m\u001b[0;34m,\u001b[0m \u001b[0mtakeable\u001b[0m\u001b[0;34m=\u001b[0m\u001b[0mself\u001b[0m\u001b[0;34m.\u001b[0m\u001b[0m_takeable\u001b[0m\u001b[0;34m)\u001b[0m\u001b[0;34m\u001b[0m\u001b[0;34m\u001b[0m\u001b[0m\n\u001b[0;32m-> 1067\u001b[0;31m             \u001b[0;32mreturn\u001b[0m \u001b[0mself\u001b[0m\u001b[0;34m.\u001b[0m\u001b[0m_getitem_tuple\u001b[0m\u001b[0;34m(\u001b[0m\u001b[0mkey\u001b[0m\u001b[0;34m)\u001b[0m\u001b[0;34m\u001b[0m\u001b[0;34m\u001b[0m\u001b[0m\n\u001b[0m\u001b[1;32m   1068\u001b[0m         \u001b[0;32melse\u001b[0m\u001b[0;34m:\u001b[0m\u001b[0;34m\u001b[0m\u001b[0;34m\u001b[0m\u001b[0m\n\u001b[1;32m   1069\u001b[0m             \u001b[0;31m# we by definition only have the 0th axis\u001b[0m\u001b[0;34m\u001b[0m\u001b[0;34m\u001b[0m\u001b[0;34m\u001b[0m\u001b[0m\n",
      "\u001b[0;32m~/opt/anaconda3/lib/python3.8/site-packages/pandas/core/indexing.py\u001b[0m in \u001b[0;36m_getitem_tuple\u001b[0;34m(self, tup)\u001b[0m\n\u001b[1;32m   1254\u001b[0m             \u001b[0;32mreturn\u001b[0m \u001b[0mself\u001b[0m\u001b[0;34m.\u001b[0m\u001b[0m_multi_take\u001b[0m\u001b[0;34m(\u001b[0m\u001b[0mtup\u001b[0m\u001b[0;34m)\u001b[0m\u001b[0;34m\u001b[0m\u001b[0;34m\u001b[0m\u001b[0m\n\u001b[1;32m   1255\u001b[0m \u001b[0;34m\u001b[0m\u001b[0m\n\u001b[0;32m-> 1256\u001b[0;31m         \u001b[0;32mreturn\u001b[0m \u001b[0mself\u001b[0m\u001b[0;34m.\u001b[0m\u001b[0m_getitem_tuple_same_dim\u001b[0m\u001b[0;34m(\u001b[0m\u001b[0mtup\u001b[0m\u001b[0;34m)\u001b[0m\u001b[0;34m\u001b[0m\u001b[0;34m\u001b[0m\u001b[0m\n\u001b[0m\u001b[1;32m   1257\u001b[0m \u001b[0;34m\u001b[0m\u001b[0m\n\u001b[1;32m   1258\u001b[0m     \u001b[0;32mdef\u001b[0m \u001b[0m_get_label\u001b[0m\u001b[0;34m(\u001b[0m\u001b[0mself\u001b[0m\u001b[0;34m,\u001b[0m \u001b[0mlabel\u001b[0m\u001b[0;34m,\u001b[0m \u001b[0maxis\u001b[0m\u001b[0;34m:\u001b[0m \u001b[0mint\u001b[0m\u001b[0;34m)\u001b[0m\u001b[0;34m:\u001b[0m\u001b[0;34m\u001b[0m\u001b[0;34m\u001b[0m\u001b[0m\n",
      "\u001b[0;32m~/opt/anaconda3/lib/python3.8/site-packages/pandas/core/indexing.py\u001b[0m in \u001b[0;36m_getitem_tuple_same_dim\u001b[0;34m(self, tup)\u001b[0m\n\u001b[1;32m    922\u001b[0m                 \u001b[0;32mcontinue\u001b[0m\u001b[0;34m\u001b[0m\u001b[0;34m\u001b[0m\u001b[0m\n\u001b[1;32m    923\u001b[0m \u001b[0;34m\u001b[0m\u001b[0m\n\u001b[0;32m--> 924\u001b[0;31m             \u001b[0mretval\u001b[0m \u001b[0;34m=\u001b[0m \u001b[0mgetattr\u001b[0m\u001b[0;34m(\u001b[0m\u001b[0mretval\u001b[0m\u001b[0;34m,\u001b[0m \u001b[0mself\u001b[0m\u001b[0;34m.\u001b[0m\u001b[0mname\u001b[0m\u001b[0;34m)\u001b[0m\u001b[0;34m.\u001b[0m\u001b[0m_getitem_axis\u001b[0m\u001b[0;34m(\u001b[0m\u001b[0mkey\u001b[0m\u001b[0;34m,\u001b[0m \u001b[0maxis\u001b[0m\u001b[0;34m=\u001b[0m\u001b[0mi\u001b[0m\u001b[0;34m)\u001b[0m\u001b[0;34m\u001b[0m\u001b[0;34m\u001b[0m\u001b[0m\n\u001b[0m\u001b[1;32m    925\u001b[0m             \u001b[0;31m# We should never have retval.ndim < self.ndim, as that should\u001b[0m\u001b[0;34m\u001b[0m\u001b[0;34m\u001b[0m\u001b[0;34m\u001b[0m\u001b[0m\n\u001b[1;32m    926\u001b[0m             \u001b[0;31m#  be handled by the _getitem_lowerdim call above.\u001b[0m\u001b[0;34m\u001b[0m\u001b[0;34m\u001b[0m\u001b[0;34m\u001b[0m\u001b[0m\n",
      "\u001b[0;32m~/opt/anaconda3/lib/python3.8/site-packages/pandas/core/indexing.py\u001b[0m in \u001b[0;36m_getitem_axis\u001b[0;34m(self, key, axis)\u001b[0m\n\u001b[1;32m   1297\u001b[0m \u001b[0;34m\u001b[0m\u001b[0m\n\u001b[1;32m   1298\u001b[0m                 \u001b[0;32mif\u001b[0m \u001b[0mhasattr\u001b[0m\u001b[0;34m(\u001b[0m\u001b[0mkey\u001b[0m\u001b[0;34m,\u001b[0m \u001b[0;34m\"ndim\"\u001b[0m\u001b[0;34m)\u001b[0m \u001b[0;32mand\u001b[0m \u001b[0mkey\u001b[0m\u001b[0;34m.\u001b[0m\u001b[0mndim\u001b[0m \u001b[0;34m>\u001b[0m \u001b[0;36m1\u001b[0m\u001b[0;34m:\u001b[0m\u001b[0;34m\u001b[0m\u001b[0;34m\u001b[0m\u001b[0m\n\u001b[0;32m-> 1299\u001b[0;31m                     \u001b[0;32mraise\u001b[0m \u001b[0mValueError\u001b[0m\u001b[0;34m(\u001b[0m\u001b[0;34m\"Cannot index with multidimensional key\"\u001b[0m\u001b[0;34m)\u001b[0m\u001b[0;34m\u001b[0m\u001b[0;34m\u001b[0m\u001b[0m\n\u001b[0m\u001b[1;32m   1300\u001b[0m \u001b[0;34m\u001b[0m\u001b[0m\n\u001b[1;32m   1301\u001b[0m                 \u001b[0;32mreturn\u001b[0m \u001b[0mself\u001b[0m\u001b[0;34m.\u001b[0m\u001b[0m_getitem_iterable\u001b[0m\u001b[0;34m(\u001b[0m\u001b[0mkey\u001b[0m\u001b[0;34m,\u001b[0m \u001b[0maxis\u001b[0m\u001b[0;34m=\u001b[0m\u001b[0maxis\u001b[0m\u001b[0;34m)\u001b[0m\u001b[0;34m\u001b[0m\u001b[0;34m\u001b[0m\u001b[0m\n",
      "\u001b[0;31mValueError\u001b[0m: Cannot index with multidimensional key"
     ]
    }
   ],
   "source": [
    "automl.fit(X_train = X_train_new,\n",
    "           y_train = y_train,\n",
    "           **settings)\n",
    "#label = 'FIRE_SIZE',\n",
    "#period = time_horizon)"
   ]
  },
  {
   "cell_type": "code",
   "execution_count": null,
   "metadata": {},
   "outputs": [],
   "source": []
  }
 ],
 "metadata": {
  "interpreter": {
   "hash": "32f7275dabe6fcf69b795835cae463ce3a1b9086ff692c15c8d9cedd403d1e94"
  },
  "kernelspec": {
   "display_name": "Python 3",
   "language": "python",
   "name": "python3"
  },
  "language_info": {
   "codemirror_mode": {
    "name": "ipython",
    "version": 3
   },
   "file_extension": ".py",
   "mimetype": "text/x-python",
   "name": "python",
   "nbconvert_exporter": "python",
   "pygments_lexer": "ipython3",
   "version": "3.8.5"
  }
 },
 "nbformat": 4,
 "nbformat_minor": 4
}
