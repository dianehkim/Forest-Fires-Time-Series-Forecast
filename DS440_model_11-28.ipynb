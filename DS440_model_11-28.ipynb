{
 "cells": [
  {
   "cell_type": "markdown",
   "source": [
    "# 1. Import Libraries"
   ],
   "metadata": {}
  },
  {
   "cell_type": "code",
   "execution_count": 2,
   "source": [
    "import pandas as pd\n",
    "import numpy as np\n",
    "import seaborn as sns\n",
    "import matplotlib.pyplot as plt\n",
    "import datetime"
   ],
   "outputs": [],
   "metadata": {}
  },
  {
   "cell_type": "code",
   "execution_count": 3,
   "source": [
    "# data source https://www.kaggle.com/rtatman/188-million-us-wildfires\n",
    "data = pd.read_csv('fires.csv')"
   ],
   "outputs": [
    {
     "output_type": "stream",
     "name": "stderr",
     "text": [
      "/Users/eeshasrivatsavaya/opt/anaconda3/lib/python3.8/site-packages/IPython/core/interactiveshell.py:3165: DtypeWarning: Columns (8,10,11,12,13,14,15,16,17,18,35,37) have mixed types.Specify dtype option on import or set low_memory=False.\n",
      "  has_raised = await self.run_ast_nodes(code_ast.body, cell_name,\n"
     ]
    }
   ],
   "metadata": {}
  },
  {
   "cell_type": "markdown",
   "source": [
    "# 2. EDA & Data Cleanup"
   ],
   "metadata": {}
  },
  {
   "cell_type": "code",
   "execution_count": 4,
   "source": [
    "data.head()"
   ],
   "outputs": [
    {
     "output_type": "execute_result",
     "data": {
      "text/plain": [
       "   1  1.1  FS-1418826  FED  FS-FIRESTAT  FS  USCAPNF  \\\n",
       "0  2    2  FS-1418827  FED  FS-FIRESTAT  FS  USCAENF   \n",
       "1  3    3  FS-1418835  FED  FS-FIRESTAT  FS  USCAENF   \n",
       "2  4    4  FS-1418845  FED  FS-FIRESTAT  FS  USCAENF   \n",
       "3  5    5  FS-1418847  FED  FS-FIRESTAT  FS  USCAENF   \n",
       "4  6    6  FS-1418849  FED  FS-FIRESTAT  FS  USCAENF   \n",
       "\n",
       "     Plumas National Forest 0511  Plumas National Forest.1  ...  A  \\\n",
       "0  Eldorado National Forest  503  Eldorado National Forest  ...  A   \n",
       "1  Eldorado National Forest  503  Eldorado National Forest  ...  A   \n",
       "2  Eldorado National Forest  503  Eldorado National Forest  ...  A   \n",
       "3  Eldorado National Forest  503  Eldorado National Forest  ...  A   \n",
       "4  Eldorado National Forest  503  Eldorado National Forest  ...  A   \n",
       "\n",
       "  40.03694444 -121.00583333   5              USFS  CA    63   063     Plumas  \\\n",
       "0   38.933056   -120.404444   5              USFS  CA  61.0  61.0     Placer   \n",
       "1   38.984167   -120.735556  13  STATE OR PRIVATE  CA  17.0  17.0  El Dorado   \n",
       "2   38.559167   -119.913333   5              USFS  CA   3.0   3.0     Alpine   \n",
       "3   38.559167   -119.933056   5              USFS  CA   3.0   3.0     Alpine   \n",
       "4   38.635278   -120.103611   5              USFS  CA   5.0   5.0     Amador   \n",
       "\n",
       "   Unnamed: 38  \n",
       "0          NaN  \n",
       "1          NaN  \n",
       "2          NaN  \n",
       "3          NaN  \n",
       "4          NaN  \n",
       "\n",
       "[5 rows x 39 columns]"
      ],
      "text/html": [
       "<div>\n",
       "<style scoped>\n",
       "    .dataframe tbody tr th:only-of-type {\n",
       "        vertical-align: middle;\n",
       "    }\n",
       "\n",
       "    .dataframe tbody tr th {\n",
       "        vertical-align: top;\n",
       "    }\n",
       "\n",
       "    .dataframe thead th {\n",
       "        text-align: right;\n",
       "    }\n",
       "</style>\n",
       "<table border=\"1\" class=\"dataframe\">\n",
       "  <thead>\n",
       "    <tr style=\"text-align: right;\">\n",
       "      <th></th>\n",
       "      <th>1</th>\n",
       "      <th>1.1</th>\n",
       "      <th>FS-1418826</th>\n",
       "      <th>FED</th>\n",
       "      <th>FS-FIRESTAT</th>\n",
       "      <th>FS</th>\n",
       "      <th>USCAPNF</th>\n",
       "      <th>Plumas National Forest</th>\n",
       "      <th>0511</th>\n",
       "      <th>Plumas National Forest.1</th>\n",
       "      <th>...</th>\n",
       "      <th>A</th>\n",
       "      <th>40.03694444</th>\n",
       "      <th>-121.00583333</th>\n",
       "      <th>5</th>\n",
       "      <th>USFS</th>\n",
       "      <th>CA</th>\n",
       "      <th>63</th>\n",
       "      <th>063</th>\n",
       "      <th>Plumas</th>\n",
       "      <th>Unnamed: 38</th>\n",
       "    </tr>\n",
       "  </thead>\n",
       "  <tbody>\n",
       "    <tr>\n",
       "      <th>0</th>\n",
       "      <td>2</td>\n",
       "      <td>2</td>\n",
       "      <td>FS-1418827</td>\n",
       "      <td>FED</td>\n",
       "      <td>FS-FIRESTAT</td>\n",
       "      <td>FS</td>\n",
       "      <td>USCAENF</td>\n",
       "      <td>Eldorado National Forest</td>\n",
       "      <td>503</td>\n",
       "      <td>Eldorado National Forest</td>\n",
       "      <td>...</td>\n",
       "      <td>A</td>\n",
       "      <td>38.933056</td>\n",
       "      <td>-120.404444</td>\n",
       "      <td>5</td>\n",
       "      <td>USFS</td>\n",
       "      <td>CA</td>\n",
       "      <td>61.0</td>\n",
       "      <td>61.0</td>\n",
       "      <td>Placer</td>\n",
       "      <td>NaN</td>\n",
       "    </tr>\n",
       "    <tr>\n",
       "      <th>1</th>\n",
       "      <td>3</td>\n",
       "      <td>3</td>\n",
       "      <td>FS-1418835</td>\n",
       "      <td>FED</td>\n",
       "      <td>FS-FIRESTAT</td>\n",
       "      <td>FS</td>\n",
       "      <td>USCAENF</td>\n",
       "      <td>Eldorado National Forest</td>\n",
       "      <td>503</td>\n",
       "      <td>Eldorado National Forest</td>\n",
       "      <td>...</td>\n",
       "      <td>A</td>\n",
       "      <td>38.984167</td>\n",
       "      <td>-120.735556</td>\n",
       "      <td>13</td>\n",
       "      <td>STATE OR PRIVATE</td>\n",
       "      <td>CA</td>\n",
       "      <td>17.0</td>\n",
       "      <td>17.0</td>\n",
       "      <td>El Dorado</td>\n",
       "      <td>NaN</td>\n",
       "    </tr>\n",
       "    <tr>\n",
       "      <th>2</th>\n",
       "      <td>4</td>\n",
       "      <td>4</td>\n",
       "      <td>FS-1418845</td>\n",
       "      <td>FED</td>\n",
       "      <td>FS-FIRESTAT</td>\n",
       "      <td>FS</td>\n",
       "      <td>USCAENF</td>\n",
       "      <td>Eldorado National Forest</td>\n",
       "      <td>503</td>\n",
       "      <td>Eldorado National Forest</td>\n",
       "      <td>...</td>\n",
       "      <td>A</td>\n",
       "      <td>38.559167</td>\n",
       "      <td>-119.913333</td>\n",
       "      <td>5</td>\n",
       "      <td>USFS</td>\n",
       "      <td>CA</td>\n",
       "      <td>3.0</td>\n",
       "      <td>3.0</td>\n",
       "      <td>Alpine</td>\n",
       "      <td>NaN</td>\n",
       "    </tr>\n",
       "    <tr>\n",
       "      <th>3</th>\n",
       "      <td>5</td>\n",
       "      <td>5</td>\n",
       "      <td>FS-1418847</td>\n",
       "      <td>FED</td>\n",
       "      <td>FS-FIRESTAT</td>\n",
       "      <td>FS</td>\n",
       "      <td>USCAENF</td>\n",
       "      <td>Eldorado National Forest</td>\n",
       "      <td>503</td>\n",
       "      <td>Eldorado National Forest</td>\n",
       "      <td>...</td>\n",
       "      <td>A</td>\n",
       "      <td>38.559167</td>\n",
       "      <td>-119.933056</td>\n",
       "      <td>5</td>\n",
       "      <td>USFS</td>\n",
       "      <td>CA</td>\n",
       "      <td>3.0</td>\n",
       "      <td>3.0</td>\n",
       "      <td>Alpine</td>\n",
       "      <td>NaN</td>\n",
       "    </tr>\n",
       "    <tr>\n",
       "      <th>4</th>\n",
       "      <td>6</td>\n",
       "      <td>6</td>\n",
       "      <td>FS-1418849</td>\n",
       "      <td>FED</td>\n",
       "      <td>FS-FIRESTAT</td>\n",
       "      <td>FS</td>\n",
       "      <td>USCAENF</td>\n",
       "      <td>Eldorado National Forest</td>\n",
       "      <td>503</td>\n",
       "      <td>Eldorado National Forest</td>\n",
       "      <td>...</td>\n",
       "      <td>A</td>\n",
       "      <td>38.635278</td>\n",
       "      <td>-120.103611</td>\n",
       "      <td>5</td>\n",
       "      <td>USFS</td>\n",
       "      <td>CA</td>\n",
       "      <td>5.0</td>\n",
       "      <td>5.0</td>\n",
       "      <td>Amador</td>\n",
       "      <td>NaN</td>\n",
       "    </tr>\n",
       "  </tbody>\n",
       "</table>\n",
       "<p>5 rows × 39 columns</p>\n",
       "</div>"
      ]
     },
     "metadata": {},
     "execution_count": 4
    }
   ],
   "metadata": {}
  },
  {
   "cell_type": "code",
   "execution_count": 5,
   "source": [
    "data.info()"
   ],
   "outputs": [
    {
     "output_type": "stream",
     "name": "stdout",
     "text": [
      "<class 'pandas.core.frame.DataFrame'>\n",
      "RangeIndex: 1880464 entries, 0 to 1880463\n",
      "Data columns (total 39 columns):\n",
      " #   Column                    Dtype  \n",
      "---  ------                    -----  \n",
      " 0   1                         int64  \n",
      " 1   1.1                       int64  \n",
      " 2   FS-1418826                object \n",
      " 3   FED                       object \n",
      " 4   FS-FIRESTAT               object \n",
      " 5   FS                        object \n",
      " 6   USCAPNF                   object \n",
      " 7   Plumas National Forest    object \n",
      " 8   0511                      object \n",
      " 9   Plumas National Forest.1  object \n",
      " 10  1.2                       object \n",
      " 11  PNF-47                    object \n",
      " 12  BJ8K                      object \n",
      " 13  FOUNTAIN                  object \n",
      " 14  Unnamed: 14               object \n",
      " 15  Unnamed: 15               object \n",
      " 16  Unnamed: 16               object \n",
      " 17  Unnamed: 17               object \n",
      " 18  Unnamed: 18               object \n",
      " 19  2005                      int64  \n",
      " 20  2453403.5                 float64\n",
      " 21  33                        int64  \n",
      " 22  1300                      float64\n",
      " 23  9                         int64  \n",
      " 24  Miscellaneous             object \n",
      " 25  2453403.5.1               float64\n",
      " 26  33.1                      float64\n",
      " 27  1730                      float64\n",
      " 28  0.1                       float64\n",
      " 29  A                         object \n",
      " 30  40.03694444               float64\n",
      " 31  -121.00583333             float64\n",
      " 32  5                         int64  \n",
      " 33  USFS                      object \n",
      " 34  CA                        object \n",
      " 35  63                        object \n",
      " 36  063                       float64\n",
      " 37  Plumas                    object \n",
      " 38  Unnamed: 38               float64\n",
      "dtypes: float64(10), int64(6), object(23)\n",
      "memory usage: 559.5+ MB\n"
     ]
    }
   ],
   "metadata": {}
  },
  {
   "cell_type": "code",
   "execution_count": 6,
   "source": [
    "data.describe()"
   ],
   "outputs": [
    {
     "output_type": "execute_result",
     "data": {
      "text/plain": [
       "                  1           1.1          2005     2453403.5            33  \\\n",
       "count  1.880464e+06  1.880464e+06  1.880464e+06  1.880464e+06  1.880464e+06   \n",
       "mean   9.402335e+05  5.484023e+07  2.003710e+03  2.453064e+06  1.647192e+02   \n",
       "std    5.428433e+05  1.011963e+08  6.663100e+00  2.434574e+03  9.003888e+01   \n",
       "min    2.000000e+00  2.000000e+00  1.992000e+03  2.448622e+06  1.000000e+00   \n",
       "25%    4.701178e+05  5.055008e+05  1.998000e+03  2.451084e+06  8.900000e+01   \n",
       "50%    9.402335e+05  1.067762e+06  2.004000e+03  2.453178e+06  1.640000e+02   \n",
       "75%    1.410349e+06  1.910639e+07  2.009000e+03  2.455036e+06  2.300000e+02   \n",
       "max    1.880465e+06  3.003484e+08  2.015000e+03  2.457388e+06  3.660000e+02   \n",
       "\n",
       "                1300             9   2453403.5.1           33.1  \\\n",
       "count  997826.000000  1.880464e+06  9.889330e+05  988933.000000   \n",
       "mean     1453.014479  5.979035e+00  2.453238e+06     172.656907   \n",
       "std       405.961137  3.483860e+00  2.687549e+03      84.320273   \n",
       "min         0.000000  1.000000e+00  2.448622e+06       1.000000   \n",
       "25%      1240.000000  3.000000e+00  2.450700e+06     102.000000   \n",
       "50%      1457.000000  5.000000e+00  2.453466e+06     181.000000   \n",
       "75%      1708.000000  9.000000e+00  2.455754e+06     232.000000   \n",
       "max      2359.000000  1.300000e+01  2.457392e+06     366.000000   \n",
       "\n",
       "                1730           0.1   40.03694444  -121.00583333             5  \\\n",
       "count  907911.000000  1.880464e+06  1.880464e+06   1.880464e+06  1.880464e+06   \n",
       "mean     1534.831865  7.452020e+01  3.678121e+01  -9.570493e+01  1.059658e+01   \n",
       "std       432.737884  2.497599e+03  6.139032e+00   1.671694e+01  4.404661e+00   \n",
       "min         0.000000  1.000000e-05  1.793972e+01  -1.788026e+02  0.000000e+00   \n",
       "25%      1310.000000  1.000000e-01  3.281860e+01  -1.103632e+02  8.000000e+00   \n",
       "50%      1600.000000  1.000000e+00  3.545250e+01  -9.204293e+01  1.400000e+01   \n",
       "75%      1810.000000  3.300000e+00  4.082720e+01  -8.229760e+01  1.400000e+01   \n",
       "max      2359.000000  6.069450e+05  7.033060e+01  -6.525694e+01  1.500000e+01   \n",
       "\n",
       "                063  Unnamed: 38  \n",
       "count  1.202316e+06          0.0  \n",
       "mean   9.578353e+01          NaN  \n",
       "std    9.861509e+01          NaN  \n",
       "min    1.000000e+00          NaN  \n",
       "25%    2.900000e+01          NaN  \n",
       "50%    6.700000e+01          NaN  \n",
       "75%    1.210000e+02          NaN  \n",
       "max    8.100000e+02          NaN  "
      ],
      "text/html": [
       "<div>\n",
       "<style scoped>\n",
       "    .dataframe tbody tr th:only-of-type {\n",
       "        vertical-align: middle;\n",
       "    }\n",
       "\n",
       "    .dataframe tbody tr th {\n",
       "        vertical-align: top;\n",
       "    }\n",
       "\n",
       "    .dataframe thead th {\n",
       "        text-align: right;\n",
       "    }\n",
       "</style>\n",
       "<table border=\"1\" class=\"dataframe\">\n",
       "  <thead>\n",
       "    <tr style=\"text-align: right;\">\n",
       "      <th></th>\n",
       "      <th>1</th>\n",
       "      <th>1.1</th>\n",
       "      <th>2005</th>\n",
       "      <th>2453403.5</th>\n",
       "      <th>33</th>\n",
       "      <th>1300</th>\n",
       "      <th>9</th>\n",
       "      <th>2453403.5.1</th>\n",
       "      <th>33.1</th>\n",
       "      <th>1730</th>\n",
       "      <th>0.1</th>\n",
       "      <th>40.03694444</th>\n",
       "      <th>-121.00583333</th>\n",
       "      <th>5</th>\n",
       "      <th>063</th>\n",
       "      <th>Unnamed: 38</th>\n",
       "    </tr>\n",
       "  </thead>\n",
       "  <tbody>\n",
       "    <tr>\n",
       "      <th>count</th>\n",
       "      <td>1.880464e+06</td>\n",
       "      <td>1.880464e+06</td>\n",
       "      <td>1.880464e+06</td>\n",
       "      <td>1.880464e+06</td>\n",
       "      <td>1.880464e+06</td>\n",
       "      <td>997826.000000</td>\n",
       "      <td>1.880464e+06</td>\n",
       "      <td>9.889330e+05</td>\n",
       "      <td>988933.000000</td>\n",
       "      <td>907911.000000</td>\n",
       "      <td>1.880464e+06</td>\n",
       "      <td>1.880464e+06</td>\n",
       "      <td>1.880464e+06</td>\n",
       "      <td>1.880464e+06</td>\n",
       "      <td>1.202316e+06</td>\n",
       "      <td>0.0</td>\n",
       "    </tr>\n",
       "    <tr>\n",
       "      <th>mean</th>\n",
       "      <td>9.402335e+05</td>\n",
       "      <td>5.484023e+07</td>\n",
       "      <td>2.003710e+03</td>\n",
       "      <td>2.453064e+06</td>\n",
       "      <td>1.647192e+02</td>\n",
       "      <td>1453.014479</td>\n",
       "      <td>5.979035e+00</td>\n",
       "      <td>2.453238e+06</td>\n",
       "      <td>172.656907</td>\n",
       "      <td>1534.831865</td>\n",
       "      <td>7.452020e+01</td>\n",
       "      <td>3.678121e+01</td>\n",
       "      <td>-9.570493e+01</td>\n",
       "      <td>1.059658e+01</td>\n",
       "      <td>9.578353e+01</td>\n",
       "      <td>NaN</td>\n",
       "    </tr>\n",
       "    <tr>\n",
       "      <th>std</th>\n",
       "      <td>5.428433e+05</td>\n",
       "      <td>1.011963e+08</td>\n",
       "      <td>6.663100e+00</td>\n",
       "      <td>2.434574e+03</td>\n",
       "      <td>9.003888e+01</td>\n",
       "      <td>405.961137</td>\n",
       "      <td>3.483860e+00</td>\n",
       "      <td>2.687549e+03</td>\n",
       "      <td>84.320273</td>\n",
       "      <td>432.737884</td>\n",
       "      <td>2.497599e+03</td>\n",
       "      <td>6.139032e+00</td>\n",
       "      <td>1.671694e+01</td>\n",
       "      <td>4.404661e+00</td>\n",
       "      <td>9.861509e+01</td>\n",
       "      <td>NaN</td>\n",
       "    </tr>\n",
       "    <tr>\n",
       "      <th>min</th>\n",
       "      <td>2.000000e+00</td>\n",
       "      <td>2.000000e+00</td>\n",
       "      <td>1.992000e+03</td>\n",
       "      <td>2.448622e+06</td>\n",
       "      <td>1.000000e+00</td>\n",
       "      <td>0.000000</td>\n",
       "      <td>1.000000e+00</td>\n",
       "      <td>2.448622e+06</td>\n",
       "      <td>1.000000</td>\n",
       "      <td>0.000000</td>\n",
       "      <td>1.000000e-05</td>\n",
       "      <td>1.793972e+01</td>\n",
       "      <td>-1.788026e+02</td>\n",
       "      <td>0.000000e+00</td>\n",
       "      <td>1.000000e+00</td>\n",
       "      <td>NaN</td>\n",
       "    </tr>\n",
       "    <tr>\n",
       "      <th>25%</th>\n",
       "      <td>4.701178e+05</td>\n",
       "      <td>5.055008e+05</td>\n",
       "      <td>1.998000e+03</td>\n",
       "      <td>2.451084e+06</td>\n",
       "      <td>8.900000e+01</td>\n",
       "      <td>1240.000000</td>\n",
       "      <td>3.000000e+00</td>\n",
       "      <td>2.450700e+06</td>\n",
       "      <td>102.000000</td>\n",
       "      <td>1310.000000</td>\n",
       "      <td>1.000000e-01</td>\n",
       "      <td>3.281860e+01</td>\n",
       "      <td>-1.103632e+02</td>\n",
       "      <td>8.000000e+00</td>\n",
       "      <td>2.900000e+01</td>\n",
       "      <td>NaN</td>\n",
       "    </tr>\n",
       "    <tr>\n",
       "      <th>50%</th>\n",
       "      <td>9.402335e+05</td>\n",
       "      <td>1.067762e+06</td>\n",
       "      <td>2.004000e+03</td>\n",
       "      <td>2.453178e+06</td>\n",
       "      <td>1.640000e+02</td>\n",
       "      <td>1457.000000</td>\n",
       "      <td>5.000000e+00</td>\n",
       "      <td>2.453466e+06</td>\n",
       "      <td>181.000000</td>\n",
       "      <td>1600.000000</td>\n",
       "      <td>1.000000e+00</td>\n",
       "      <td>3.545250e+01</td>\n",
       "      <td>-9.204293e+01</td>\n",
       "      <td>1.400000e+01</td>\n",
       "      <td>6.700000e+01</td>\n",
       "      <td>NaN</td>\n",
       "    </tr>\n",
       "    <tr>\n",
       "      <th>75%</th>\n",
       "      <td>1.410349e+06</td>\n",
       "      <td>1.910639e+07</td>\n",
       "      <td>2.009000e+03</td>\n",
       "      <td>2.455036e+06</td>\n",
       "      <td>2.300000e+02</td>\n",
       "      <td>1708.000000</td>\n",
       "      <td>9.000000e+00</td>\n",
       "      <td>2.455754e+06</td>\n",
       "      <td>232.000000</td>\n",
       "      <td>1810.000000</td>\n",
       "      <td>3.300000e+00</td>\n",
       "      <td>4.082720e+01</td>\n",
       "      <td>-8.229760e+01</td>\n",
       "      <td>1.400000e+01</td>\n",
       "      <td>1.210000e+02</td>\n",
       "      <td>NaN</td>\n",
       "    </tr>\n",
       "    <tr>\n",
       "      <th>max</th>\n",
       "      <td>1.880465e+06</td>\n",
       "      <td>3.003484e+08</td>\n",
       "      <td>2.015000e+03</td>\n",
       "      <td>2.457388e+06</td>\n",
       "      <td>3.660000e+02</td>\n",
       "      <td>2359.000000</td>\n",
       "      <td>1.300000e+01</td>\n",
       "      <td>2.457392e+06</td>\n",
       "      <td>366.000000</td>\n",
       "      <td>2359.000000</td>\n",
       "      <td>6.069450e+05</td>\n",
       "      <td>7.033060e+01</td>\n",
       "      <td>-6.525694e+01</td>\n",
       "      <td>1.500000e+01</td>\n",
       "      <td>8.100000e+02</td>\n",
       "      <td>NaN</td>\n",
       "    </tr>\n",
       "  </tbody>\n",
       "</table>\n",
       "</div>"
      ]
     },
     "metadata": {},
     "execution_count": 6
    }
   ],
   "metadata": {}
  },
  {
   "cell_type": "code",
   "execution_count": 7,
   "source": [
    "data.columns.isna()"
   ],
   "outputs": [
    {
     "output_type": "execute_result",
     "data": {
      "text/plain": [
       "array([False, False, False, False, False, False, False, False, False,\n",
       "       False, False, False, False, False, False, False, False, False,\n",
       "       False, False, False, False, False, False, False, False, False,\n",
       "       False, False, False, False, False, False, False, False, False,\n",
       "       False, False, False])"
      ]
     },
     "metadata": {},
     "execution_count": 7
    }
   ],
   "metadata": {}
  },
  {
   "cell_type": "code",
   "execution_count": 8,
   "source": [
    "print(data.columns)"
   ],
   "outputs": [
    {
     "output_type": "stream",
     "name": "stdout",
     "text": [
      "Index(['1', '1.1', 'FS-1418826', 'FED', 'FS-FIRESTAT', 'FS', 'USCAPNF',\n",
      "       'Plumas National Forest', '0511', 'Plumas National Forest.1', '1.2',\n",
      "       'PNF-47', 'BJ8K', 'FOUNTAIN', 'Unnamed: 14', 'Unnamed: 15',\n",
      "       'Unnamed: 16', 'Unnamed: 17', 'Unnamed: 18', '2005', '2453403.5', '33',\n",
      "       '1300', '9', 'Miscellaneous', '2453403.5.1', '33.1', '1730', '0.1', 'A',\n",
      "       '40.03694444', '-121.00583333', '5', 'USFS', 'CA', '63', '063',\n",
      "       'Plumas', 'Unnamed: 38'],\n",
      "      dtype='object')\n"
     ]
    }
   ],
   "metadata": {}
  },
  {
   "cell_type": "markdown",
   "source": [
    "# 2.1 Column Name Cleanup"
   ],
   "metadata": {}
  },
  {
   "cell_type": "code",
   "execution_count": 9,
   "source": [
    "data = data.drop(columns=[\"1\", \"1.1\"])"
   ],
   "outputs": [],
   "metadata": {}
  },
  {
   "cell_type": "code",
   "execution_count": 10,
   "source": [
    "data.columns = [\"FOD_ID\", \"FPA_ID\", \"SOURCESYSTEMTYPE\", \"SOURCESYSTEM\", \"NWCGREPORTINGAGENCY\", \"NWCGREPORTINGUNIT_ID\", \"SOURCEREPORTINGUNIT_NAME\", \"LOCALFIREREPORT_ID\", \"LOCALINCIDENTID\", \"FIRE_CODE\", \"FIRE_NAME\", \"ICS209INCIDENT_NUMBER\", \"ICS209NAME\", \"MTBS_ID\", \"MTBSFIRENAME\", \"COMPLEX_NAME\", \"EMPTY\", \"FIRE_YEAR\", \"DISCOVERY_DATE\", \"DISCOVERY_DOY\", \"DISCOVERY_TIME\", \"STATCAUSECODE\", \"STATCAUSEDESCR\", \"CONT_DATE\", \"CONT_DOY\", \"CONT_TIME\", \"FIRE_SIZE\", \"FIRESIZECLASS\", \"LATITUDE\", \"LONGITUDE\", \"OWNER_CODE\", \"OWNER_DESCR\", \"STATE\", \"DELETE!\",\"DELETE\", \"DELETE2\", \"DELETE3\"]"
   ],
   "outputs": [],
   "metadata": {}
  },
  {
   "cell_type": "code",
   "execution_count": 11,
   "source": [
    "data = data.drop(columns=[\"DELETE!\", \"DELETE\", \"DELETE2\", \"DELETE3\"])"
   ],
   "outputs": [],
   "metadata": {}
  },
  {
   "cell_type": "code",
   "execution_count": 12,
   "source": [
    "data.head()"
   ],
   "outputs": [
    {
     "output_type": "execute_result",
     "data": {
      "text/plain": [
       "       FOD_ID FPA_ID SOURCESYSTEMTYPE SOURCESYSTEM NWCGREPORTINGAGENCY  \\\n",
       "0  FS-1418827    FED      FS-FIRESTAT           FS             USCAENF   \n",
       "1  FS-1418835    FED      FS-FIRESTAT           FS             USCAENF   \n",
       "2  FS-1418845    FED      FS-FIRESTAT           FS             USCAENF   \n",
       "3  FS-1418847    FED      FS-FIRESTAT           FS             USCAENF   \n",
       "4  FS-1418849    FED      FS-FIRESTAT           FS             USCAENF   \n",
       "\n",
       "       NWCGREPORTINGUNIT_ID SOURCEREPORTINGUNIT_NAME  \\\n",
       "0  Eldorado National Forest                      503   \n",
       "1  Eldorado National Forest                      503   \n",
       "2  Eldorado National Forest                      503   \n",
       "3  Eldorado National Forest                      503   \n",
       "4  Eldorado National Forest                      503   \n",
       "\n",
       "         LOCALFIREREPORT_ID LOCALINCIDENTID FIRE_CODE  ...  CONT_DATE  \\\n",
       "0  Eldorado National Forest              13        13  ...  2453137.5   \n",
       "1  Eldorado National Forest              27       021  ...  2453156.5   \n",
       "2  Eldorado National Forest              43         6  ...  2453189.5   \n",
       "3  Eldorado National Forest              44         7  ...  2453189.5   \n",
       "4  Eldorado National Forest              54         8  ...  2453187.5   \n",
       "\n",
       "  CONT_DOY CONT_TIME FIRE_SIZE FIRESIZECLASS   LATITUDE   LONGITUDE  \\\n",
       "0    133.0    1530.0      0.25             A  38.933056 -120.404444   \n",
       "1    152.0    2024.0      0.10             A  38.984167 -120.735556   \n",
       "2    185.0    1400.0      0.10             A  38.559167 -119.913333   \n",
       "3    185.0    1200.0      0.10             A  38.559167 -119.933056   \n",
       "4    183.0    1600.0      0.10             A  38.635278 -120.103611   \n",
       "\n",
       "   OWNER_CODE       OWNER_DESCR  STATE  \n",
       "0           5              USFS     CA  \n",
       "1          13  STATE OR PRIVATE     CA  \n",
       "2           5              USFS     CA  \n",
       "3           5              USFS     CA  \n",
       "4           5              USFS     CA  \n",
       "\n",
       "[5 rows x 33 columns]"
      ],
      "text/html": [
       "<div>\n",
       "<style scoped>\n",
       "    .dataframe tbody tr th:only-of-type {\n",
       "        vertical-align: middle;\n",
       "    }\n",
       "\n",
       "    .dataframe tbody tr th {\n",
       "        vertical-align: top;\n",
       "    }\n",
       "\n",
       "    .dataframe thead th {\n",
       "        text-align: right;\n",
       "    }\n",
       "</style>\n",
       "<table border=\"1\" class=\"dataframe\">\n",
       "  <thead>\n",
       "    <tr style=\"text-align: right;\">\n",
       "      <th></th>\n",
       "      <th>FOD_ID</th>\n",
       "      <th>FPA_ID</th>\n",
       "      <th>SOURCESYSTEMTYPE</th>\n",
       "      <th>SOURCESYSTEM</th>\n",
       "      <th>NWCGREPORTINGAGENCY</th>\n",
       "      <th>NWCGREPORTINGUNIT_ID</th>\n",
       "      <th>SOURCEREPORTINGUNIT_NAME</th>\n",
       "      <th>LOCALFIREREPORT_ID</th>\n",
       "      <th>LOCALINCIDENTID</th>\n",
       "      <th>FIRE_CODE</th>\n",
       "      <th>...</th>\n",
       "      <th>CONT_DATE</th>\n",
       "      <th>CONT_DOY</th>\n",
       "      <th>CONT_TIME</th>\n",
       "      <th>FIRE_SIZE</th>\n",
       "      <th>FIRESIZECLASS</th>\n",
       "      <th>LATITUDE</th>\n",
       "      <th>LONGITUDE</th>\n",
       "      <th>OWNER_CODE</th>\n",
       "      <th>OWNER_DESCR</th>\n",
       "      <th>STATE</th>\n",
       "    </tr>\n",
       "  </thead>\n",
       "  <tbody>\n",
       "    <tr>\n",
       "      <th>0</th>\n",
       "      <td>FS-1418827</td>\n",
       "      <td>FED</td>\n",
       "      <td>FS-FIRESTAT</td>\n",
       "      <td>FS</td>\n",
       "      <td>USCAENF</td>\n",
       "      <td>Eldorado National Forest</td>\n",
       "      <td>503</td>\n",
       "      <td>Eldorado National Forest</td>\n",
       "      <td>13</td>\n",
       "      <td>13</td>\n",
       "      <td>...</td>\n",
       "      <td>2453137.5</td>\n",
       "      <td>133.0</td>\n",
       "      <td>1530.0</td>\n",
       "      <td>0.25</td>\n",
       "      <td>A</td>\n",
       "      <td>38.933056</td>\n",
       "      <td>-120.404444</td>\n",
       "      <td>5</td>\n",
       "      <td>USFS</td>\n",
       "      <td>CA</td>\n",
       "    </tr>\n",
       "    <tr>\n",
       "      <th>1</th>\n",
       "      <td>FS-1418835</td>\n",
       "      <td>FED</td>\n",
       "      <td>FS-FIRESTAT</td>\n",
       "      <td>FS</td>\n",
       "      <td>USCAENF</td>\n",
       "      <td>Eldorado National Forest</td>\n",
       "      <td>503</td>\n",
       "      <td>Eldorado National Forest</td>\n",
       "      <td>27</td>\n",
       "      <td>021</td>\n",
       "      <td>...</td>\n",
       "      <td>2453156.5</td>\n",
       "      <td>152.0</td>\n",
       "      <td>2024.0</td>\n",
       "      <td>0.10</td>\n",
       "      <td>A</td>\n",
       "      <td>38.984167</td>\n",
       "      <td>-120.735556</td>\n",
       "      <td>13</td>\n",
       "      <td>STATE OR PRIVATE</td>\n",
       "      <td>CA</td>\n",
       "    </tr>\n",
       "    <tr>\n",
       "      <th>2</th>\n",
       "      <td>FS-1418845</td>\n",
       "      <td>FED</td>\n",
       "      <td>FS-FIRESTAT</td>\n",
       "      <td>FS</td>\n",
       "      <td>USCAENF</td>\n",
       "      <td>Eldorado National Forest</td>\n",
       "      <td>503</td>\n",
       "      <td>Eldorado National Forest</td>\n",
       "      <td>43</td>\n",
       "      <td>6</td>\n",
       "      <td>...</td>\n",
       "      <td>2453189.5</td>\n",
       "      <td>185.0</td>\n",
       "      <td>1400.0</td>\n",
       "      <td>0.10</td>\n",
       "      <td>A</td>\n",
       "      <td>38.559167</td>\n",
       "      <td>-119.913333</td>\n",
       "      <td>5</td>\n",
       "      <td>USFS</td>\n",
       "      <td>CA</td>\n",
       "    </tr>\n",
       "    <tr>\n",
       "      <th>3</th>\n",
       "      <td>FS-1418847</td>\n",
       "      <td>FED</td>\n",
       "      <td>FS-FIRESTAT</td>\n",
       "      <td>FS</td>\n",
       "      <td>USCAENF</td>\n",
       "      <td>Eldorado National Forest</td>\n",
       "      <td>503</td>\n",
       "      <td>Eldorado National Forest</td>\n",
       "      <td>44</td>\n",
       "      <td>7</td>\n",
       "      <td>...</td>\n",
       "      <td>2453189.5</td>\n",
       "      <td>185.0</td>\n",
       "      <td>1200.0</td>\n",
       "      <td>0.10</td>\n",
       "      <td>A</td>\n",
       "      <td>38.559167</td>\n",
       "      <td>-119.933056</td>\n",
       "      <td>5</td>\n",
       "      <td>USFS</td>\n",
       "      <td>CA</td>\n",
       "    </tr>\n",
       "    <tr>\n",
       "      <th>4</th>\n",
       "      <td>FS-1418849</td>\n",
       "      <td>FED</td>\n",
       "      <td>FS-FIRESTAT</td>\n",
       "      <td>FS</td>\n",
       "      <td>USCAENF</td>\n",
       "      <td>Eldorado National Forest</td>\n",
       "      <td>503</td>\n",
       "      <td>Eldorado National Forest</td>\n",
       "      <td>54</td>\n",
       "      <td>8</td>\n",
       "      <td>...</td>\n",
       "      <td>2453187.5</td>\n",
       "      <td>183.0</td>\n",
       "      <td>1600.0</td>\n",
       "      <td>0.10</td>\n",
       "      <td>A</td>\n",
       "      <td>38.635278</td>\n",
       "      <td>-120.103611</td>\n",
       "      <td>5</td>\n",
       "      <td>USFS</td>\n",
       "      <td>CA</td>\n",
       "    </tr>\n",
       "  </tbody>\n",
       "</table>\n",
       "<p>5 rows × 33 columns</p>\n",
       "</div>"
      ]
     },
     "metadata": {},
     "execution_count": 12
    }
   ],
   "metadata": {}
  },
  {
   "cell_type": "code",
   "execution_count": 13,
   "source": [
    "print(data.columns)"
   ],
   "outputs": [
    {
     "output_type": "stream",
     "name": "stdout",
     "text": [
      "Index(['FOD_ID', 'FPA_ID', 'SOURCESYSTEMTYPE', 'SOURCESYSTEM',\n",
      "       'NWCGREPORTINGAGENCY', 'NWCGREPORTINGUNIT_ID',\n",
      "       'SOURCEREPORTINGUNIT_NAME', 'LOCALFIREREPORT_ID', 'LOCALINCIDENTID',\n",
      "       'FIRE_CODE', 'FIRE_NAME', 'ICS209INCIDENT_NUMBER', 'ICS209NAME',\n",
      "       'MTBS_ID', 'MTBSFIRENAME', 'COMPLEX_NAME', 'EMPTY', 'FIRE_YEAR',\n",
      "       'DISCOVERY_DATE', 'DISCOVERY_DOY', 'DISCOVERY_TIME', 'STATCAUSECODE',\n",
      "       'STATCAUSEDESCR', 'CONT_DATE', 'CONT_DOY', 'CONT_TIME', 'FIRE_SIZE',\n",
      "       'FIRESIZECLASS', 'LATITUDE', 'LONGITUDE', 'OWNER_CODE', 'OWNER_DESCR',\n",
      "       'STATE'],\n",
      "      dtype='object')\n"
     ]
    }
   ],
   "metadata": {}
  },
  {
   "cell_type": "markdown",
   "source": [
    "# 2.2 Visualizations"
   ],
   "metadata": {}
  },
  {
   "cell_type": "code",
   "execution_count": 14,
   "source": [
    "sns.histplot(data[\"FIRE_YEAR\"])"
   ],
   "outputs": [
    {
     "output_type": "execute_result",
     "data": {
      "text/plain": [
       "<AxesSubplot:xlabel='FIRE_YEAR', ylabel='Count'>"
      ]
     },
     "metadata": {},
     "execution_count": 14
    },
    {
     "output_type": "display_data",
     "data": {
      "text/plain": [
       "<Figure size 432x288 with 1 Axes>"
      ],
      "image/png": "[encoded data removed]"
     },
     "metadata": {
      "needs_background": "light"
     }
    }
   ],
   "metadata": {}
  },
  {
   "cell_type": "code",
   "execution_count": 15,
   "source": [
    "sns.histplot(data[\"DISCOVERY_DOY\"])"
   ],
   "outputs": [
    {
     "output_type": "execute_result",
     "data": {
      "text/plain": [
       "<AxesSubplot:xlabel='DISCOVERY_DOY', ylabel='Count'>"
      ]
     },
     "metadata": {},
     "execution_count": 15
    },
    {
     "output_type": "display_data",
     "data": {
      "text/plain": [
       "<Figure size 432x288 with 1 Axes>"
      ],
      "image/png": "[encoded data removed]"
     },
     "metadata": {
      "needs_background": "light"
     }
    }
   ],
   "metadata": {}
  },
  {
   "cell_type": "code",
   "execution_count": 16,
   "source": [
    "plt.figure(figsize=(15,4))\n",
    "sns.countplot(data[\"STATE\"])"
   ],
   "outputs": [
    {
     "output_type": "stream",
     "name": "stderr",
     "text": [
      "/Users/eeshasrivatsavaya/opt/anaconda3/lib/python3.8/site-packages/seaborn/_decorators.py:36: FutureWarning: Pass the following variable as a keyword arg: x. From version 0.12, the only valid positional argument will be `data`, and passing other arguments without an explicit keyword will result in an error or misinterpretation.\n",
      "  warnings.warn(\n"
     ]
    },
    {
     "output_type": "execute_result",
     "data": {
      "text/plain": [
       "<AxesSubplot:xlabel='STATE', ylabel='count'>"
      ]
     },
     "metadata": {},
     "execution_count": 16
    },
    {
     "output_type": "display_data",
     "data": {
      "text/plain": [
       "<Figure size 1080x288 with 1 Axes>"
      ],
      "image/png": "[encoded data removed]"
     },
     "metadata": {
      "needs_background": "light"
     }
    }
   ],
   "metadata": {}
  },
  {
   "cell_type": "code",
   "execution_count": 17,
   "source": [
    "plt.figure(figsize=(15,4))\n",
    "sns.barplot(data=data, x=data[\"STATE\"], y=data[\"FIRE_SIZE\"])"
   ],
   "outputs": [
    {
     "output_type": "execute_result",
     "data": {
      "text/plain": [
       "<AxesSubplot:xlabel='STATE', ylabel='FIRE_SIZE'>"
      ]
     },
     "metadata": {},
     "execution_count": 17
    },
    {
     "output_type": "display_data",
     "data": {
      "text/plain": [
       "<Figure size 1080x288 with 1 Axes>"
      ],
      "image/png": "[encoded data removed]"
     },
     "metadata": {
      "needs_background": "light"
     }
    }
   ],
   "metadata": {}
  },
  {
   "cell_type": "code",
   "execution_count": 18,
   "source": [
    "plt.figure(figsize=(8,4))\n",
    "sns.barplot(data=data, x=data[\"FIRE_YEAR\"], y=data[\"FIRE_SIZE\"])"
   ],
   "outputs": [
    {
     "output_type": "execute_result",
     "data": {
      "text/plain": [
       "<AxesSubplot:xlabel='FIRE_YEAR', ylabel='FIRE_SIZE'>"
      ]
     },
     "metadata": {},
     "execution_count": 18
    },
    {
     "output_type": "display_data",
     "data": {
      "text/plain": [
       "<Figure size 576x288 with 1 Axes>"
      ],
      "image/png": "[encoded data removed]"
     },
     "metadata": {
      "needs_background": "light"
     }
    }
   ],
   "metadata": {}
  },
  {
   "cell_type": "markdown",
   "source": [
    "# 2.3 Drop Columns"
   ],
   "metadata": {}
  },
  {
   "cell_type": "code",
   "execution_count": 19,
   "source": [
    "data.isna().sum()\n"
   ],
   "outputs": [
    {
     "output_type": "execute_result",
     "data": {
      "text/plain": [
       "FOD_ID                            0\n",
       "FPA_ID                            0\n",
       "SOURCESYSTEMTYPE                  0\n",
       "SOURCESYSTEM                      0\n",
       "NWCGREPORTINGAGENCY               0\n",
       "NWCGREPORTINGUNIT_ID              0\n",
       "SOURCEREPORTINGUNIT_NAME          0\n",
       "LOCALFIREREPORT_ID                0\n",
       "LOCALINCIDENTID             1459286\n",
       "FIRE_CODE                    820821\n",
       "FIRE_NAME                   1555741\n",
       "ICS209INCIDENT_NUMBER        960479\n",
       "ICS209NAME                  1854747\n",
       "MTBS_ID                     1854747\n",
       "MTBSFIRENAME                1869461\n",
       "COMPLEX_NAME                1869461\n",
       "EMPTY                       1875281\n",
       "FIRE_YEAR                         0\n",
       "DISCOVERY_DATE                    0\n",
       "DISCOVERY_DOY                     0\n",
       "DISCOVERY_TIME               882638\n",
       "STATCAUSECODE                     0\n",
       "STATCAUSEDESCR                    0\n",
       "CONT_DATE                    891531\n",
       "CONT_DOY                     891531\n",
       "CONT_TIME                    972553\n",
       "FIRE_SIZE                         0\n",
       "FIRESIZECLASS                     0\n",
       "LATITUDE                          0\n",
       "LONGITUDE                         0\n",
       "OWNER_CODE                        0\n",
       "OWNER_DESCR                       0\n",
       "STATE                             0\n",
       "dtype: int64"
      ]
     },
     "metadata": {},
     "execution_count": 19
    }
   ],
   "metadata": {}
  },
  {
   "cell_type": "code",
   "execution_count": 20,
   "source": [
    "data = data.drop(columns=[\"EMPTY\",\"LOCALINCIDENTID\", \"FIRE_CODE\",\"FIRE_NAME\",\"ICS209INCIDENT_NUMBER\", \"ICS209NAME\", \"MTBS_ID\",\"MTBSFIRENAME\",\"COMPLEX_NAME\", \"CONT_DATE\", \"CONT_DOY\", \"CONT_TIME\"])"
   ],
   "outputs": [],
   "metadata": {}
  },
  {
   "cell_type": "code",
   "execution_count": 21,
   "source": [
    "print(data.columns)"
   ],
   "outputs": [
    {
     "output_type": "stream",
     "name": "stdout",
     "text": [
      "Index(['FOD_ID', 'FPA_ID', 'SOURCESYSTEMTYPE', 'SOURCESYSTEM',\n",
      "       'NWCGREPORTINGAGENCY', 'NWCGREPORTINGUNIT_ID',\n",
      "       'SOURCEREPORTINGUNIT_NAME', 'LOCALFIREREPORT_ID', 'FIRE_YEAR',\n",
      "       'DISCOVERY_DATE', 'DISCOVERY_DOY', 'DISCOVERY_TIME', 'STATCAUSECODE',\n",
      "       'STATCAUSEDESCR', 'FIRE_SIZE', 'FIRESIZECLASS', 'LATITUDE', 'LONGITUDE',\n",
      "       'OWNER_CODE', 'OWNER_DESCR', 'STATE'],\n",
      "      dtype='object')\n"
     ]
    }
   ],
   "metadata": {}
  },
  {
   "cell_type": "code",
   "execution_count": 22,
   "source": [
    "data.dtypes"
   ],
   "outputs": [
    {
     "output_type": "execute_result",
     "data": {
      "text/plain": [
       "FOD_ID                       object\n",
       "FPA_ID                       object\n",
       "SOURCESYSTEMTYPE             object\n",
       "SOURCESYSTEM                 object\n",
       "NWCGREPORTINGAGENCY          object\n",
       "NWCGREPORTINGUNIT_ID         object\n",
       "SOURCEREPORTINGUNIT_NAME     object\n",
       "LOCALFIREREPORT_ID           object\n",
       "FIRE_YEAR                     int64\n",
       "DISCOVERY_DATE              float64\n",
       "DISCOVERY_DOY                 int64\n",
       "DISCOVERY_TIME              float64\n",
       "STATCAUSECODE                 int64\n",
       "STATCAUSEDESCR               object\n",
       "FIRE_SIZE                   float64\n",
       "FIRESIZECLASS                object\n",
       "LATITUDE                    float64\n",
       "LONGITUDE                   float64\n",
       "OWNER_CODE                    int64\n",
       "OWNER_DESCR                  object\n",
       "STATE                        object\n",
       "dtype: object"
      ]
     },
     "metadata": {},
     "execution_count": 22
    }
   ],
   "metadata": {}
  },
  {
   "cell_type": "markdown",
   "source": [
    "# 2.4 Convert Dates"
   ],
   "metadata": {}
  },
  {
   "cell_type": "code",
   "execution_count": 23,
   "source": [
    "data[\"DISCOVERY_TIME\"]"
   ],
   "outputs": [
    {
     "output_type": "execute_result",
     "data": {
      "text/plain": [
       "0           845.0\n",
       "1          1921.0\n",
       "2          1600.0\n",
       "3          1600.0\n",
       "4          1800.0\n",
       "            ...  \n",
       "1880459    1726.0\n",
       "1880460     126.0\n",
       "1880461    2052.0\n",
       "1880462    2309.0\n",
       "1880463    2128.0\n",
       "Name: DISCOVERY_TIME, Length: 1880464, dtype: float64"
      ]
     },
     "metadata": {},
     "execution_count": 23
    }
   ],
   "metadata": {}
  },
  {
   "cell_type": "code",
   "execution_count": 24,
   "source": [
    "sns.histplot(data[\"DISCOVERY_TIME\"])"
   ],
   "outputs": [
    {
     "output_type": "execute_result",
     "data": {
      "text/plain": [
       "<AxesSubplot:xlabel='DISCOVERY_TIME', ylabel='Count'>"
      ]
     },
     "metadata": {},
     "execution_count": 24
    },
    {
     "output_type": "display_data",
     "data": {
      "text/plain": [
       "<Figure size 432x288 with 1 Axes>"
      ],
      "image/png": "[encoded data removed]"
     },
     "metadata": {
      "needs_background": "light"
     }
    }
   ],
   "metadata": {}
  },
  {
   "cell_type": "code",
   "execution_count": 25,
   "source": [
    "data[\"DISCOVERY_DOY\"]"
   ],
   "outputs": [
    {
     "output_type": "execute_result",
     "data": {
      "text/plain": [
       "0          133\n",
       "1          152\n",
       "2          180\n",
       "3          180\n",
       "4          182\n",
       "          ... \n",
       "1880459    269\n",
       "1880460    278\n",
       "1880461    122\n",
       "1880462    287\n",
       "1880463     73\n",
       "Name: DISCOVERY_DOY, Length: 1880464, dtype: int64"
      ]
     },
     "metadata": {},
     "execution_count": 25
    }
   ],
   "metadata": {}
  },
  {
   "cell_type": "code",
   "execution_count": 26,
   "source": [
    "data[\"DISCOVERY_DATE\"]"
   ],
   "outputs": [
    {
     "output_type": "execute_result",
     "data": {
      "text/plain": [
       "0          2453137.5\n",
       "1          2453156.5\n",
       "2          2453184.5\n",
       "3          2453184.5\n",
       "4          2453186.5\n",
       "             ...    \n",
       "1880459    2457291.5\n",
       "1880460    2457300.5\n",
       "1880461    2457144.5\n",
       "1880462    2457309.5\n",
       "1880463    2457095.5\n",
       "Name: DISCOVERY_DATE, Length: 1880464, dtype: float64"
      ]
     },
     "metadata": {},
     "execution_count": 26
    }
   ],
   "metadata": {}
  },
  {
   "cell_type": "code",
   "execution_count": 27,
   "source": [
    "data[\"FIRE_YEAR\"]"
   ],
   "outputs": [
    {
     "output_type": "execute_result",
     "data": {
      "text/plain": [
       "0          2004\n",
       "1          2004\n",
       "2          2004\n",
       "3          2004\n",
       "4          2004\n",
       "           ... \n",
       "1880459    2015\n",
       "1880460    2015\n",
       "1880461    2015\n",
       "1880462    2015\n",
       "1880463    2015\n",
       "Name: FIRE_YEAR, Length: 1880464, dtype: int64"
      ]
     },
     "metadata": {},
     "execution_count": 27
    }
   ],
   "metadata": {}
  },
  {
   "cell_type": "code",
   "execution_count": 28,
   "source": [
    "data[\"Julian_Date\"] = data[\"FIRE_YEAR\"].astype(str) + data[\"DISCOVERY_DOY\"].astype(str)\n",
    "data[\"Julian_Date\"]"
   ],
   "outputs": [
    {
     "output_type": "execute_result",
     "data": {
      "text/plain": [
       "0          2004133\n",
       "1          2004152\n",
       "2          2004180\n",
       "3          2004180\n",
       "4          2004182\n",
       "            ...   \n",
       "1880459    2015269\n",
       "1880460    2015278\n",
       "1880461    2015122\n",
       "1880462    2015287\n",
       "1880463     201573\n",
       "Name: Julian_Date, Length: 1880464, dtype: object"
      ]
     },
     "metadata": {},
     "execution_count": 28
    }
   ],
   "metadata": {}
  },
  {
   "cell_type": "code",
   "execution_count": 29,
   "source": [
    "# code from: https://rafatieppo.github.io/post/2018_12_01_juliandate/ \n",
    "def julian_date_converter(julian_date):\n",
    "    date_format = '%Y%j'\n",
    "    converted_date = datetime.datetime.strptime(julian_date, date_format).date()\n",
    "    return converted_date"
   ],
   "outputs": [],
   "metadata": {}
  },
  {
   "cell_type": "code",
   "execution_count": 30,
   "source": [
    "data['Converted_Date'] = data['Julian_Date'].map(lambda x: julian_date_converter(x))\n",
    "data['Converted_Date'] "
   ],
   "outputs": [
    {
     "output_type": "execute_result",
     "data": {
      "text/plain": [
       "0          2004-05-12\n",
       "1          2004-05-31\n",
       "2          2004-06-28\n",
       "3          2004-06-28\n",
       "4          2004-06-30\n",
       "              ...    \n",
       "1880459    2015-09-26\n",
       "1880460    2015-10-05\n",
       "1880461    2015-05-02\n",
       "1880462    2015-10-14\n",
       "1880463    2015-03-14\n",
       "Name: Converted_Date, Length: 1880464, dtype: object"
      ]
     },
     "metadata": {},
     "execution_count": 30
    }
   ],
   "metadata": {}
  },
  {
   "cell_type": "code",
   "execution_count": 31,
   "source": [
    "data[\"DISOVERY_MONTH\"] = data['Julian_Date'].map(lambda x: julian_date_converter(x).month)\n",
    "data[\"DISOVERY_DAY\"] = data['Julian_Date'].map(lambda x: julian_date_converter(x).day)"
   ],
   "outputs": [],
   "metadata": {}
  },
  {
   "cell_type": "code",
   "execution_count": 32,
   "source": [
    "data[\"DISOVERY_MONTH\"]"
   ],
   "outputs": [
    {
     "output_type": "execute_result",
     "data": {
      "text/plain": [
       "0           5\n",
       "1           5\n",
       "2           6\n",
       "3           6\n",
       "4           6\n",
       "           ..\n",
       "1880459     9\n",
       "1880460    10\n",
       "1880461     5\n",
       "1880462    10\n",
       "1880463     3\n",
       "Name: DISOVERY_MONTH, Length: 1880464, dtype: int64"
      ]
     },
     "metadata": {},
     "execution_count": 32
    }
   ],
   "metadata": {}
  },
  {
   "cell_type": "code",
   "execution_count": 33,
   "source": [
    "data[\"DISOVERY_DAY\"]"
   ],
   "outputs": [
    {
     "output_type": "execute_result",
     "data": {
      "text/plain": [
       "0          12\n",
       "1          31\n",
       "2          28\n",
       "3          28\n",
       "4          30\n",
       "           ..\n",
       "1880459    26\n",
       "1880460     5\n",
       "1880461     2\n",
       "1880462    14\n",
       "1880463    14\n",
       "Name: DISOVERY_DAY, Length: 1880464, dtype: int64"
      ]
     },
     "metadata": {},
     "execution_count": 33
    }
   ],
   "metadata": {}
  },
  {
   "cell_type": "code",
   "execution_count": 34,
   "source": [
    "data.columns"
   ],
   "outputs": [
    {
     "output_type": "execute_result",
     "data": {
      "text/plain": [
       "Index(['FOD_ID', 'FPA_ID', 'SOURCESYSTEMTYPE', 'SOURCESYSTEM',\n",
       "       'NWCGREPORTINGAGENCY', 'NWCGREPORTINGUNIT_ID',\n",
       "       'SOURCEREPORTINGUNIT_NAME', 'LOCALFIREREPORT_ID', 'FIRE_YEAR',\n",
       "       'DISCOVERY_DATE', 'DISCOVERY_DOY', 'DISCOVERY_TIME', 'STATCAUSECODE',\n",
       "       'STATCAUSEDESCR', 'FIRE_SIZE', 'FIRESIZECLASS', 'LATITUDE', 'LONGITUDE',\n",
       "       'OWNER_CODE', 'OWNER_DESCR', 'STATE', 'Julian_Date', 'Converted_Date',\n",
       "       'DISOVERY_MONTH', 'DISOVERY_DAY'],\n",
       "      dtype='object')"
      ]
     },
     "metadata": {},
     "execution_count": 34
    }
   ],
   "metadata": {}
  },
  {
   "cell_type": "code",
   "execution_count": 35,
   "source": [
    "data.head()"
   ],
   "outputs": [
    {
     "output_type": "execute_result",
     "data": {
      "text/plain": [
       "       FOD_ID FPA_ID SOURCESYSTEMTYPE SOURCESYSTEM NWCGREPORTINGAGENCY  \\\n",
       "0  FS-1418827    FED      FS-FIRESTAT           FS             USCAENF   \n",
       "1  FS-1418835    FED      FS-FIRESTAT           FS             USCAENF   \n",
       "2  FS-1418845    FED      FS-FIRESTAT           FS             USCAENF   \n",
       "3  FS-1418847    FED      FS-FIRESTAT           FS             USCAENF   \n",
       "4  FS-1418849    FED      FS-FIRESTAT           FS             USCAENF   \n",
       "\n",
       "       NWCGREPORTINGUNIT_ID SOURCEREPORTINGUNIT_NAME  \\\n",
       "0  Eldorado National Forest                      503   \n",
       "1  Eldorado National Forest                      503   \n",
       "2  Eldorado National Forest                      503   \n",
       "3  Eldorado National Forest                      503   \n",
       "4  Eldorado National Forest                      503   \n",
       "\n",
       "         LOCALFIREREPORT_ID  FIRE_YEAR  DISCOVERY_DATE  ...  FIRESIZECLASS  \\\n",
       "0  Eldorado National Forest       2004       2453137.5  ...              A   \n",
       "1  Eldorado National Forest       2004       2453156.5  ...              A   \n",
       "2  Eldorado National Forest       2004       2453184.5  ...              A   \n",
       "3  Eldorado National Forest       2004       2453184.5  ...              A   \n",
       "4  Eldorado National Forest       2004       2453186.5  ...              A   \n",
       "\n",
       "    LATITUDE   LONGITUDE OWNER_CODE       OWNER_DESCR STATE  Julian_Date  \\\n",
       "0  38.933056 -120.404444          5              USFS    CA      2004133   \n",
       "1  38.984167 -120.735556         13  STATE OR PRIVATE    CA      2004152   \n",
       "2  38.559167 -119.913333          5              USFS    CA      2004180   \n",
       "3  38.559167 -119.933056          5              USFS    CA      2004180   \n",
       "4  38.635278 -120.103611          5              USFS    CA      2004182   \n",
       "\n",
       "   Converted_Date  DISOVERY_MONTH DISOVERY_DAY  \n",
       "0      2004-05-12               5           12  \n",
       "1      2004-05-31               5           31  \n",
       "2      2004-06-28               6           28  \n",
       "3      2004-06-28               6           28  \n",
       "4      2004-06-30               6           30  \n",
       "\n",
       "[5 rows x 25 columns]"
      ],
      "text/html": [
       "<div>\n",
       "<style scoped>\n",
       "    .dataframe tbody tr th:only-of-type {\n",
       "        vertical-align: middle;\n",
       "    }\n",
       "\n",
       "    .dataframe tbody tr th {\n",
       "        vertical-align: top;\n",
       "    }\n",
       "\n",
       "    .dataframe thead th {\n",
       "        text-align: right;\n",
       "    }\n",
       "</style>\n",
       "<table border=\"1\" class=\"dataframe\">\n",
       "  <thead>\n",
       "    <tr style=\"text-align: right;\">\n",
       "      <th></th>\n",
       "      <th>FOD_ID</th>\n",
       "      <th>FPA_ID</th>\n",
       "      <th>SOURCESYSTEMTYPE</th>\n",
       "      <th>SOURCESYSTEM</th>\n",
       "      <th>NWCGREPORTINGAGENCY</th>\n",
       "      <th>NWCGREPORTINGUNIT_ID</th>\n",
       "      <th>SOURCEREPORTINGUNIT_NAME</th>\n",
       "      <th>LOCALFIREREPORT_ID</th>\n",
       "      <th>FIRE_YEAR</th>\n",
       "      <th>DISCOVERY_DATE</th>\n",
       "      <th>...</th>\n",
       "      <th>FIRESIZECLASS</th>\n",
       "      <th>LATITUDE</th>\n",
       "      <th>LONGITUDE</th>\n",
       "      <th>OWNER_CODE</th>\n",
       "      <th>OWNER_DESCR</th>\n",
       "      <th>STATE</th>\n",
       "      <th>Julian_Date</th>\n",
       "      <th>Converted_Date</th>\n",
       "      <th>DISOVERY_MONTH</th>\n",
       "      <th>DISOVERY_DAY</th>\n",
       "    </tr>\n",
       "  </thead>\n",
       "  <tbody>\n",
       "    <tr>\n",
       "      <th>0</th>\n",
       "      <td>FS-1418827</td>\n",
       "      <td>FED</td>\n",
       "      <td>FS-FIRESTAT</td>\n",
       "      <td>FS</td>\n",
       "      <td>USCAENF</td>\n",
       "      <td>Eldorado National Forest</td>\n",
       "      <td>503</td>\n",
       "      <td>Eldorado National Forest</td>\n",
       "      <td>2004</td>\n",
       "      <td>2453137.5</td>\n",
       "      <td>...</td>\n",
       "      <td>A</td>\n",
       "      <td>38.933056</td>\n",
       "      <td>-120.404444</td>\n",
       "      <td>5</td>\n",
       "      <td>USFS</td>\n",
       "      <td>CA</td>\n",
       "      <td>2004133</td>\n",
       "      <td>2004-05-12</td>\n",
       "      <td>5</td>\n",
       "      <td>12</td>\n",
       "    </tr>\n",
       "    <tr>\n",
       "      <th>1</th>\n",
       "      <td>FS-1418835</td>\n",
       "      <td>FED</td>\n",
       "      <td>FS-FIRESTAT</td>\n",
       "      <td>FS</td>\n",
       "      <td>USCAENF</td>\n",
       "      <td>Eldorado National Forest</td>\n",
       "      <td>503</td>\n",
       "      <td>Eldorado National Forest</td>\n",
       "      <td>2004</td>\n",
       "      <td>2453156.5</td>\n",
       "      <td>...</td>\n",
       "      <td>A</td>\n",
       "      <td>38.984167</td>\n",
       "      <td>-120.735556</td>\n",
       "      <td>13</td>\n",
       "      <td>STATE OR PRIVATE</td>\n",
       "      <td>CA</td>\n",
       "      <td>2004152</td>\n",
       "      <td>2004-05-31</td>\n",
       "      <td>5</td>\n",
       "      <td>31</td>\n",
       "    </tr>\n",
       "    <tr>\n",
       "      <th>2</th>\n",
       "      <td>FS-1418845</td>\n",
       "      <td>FED</td>\n",
       "      <td>FS-FIRESTAT</td>\n",
       "      <td>FS</td>\n",
       "      <td>USCAENF</td>\n",
       "      <td>Eldorado National Forest</td>\n",
       "      <td>503</td>\n",
       "      <td>Eldorado National Forest</td>\n",
       "      <td>2004</td>\n",
       "      <td>2453184.5</td>\n",
       "      <td>...</td>\n",
       "      <td>A</td>\n",
       "      <td>38.559167</td>\n",
       "      <td>-119.913333</td>\n",
       "      <td>5</td>\n",
       "      <td>USFS</td>\n",
       "      <td>CA</td>\n",
       "      <td>2004180</td>\n",
       "      <td>2004-06-28</td>\n",
       "      <td>6</td>\n",
       "      <td>28</td>\n",
       "    </tr>\n",
       "    <tr>\n",
       "      <th>3</th>\n",
       "      <td>FS-1418847</td>\n",
       "      <td>FED</td>\n",
       "      <td>FS-FIRESTAT</td>\n",
       "      <td>FS</td>\n",
       "      <td>USCAENF</td>\n",
       "      <td>Eldorado National Forest</td>\n",
       "      <td>503</td>\n",
       "      <td>Eldorado National Forest</td>\n",
       "      <td>2004</td>\n",
       "      <td>2453184.5</td>\n",
       "      <td>...</td>\n",
       "      <td>A</td>\n",
       "      <td>38.559167</td>\n",
       "      <td>-119.933056</td>\n",
       "      <td>5</td>\n",
       "      <td>USFS</td>\n",
       "      <td>CA</td>\n",
       "      <td>2004180</td>\n",
       "      <td>2004-06-28</td>\n",
       "      <td>6</td>\n",
       "      <td>28</td>\n",
       "    </tr>\n",
       "    <tr>\n",
       "      <th>4</th>\n",
       "      <td>FS-1418849</td>\n",
       "      <td>FED</td>\n",
       "      <td>FS-FIRESTAT</td>\n",
       "      <td>FS</td>\n",
       "      <td>USCAENF</td>\n",
       "      <td>Eldorado National Forest</td>\n",
       "      <td>503</td>\n",
       "      <td>Eldorado National Forest</td>\n",
       "      <td>2004</td>\n",
       "      <td>2453186.5</td>\n",
       "      <td>...</td>\n",
       "      <td>A</td>\n",
       "      <td>38.635278</td>\n",
       "      <td>-120.103611</td>\n",
       "      <td>5</td>\n",
       "      <td>USFS</td>\n",
       "      <td>CA</td>\n",
       "      <td>2004182</td>\n",
       "      <td>2004-06-30</td>\n",
       "      <td>6</td>\n",
       "      <td>30</td>\n",
       "    </tr>\n",
       "  </tbody>\n",
       "</table>\n",
       "<p>5 rows × 25 columns</p>\n",
       "</div>"
      ]
     },
     "metadata": {},
     "execution_count": 35
    }
   ],
   "metadata": {}
  },
  {
   "cell_type": "markdown",
   "source": [
    "# 2.5 Drop Columns for Dummy Variables"
   ],
   "metadata": {}
  },
  {
   "cell_type": "code",
   "execution_count": 36,
   "source": [
    "data[\"FOD_ID\"].value_counts() # can drop"
   ],
   "outputs": [
    {
     "output_type": "execute_result",
     "data": {
      "text/plain": [
       "FS-1452833                       2\n",
       "SFO-2015CACDFLNU003791           2\n",
       "ICS209_2009_KS-DDQ-128           2\n",
       "W-466337                         1\n",
       "SFO-NC01350606-4454              1\n",
       "                                ..\n",
       "W-514276                         1\n",
       "SFO-2014TXLFDX499955             1\n",
       "CDF_1992_55_2225_1372            1\n",
       "FWS-1993NYLIR5384                1\n",
       "W-390545                         1\n",
       "Name: FOD_ID, Length: 1880461, dtype: int64"
      ]
     },
     "metadata": {},
     "execution_count": 36
    }
   ],
   "metadata": {}
  },
  {
   "cell_type": "code",
   "execution_count": 37,
   "source": [
    "data[\"FPA_ID\"].value_counts() # can turn to dummy variables "
   ],
   "outputs": [
    {
     "output_type": "execute_result",
     "data": {
      "text/plain": [
       "NONFED       1362148\n",
       "FED           481105\n",
       "INTERAGCY      37211\n",
       "Name: FPA_ID, dtype: int64"
      ]
     },
     "metadata": {},
     "execution_count": 37
    }
   ],
   "metadata": {}
  },
  {
   "cell_type": "code",
   "execution_count": 38,
   "source": [
    "data[\"SOURCESYSTEMTYPE\"].value_counts() # can drop"
   ],
   "outputs": [
    {
     "output_type": "execute_result",
     "data": {
      "text/plain": [
       "ST-NASF        711236\n",
       "DOI-WFMI       241423\n",
       "FS-FIRESTAT    220355\n",
       "ST-CACDF        87355\n",
       "ST-NCNCS        65695\n",
       "ST-GAGAS        65061\n",
       "ST-MSMSS        60513\n",
       "ST-TXTXS        57945\n",
       "ST-ALALS        54951\n",
       "ST-SCSCS        49281\n",
       "ST-FLFLS        45077\n",
       "IA-PRIITF       21802\n",
       "FWS-FMIS        19327\n",
       "ST-ORORS        18121\n",
       "ST-LALAS        16172\n",
       "ST-OKOKS        15397\n",
       "ST-TNTNS        14777\n",
       "ST-WIWIS        14323\n",
       "ST-ARARS        11303\n",
       "ST-VAVAS        10575\n",
       "ST-MOMOS         9835\n",
       "IA-HIWMO         9714\n",
       "ST-WAWAS         9648\n",
       "ST-MEMES         7252\n",
       "ST-KYKYS         6519\n",
       "ST-UTUTS         4470\n",
       "ST-NMNMS         4433\n",
       "IA-AKACC         3713\n",
       "ST-AZAZS         3446\n",
       "FA-NFIRS         3387\n",
       "ST-CTCTS         3379\n",
       "ST-SDSDS         3181\n",
       "ST-MTMTS         2737\n",
       "ST-COCOS         2433\n",
       "ST-MIMIS         2139\n",
       "IA-ICS209        1983\n",
       "ST-WYWYS         1489\n",
       "ST-NENES           17\n",
       "Name: SOURCESYSTEMTYPE, dtype: int64"
      ]
     },
     "metadata": {},
     "execution_count": 38
    }
   ],
   "metadata": {}
  },
  {
   "cell_type": "code",
   "execution_count": 39,
   "source": [
    "data[\"SOURCESYSTEM\"].value_counts() # turn to dummy variables "
   ],
   "outputs": [
    {
     "output_type": "execute_result",
     "data": {
      "text/plain": [
       "ST/C&L    1377090\n",
       "FS         220496\n",
       "BIA        119943\n",
       "BLM         97034\n",
       "IA          21841\n",
       "NPS         20893\n",
       "FWS         19331\n",
       "TRIBE        3739\n",
       "DOD            81\n",
       "BOR            14\n",
       "DOE             2\n",
       "Name: SOURCESYSTEM, dtype: int64"
      ]
     },
     "metadata": {},
     "execution_count": 39
    }
   ],
   "metadata": {}
  },
  {
   "cell_type": "code",
   "execution_count": 40,
   "source": [
    "data[\"NWCGREPORTINGAGENCY\"].value_counts() # can drop"
   ],
   "outputs": [
    {
     "output_type": "execute_result",
     "data": {
      "text/plain": [
       "USGAGAS     167123\n",
       "USTXTXS     111362\n",
       "USNCNCS     107424\n",
       "USFLFLS      83024\n",
       "USSCSCS      78977\n",
       "             ...  \n",
       "USWYPLX          1\n",
       "USTXAFP          1\n",
       "USSDHRRX         1\n",
       "USFLFMP          1\n",
       "USFLCDP          1\n",
       "Name: NWCGREPORTINGAGENCY, Length: 1640, dtype: int64"
      ]
     },
     "metadata": {},
     "execution_count": 40
    }
   ],
   "metadata": {}
  },
  {
   "cell_type": "code",
   "execution_count": 41,
   "source": [
    "data[\"NWCGREPORTINGUNIT_ID\"].value_counts() # can drop"
   ],
   "outputs": [
    {
     "output_type": "execute_result",
     "data": {
      "text/plain": [
       "Georgia Forestry Commission           167123\n",
       "Texas A & M Forest Service            111362\n",
       "North Carolina Forest Service         107424\n",
       "Florida Forest Service                 83024\n",
       "South Carolina Forestry Commission     78977\n",
       "                                       ...  \n",
       "Fry Fire District                          1\n",
       "Russell County                             1\n",
       "Sonoita-Elgin Emergency Services           1\n",
       "Hanford Fire Department                    1\n",
       "Tule Lake Unit                             1\n",
       "Name: NWCGREPORTINGUNIT_ID, Length: 1635, dtype: int64"
      ]
     },
     "metadata": {},
     "execution_count": 41
    }
   ],
   "metadata": {}
  },
  {
   "cell_type": "code",
   "execution_count": 42,
   "source": [
    "data['SOURCEREPORTINGUNIT_NAME'].value_counts() # can drop"
   ],
   "outputs": [
    {
     "output_type": "execute_result",
     "data": {
      "text/plain": [
       "GAGAS     97844\n",
       "SCSCS     52064\n",
       "TXTXS     40366\n",
       "FLFLS     37945\n",
       "NCNCS     37255\n",
       "          ...  \n",
       "04722         1\n",
       "SDRDGX        1\n",
       "SDCENX        1\n",
       "SDCRKX        1\n",
       "CATMP         1\n",
       "Name: SOURCEREPORTINGUNIT_NAME, Length: 5116, dtype: int64"
      ]
     },
     "metadata": {},
     "execution_count": 42
    }
   ],
   "metadata": {}
  },
  {
   "cell_type": "code",
   "execution_count": 43,
   "source": [
    "data['LOCALFIREREPORT_ID'].value_counts() # can drop"
   ],
   "outputs": [
    {
     "output_type": "execute_result",
     "data": {
      "text/plain": [
       "Georgia Forestry Commission                          97844\n",
       "Fire Department of New York                          75461\n",
       "South Carolina Forestry Commission                   52064\n",
       "Mississippi Forestry Commission                      46396\n",
       "Texas Forest Service                                 42675\n",
       "                                                     ...  \n",
       "Kent Co VFD                                              1\n",
       "Bond Swamp National Wildlife Refuge                      1\n",
       "BOGUE CHITTO NWR                                         1\n",
       "STEIGERWALD LAKE NWR                                     1\n",
       "UPR MS RIV NATL WILDL AND FISH RFG-LA CROSSE DIST        1\n",
       "Name: LOCALFIREREPORT_ID, Length: 4441, dtype: int64"
      ]
     },
     "metadata": {},
     "execution_count": 43
    }
   ],
   "metadata": {}
  },
  {
   "cell_type": "code",
   "execution_count": 44,
   "source": [
    "data['STATCAUSECODE'].value_counts() # drop because same as STATCAUSEDESCR "
   ],
   "outputs": [
    {
     "output_type": "execute_result",
     "data": {
      "text/plain": [
       "5     429028\n",
       "9     323804\n",
       "7     281455\n",
       "1     278468\n",
       "13    166723\n",
       "2     147612\n",
       "4      76139\n",
       "8      61167\n",
       "3      52869\n",
       "6      33455\n",
       "11     14448\n",
       "10     11500\n",
       "12      3796\n",
       "Name: STATCAUSECODE, dtype: int64"
      ]
     },
     "metadata": {},
     "execution_count": 44
    }
   ],
   "metadata": {}
  },
  {
   "cell_type": "code",
   "execution_count": 45,
   "source": [
    "data[\"STATCAUSEDESCR\"].value_counts() # turn to dummy variables"
   ],
   "outputs": [
    {
     "output_type": "execute_result",
     "data": {
      "text/plain": [
       "Debris Burning       429028\n",
       "Miscellaneous        323804\n",
       "Arson                281455\n",
       "Lightning            278468\n",
       "Missing/Undefined    166723\n",
       "Equipment Use        147612\n",
       "Campfire              76139\n",
       "Children              61167\n",
       "Smoking               52869\n",
       "Railroad              33455\n",
       "Powerline             14448\n",
       "Fireworks             11500\n",
       "Structure              3796\n",
       "Name: STATCAUSEDESCR, dtype: int64"
      ]
     },
     "metadata": {},
     "execution_count": 45
    }
   ],
   "metadata": {}
  },
  {
   "cell_type": "code",
   "execution_count": 46,
   "source": [
    "data[\"FIRESIZECLASS\"].value_counts() # turn to dummy variables"
   ],
   "outputs": [
    {
     "output_type": "execute_result",
     "data": {
      "text/plain": [
       "B    939376\n",
       "A    666918\n",
       "C    220077\n",
       "D     28427\n",
       "E     14107\n",
       "F      7786\n",
       "G      3773\n",
       "Name: FIRESIZECLASS, dtype: int64"
      ]
     },
     "metadata": {},
     "execution_count": 46
    }
   ],
   "metadata": {}
  },
  {
   "cell_type": "code",
   "execution_count": 47,
   "source": [
    "data[\"OWNER_CODE\"].value_counts() # can drop because same as OWNER_DESCR"
   ],
   "outputs": [
    {
     "output_type": "execute_result",
     "data": {
      "text/plain": [
       "14    1050835\n",
       "8      314822\n",
       "5      188337\n",
       "2      106819\n",
       "13      71881\n",
       "1       63278\n",
       "7       30790\n",
       "3       17524\n",
       "4       12191\n",
       "9        8952\n",
       "6        6452\n",
       "12       4236\n",
       "15       2206\n",
       "11       1841\n",
       "10        285\n",
       "0          15\n",
       "Name: OWNER_CODE, dtype: int64"
      ]
     },
     "metadata": {},
     "execution_count": 47
    }
   ],
   "metadata": {}
  },
  {
   "cell_type": "code",
   "execution_count": 48,
   "source": [
    "data[\"OWNER_DESCR\"].value_counts() #  turn to dummy variables"
   ],
   "outputs": [
    {
     "output_type": "execute_result",
     "data": {
      "text/plain": [
       "MISSING/NOT SPECIFIED    1050835\n",
       "PRIVATE                   314822\n",
       "USFS                      188337\n",
       "BIA                       106819\n",
       "STATE OR PRIVATE           71881\n",
       "BLM                        63278\n",
       "STATE                      30790\n",
       "NPS                        17524\n",
       "FWS                        12191\n",
       "TRIBAL                      8952\n",
       "OTHER FEDERAL               6452\n",
       "MUNICIPAL/LOCAL             4236\n",
       "UNDEFINED FEDERAL           2206\n",
       "COUNTY                      1841\n",
       "BOR                          285\n",
       "FOREIGN                       15\n",
       "Name: OWNER_DESCR, dtype: int64"
      ]
     },
     "metadata": {},
     "execution_count": 48
    }
   ],
   "metadata": {}
  },
  {
   "cell_type": "code",
   "execution_count": 49,
   "source": [
    "data.columns"
   ],
   "outputs": [
    {
     "output_type": "execute_result",
     "data": {
      "text/plain": [
       "Index(['FOD_ID', 'FPA_ID', 'SOURCESYSTEMTYPE', 'SOURCESYSTEM',\n",
       "       'NWCGREPORTINGAGENCY', 'NWCGREPORTINGUNIT_ID',\n",
       "       'SOURCEREPORTINGUNIT_NAME', 'LOCALFIREREPORT_ID', 'FIRE_YEAR',\n",
       "       'DISCOVERY_DATE', 'DISCOVERY_DOY', 'DISCOVERY_TIME', 'STATCAUSECODE',\n",
       "       'STATCAUSEDESCR', 'FIRE_SIZE', 'FIRESIZECLASS', 'LATITUDE', 'LONGITUDE',\n",
       "       'OWNER_CODE', 'OWNER_DESCR', 'STATE', 'Julian_Date', 'Converted_Date',\n",
       "       'DISOVERY_MONTH', 'DISOVERY_DAY'],\n",
       "      dtype='object')"
      ]
     },
     "metadata": {},
     "execution_count": 49
    }
   ],
   "metadata": {}
  },
  {
   "cell_type": "code",
   "execution_count": 50,
   "source": [
    "svm_drop = ['FOD_ID', 'SOURCESYSTEMTYPE', 'NWCGREPORTINGAGENCY', 'NWCGREPORTINGUNIT_ID', 'SOURCEREPORTINGUNIT_NAME', 'LOCALFIREREPORT_ID',\n",
    "'STATCAUSECODE', 'OWNER_CODE', 'Converted_Date']\n",
    "svm_data = data.drop(columns= svm_drop)"
   ],
   "outputs": [],
   "metadata": {}
  },
  {
   "cell_type": "code",
   "execution_count": 51,
   "source": [
    "drop_columns = ['FOD_ID', 'SOURCESYSTEMTYPE', 'NWCGREPORTINGAGENCY', 'NWCGREPORTINGUNIT_ID', 'SOURCEREPORTINGUNIT_NAME', 'LOCALFIREREPORT_ID',\n",
    "'STATCAUSECODE', 'OWNER_CODE', 'DISCOVERY_DATE', 'DISCOVERY_DOY', 'Julian_Date']\n",
    "data = data.drop(columns= drop_columns)"
   ],
   "outputs": [],
   "metadata": {}
  },
  {
   "cell_type": "code",
   "execution_count": 52,
   "source": [
    "data.columns"
   ],
   "outputs": [
    {
     "output_type": "execute_result",
     "data": {
      "text/plain": [
       "Index(['FPA_ID', 'SOURCESYSTEM', 'FIRE_YEAR', 'DISCOVERY_TIME',\n",
       "       'STATCAUSEDESCR', 'FIRE_SIZE', 'FIRESIZECLASS', 'LATITUDE', 'LONGITUDE',\n",
       "       'OWNER_DESCR', 'STATE', 'Converted_Date', 'DISOVERY_MONTH',\n",
       "       'DISOVERY_DAY'],\n",
       "      dtype='object')"
      ]
     },
     "metadata": {},
     "execution_count": 52
    }
   ],
   "metadata": {}
  },
  {
   "cell_type": "code",
   "execution_count": 53,
   "source": [
    "data.shape"
   ],
   "outputs": [
    {
     "output_type": "execute_result",
     "data": {
      "text/plain": [
       "(1880464, 14)"
      ]
     },
     "metadata": {},
     "execution_count": 53
    }
   ],
   "metadata": {}
  },
  {
   "cell_type": "code",
   "execution_count": 54,
   "source": [
    "fire_date = data[\"Converted_Date\"]"
   ],
   "outputs": [],
   "metadata": {}
  },
  {
   "cell_type": "code",
   "execution_count": 55,
   "source": [
    "data_no_date = data.drop(columns= [\"Converted_Date\"])"
   ],
   "outputs": [],
   "metadata": {}
  },
  {
   "cell_type": "markdown",
   "source": [
    "# 2.6 Dummy Variables"
   ],
   "metadata": {}
  },
  {
   "cell_type": "code",
   "execution_count": 56,
   "source": [
    "data_no_date = data_no_date.drop(columns=[\"DISOVERY_MONTH\", \"DISOVERY_DAY\", \"FIRE_YEAR\"])"
   ],
   "outputs": [],
   "metadata": {}
  },
  {
   "cell_type": "code",
   "execution_count": 57,
   "source": [
    "data_no_date.dtypes"
   ],
   "outputs": [
    {
     "output_type": "execute_result",
     "data": {
      "text/plain": [
       "FPA_ID             object\n",
       "SOURCESYSTEM       object\n",
       "DISCOVERY_TIME    float64\n",
       "STATCAUSEDESCR     object\n",
       "FIRE_SIZE         float64\n",
       "FIRESIZECLASS      object\n",
       "LATITUDE          float64\n",
       "LONGITUDE         float64\n",
       "OWNER_DESCR        object\n",
       "STATE              object\n",
       "dtype: object"
      ]
     },
     "metadata": {},
     "execution_count": 57
    }
   ],
   "metadata": {}
  },
  {
   "cell_type": "code",
   "execution_count": 58,
   "source": [
    "dummy_data_no_date = pd.get_dummies(data_no_date)"
   ],
   "outputs": [],
   "metadata": {}
  },
  {
   "cell_type": "code",
   "execution_count": 59,
   "source": [
    "dummy_data_no_date.columns"
   ],
   "outputs": [
    {
     "output_type": "execute_result",
     "data": {
      "text/plain": [
       "Index(['DISCOVERY_TIME', 'FIRE_SIZE', 'LATITUDE', 'LONGITUDE', 'FPA_ID_FED',\n",
       "       'FPA_ID_INTERAGCY', 'FPA_ID_NONFED', 'SOURCESYSTEM_BIA',\n",
       "       'SOURCESYSTEM_BLM', 'SOURCESYSTEM_BOR',\n",
       "       ...\n",
       "       'STATE_SD', 'STATE_TN', 'STATE_TX', 'STATE_UT', 'STATE_VA', 'STATE_VT',\n",
       "       'STATE_WA', 'STATE_WI', 'STATE_WV', 'STATE_WY'],\n",
       "      dtype='object', length=106)"
      ]
     },
     "metadata": {},
     "execution_count": 59
    }
   ],
   "metadata": {}
  },
  {
   "cell_type": "code",
   "execution_count": 60,
   "source": [
    "dummy_data_no_date.shape"
   ],
   "outputs": [
    {
     "output_type": "execute_result",
     "data": {
      "text/plain": [
       "(1880464, 106)"
      ]
     },
     "metadata": {},
     "execution_count": 60
    }
   ],
   "metadata": {}
  },
  {
   "cell_type": "code",
   "execution_count": 61,
   "source": [
    "dummy_data_no_date.head()"
   ],
   "outputs": [
    {
     "output_type": "execute_result",
     "data": {
      "text/plain": [
       "   DISCOVERY_TIME  FIRE_SIZE   LATITUDE   LONGITUDE  FPA_ID_FED  \\\n",
       "0           845.0       0.25  38.933056 -120.404444           1   \n",
       "1          1921.0       0.10  38.984167 -120.735556           1   \n",
       "2          1600.0       0.10  38.559167 -119.913333           1   \n",
       "3          1600.0       0.10  38.559167 -119.933056           1   \n",
       "4          1800.0       0.10  38.635278 -120.103611           1   \n",
       "\n",
       "   FPA_ID_INTERAGCY  FPA_ID_NONFED  SOURCESYSTEM_BIA  SOURCESYSTEM_BLM  \\\n",
       "0                 0              0                 0                 0   \n",
       "1                 0              0                 0                 0   \n",
       "2                 0              0                 0                 0   \n",
       "3                 0              0                 0                 0   \n",
       "4                 0              0                 0                 0   \n",
       "\n",
       "   SOURCESYSTEM_BOR  ...  STATE_SD  STATE_TN  STATE_TX  STATE_UT  STATE_VA  \\\n",
       "0                 0  ...         0         0         0         0         0   \n",
       "1                 0  ...         0         0         0         0         0   \n",
       "2                 0  ...         0         0         0         0         0   \n",
       "3                 0  ...         0         0         0         0         0   \n",
       "4                 0  ...         0         0         0         0         0   \n",
       "\n",
       "   STATE_VT  STATE_WA  STATE_WI  STATE_WV  STATE_WY  \n",
       "0         0         0         0         0         0  \n",
       "1         0         0         0         0         0  \n",
       "2         0         0         0         0         0  \n",
       "3         0         0         0         0         0  \n",
       "4         0         0         0         0         0  \n",
       "\n",
       "[5 rows x 106 columns]"
      ],
      "text/html": [
       "<div>\n",
       "<style scoped>\n",
       "    .dataframe tbody tr th:only-of-type {\n",
       "        vertical-align: middle;\n",
       "    }\n",
       "\n",
       "    .dataframe tbody tr th {\n",
       "        vertical-align: top;\n",
       "    }\n",
       "\n",
       "    .dataframe thead th {\n",
       "        text-align: right;\n",
       "    }\n",
       "</style>\n",
       "<table border=\"1\" class=\"dataframe\">\n",
       "  <thead>\n",
       "    <tr style=\"text-align: right;\">\n",
       "      <th></th>\n",
       "      <th>DISCOVERY_TIME</th>\n",
       "      <th>FIRE_SIZE</th>\n",
       "      <th>LATITUDE</th>\n",
       "      <th>LONGITUDE</th>\n",
       "      <th>FPA_ID_FED</th>\n",
       "      <th>FPA_ID_INTERAGCY</th>\n",
       "      <th>FPA_ID_NONFED</th>\n",
       "      <th>SOURCESYSTEM_BIA</th>\n",
       "      <th>SOURCESYSTEM_BLM</th>\n",
       "      <th>SOURCESYSTEM_BOR</th>\n",
       "      <th>...</th>\n",
       "      <th>STATE_SD</th>\n",
       "      <th>STATE_TN</th>\n",
       "      <th>STATE_TX</th>\n",
       "      <th>STATE_UT</th>\n",
       "      <th>STATE_VA</th>\n",
       "      <th>STATE_VT</th>\n",
       "      <th>STATE_WA</th>\n",
       "      <th>STATE_WI</th>\n",
       "      <th>STATE_WV</th>\n",
       "      <th>STATE_WY</th>\n",
       "    </tr>\n",
       "  </thead>\n",
       "  <tbody>\n",
       "    <tr>\n",
       "      <th>0</th>\n",
       "      <td>845.0</td>\n",
       "      <td>0.25</td>\n",
       "      <td>38.933056</td>\n",
       "      <td>-120.404444</td>\n",
       "      <td>1</td>\n",
       "      <td>0</td>\n",
       "      <td>0</td>\n",
       "      <td>0</td>\n",
       "      <td>0</td>\n",
       "      <td>0</td>\n",
       "      <td>...</td>\n",
       "      <td>0</td>\n",
       "      <td>0</td>\n",
       "      <td>0</td>\n",
       "      <td>0</td>\n",
       "      <td>0</td>\n",
       "      <td>0</td>\n",
       "      <td>0</td>\n",
       "      <td>0</td>\n",
       "      <td>0</td>\n",
       "      <td>0</td>\n",
       "    </tr>\n",
       "    <tr>\n",
       "      <th>1</th>\n",
       "      <td>1921.0</td>\n",
       "      <td>0.10</td>\n",
       "      <td>38.984167</td>\n",
       "      <td>-120.735556</td>\n",
       "      <td>1</td>\n",
       "      <td>0</td>\n",
       "      <td>0</td>\n",
       "      <td>0</td>\n",
       "      <td>0</td>\n",
       "      <td>0</td>\n",
       "      <td>...</td>\n",
       "      <td>0</td>\n",
       "      <td>0</td>\n",
       "      <td>0</td>\n",
       "      <td>0</td>\n",
       "      <td>0</td>\n",
       "      <td>0</td>\n",
       "      <td>0</td>\n",
       "      <td>0</td>\n",
       "      <td>0</td>\n",
       "      <td>0</td>\n",
       "    </tr>\n",
       "    <tr>\n",
       "      <th>2</th>\n",
       "      <td>1600.0</td>\n",
       "      <td>0.10</td>\n",
       "      <td>38.559167</td>\n",
       "      <td>-119.913333</td>\n",
       "      <td>1</td>\n",
       "      <td>0</td>\n",
       "      <td>0</td>\n",
       "      <td>0</td>\n",
       "      <td>0</td>\n",
       "      <td>0</td>\n",
       "      <td>...</td>\n",
       "      <td>0</td>\n",
       "      <td>0</td>\n",
       "      <td>0</td>\n",
       "      <td>0</td>\n",
       "      <td>0</td>\n",
       "      <td>0</td>\n",
       "      <td>0</td>\n",
       "      <td>0</td>\n",
       "      <td>0</td>\n",
       "      <td>0</td>\n",
       "    </tr>\n",
       "    <tr>\n",
       "      <th>3</th>\n",
       "      <td>1600.0</td>\n",
       "      <td>0.10</td>\n",
       "      <td>38.559167</td>\n",
       "      <td>-119.933056</td>\n",
       "      <td>1</td>\n",
       "      <td>0</td>\n",
       "      <td>0</td>\n",
       "      <td>0</td>\n",
       "      <td>0</td>\n",
       "      <td>0</td>\n",
       "      <td>...</td>\n",
       "      <td>0</td>\n",
       "      <td>0</td>\n",
       "      <td>0</td>\n",
       "      <td>0</td>\n",
       "      <td>0</td>\n",
       "      <td>0</td>\n",
       "      <td>0</td>\n",
       "      <td>0</td>\n",
       "      <td>0</td>\n",
       "      <td>0</td>\n",
       "    </tr>\n",
       "    <tr>\n",
       "      <th>4</th>\n",
       "      <td>1800.0</td>\n",
       "      <td>0.10</td>\n",
       "      <td>38.635278</td>\n",
       "      <td>-120.103611</td>\n",
       "      <td>1</td>\n",
       "      <td>0</td>\n",
       "      <td>0</td>\n",
       "      <td>0</td>\n",
       "      <td>0</td>\n",
       "      <td>0</td>\n",
       "      <td>...</td>\n",
       "      <td>0</td>\n",
       "      <td>0</td>\n",
       "      <td>0</td>\n",
       "      <td>0</td>\n",
       "      <td>0</td>\n",
       "      <td>0</td>\n",
       "      <td>0</td>\n",
       "      <td>0</td>\n",
       "      <td>0</td>\n",
       "      <td>0</td>\n",
       "    </tr>\n",
       "  </tbody>\n",
       "</table>\n",
       "<p>5 rows × 106 columns</p>\n",
       "</div>"
      ]
     },
     "metadata": {},
     "execution_count": 61
    }
   ],
   "metadata": {}
  },
  {
   "cell_type": "code",
   "execution_count": 62,
   "source": [
    "dummy_data_no_date[\"timestamp\"] = fire_date\n",
    "dummy_data_no_date.columns"
   ],
   "outputs": [
    {
     "output_type": "execute_result",
     "data": {
      "text/plain": [
       "Index(['DISCOVERY_TIME', 'FIRE_SIZE', 'LATITUDE', 'LONGITUDE', 'FPA_ID_FED',\n",
       "       'FPA_ID_INTERAGCY', 'FPA_ID_NONFED', 'SOURCESYSTEM_BIA',\n",
       "       'SOURCESYSTEM_BLM', 'SOURCESYSTEM_BOR',\n",
       "       ...\n",
       "       'STATE_TN', 'STATE_TX', 'STATE_UT', 'STATE_VA', 'STATE_VT', 'STATE_WA',\n",
       "       'STATE_WI', 'STATE_WV', 'STATE_WY', 'timestamp'],\n",
       "      dtype='object', length=107)"
      ]
     },
     "metadata": {},
     "execution_count": 62
    }
   ],
   "metadata": {}
  },
  {
   "cell_type": "code",
   "execution_count": 63,
   "source": [
    "svm_data.columns"
   ],
   "outputs": [
    {
     "output_type": "execute_result",
     "data": {
      "text/plain": [
       "Index(['FPA_ID', 'SOURCESYSTEM', 'FIRE_YEAR', 'DISCOVERY_DATE',\n",
       "       'DISCOVERY_DOY', 'DISCOVERY_TIME', 'STATCAUSEDESCR', 'FIRE_SIZE',\n",
       "       'FIRESIZECLASS', 'LATITUDE', 'LONGITUDE', 'OWNER_DESCR', 'STATE',\n",
       "       'Julian_Date', 'DISOVERY_MONTH', 'DISOVERY_DAY'],\n",
       "      dtype='object')"
      ]
     },
     "metadata": {},
     "execution_count": 63
    }
   ],
   "metadata": {}
  },
  {
   "cell_type": "code",
   "execution_count": 64,
   "source": [
    "svm_data = svm_data.drop(columns=['Julian_Date'])"
   ],
   "outputs": [],
   "metadata": {}
  },
  {
   "cell_type": "code",
   "execution_count": 65,
   "source": [
    "final_svm = pd.get_dummies(svm_data)\n",
    "final_svm.columns"
   ],
   "outputs": [
    {
     "output_type": "execute_result",
     "data": {
      "text/plain": [
       "Index(['FIRE_YEAR', 'DISCOVERY_DATE', 'DISCOVERY_DOY', 'DISCOVERY_TIME',\n",
       "       'FIRE_SIZE', 'LATITUDE', 'LONGITUDE', 'DISOVERY_MONTH', 'DISOVERY_DAY',\n",
       "       'FPA_ID_FED',\n",
       "       ...\n",
       "       'STATE_SD', 'STATE_TN', 'STATE_TX', 'STATE_UT', 'STATE_VA', 'STATE_VT',\n",
       "       'STATE_WA', 'STATE_WI', 'STATE_WV', 'STATE_WY'],\n",
       "      dtype='object', length=111)"
      ]
     },
     "metadata": {},
     "execution_count": 65
    }
   ],
   "metadata": {}
  },
  {
   "cell_type": "code",
   "execution_count": 73,
   "source": [
    "final_svm = final_svm.drop(columns=\"DISCOVERY_TIME\")"
   ],
   "outputs": [],
   "metadata": {}
  },
  {
   "cell_type": "code",
   "execution_count": 74,
   "source": [
    "final_svm.isnull().sum()"
   ],
   "outputs": [
    {
     "output_type": "execute_result",
     "data": {
      "text/plain": [
       "FIRE_YEAR         0\n",
       "DISCOVERY_DATE    0\n",
       "DISCOVERY_DOY     0\n",
       "FIRE_SIZE         0\n",
       "LATITUDE          0\n",
       "                 ..\n",
       "STATE_VT          0\n",
       "STATE_WA          0\n",
       "STATE_WI          0\n",
       "STATE_WV          0\n",
       "STATE_WY          0\n",
       "Length: 110, dtype: int64"
      ]
     },
     "metadata": {},
     "execution_count": 74
    }
   ],
   "metadata": {}
  },
  {
   "cell_type": "markdown",
   "source": [
    "# 3. Model"
   ],
   "metadata": {}
  },
  {
   "cell_type": "markdown",
   "source": [
    "# 3.1 Test Model - SVM"
   ],
   "metadata": {}
  },
  {
   "cell_type": "code",
   "execution_count": 75,
   "source": [
    "y = final_svm['FIRE_SIZE']\n",
    "X = final_svm.loc[:, final_svm.columns != 'FIRE_SIZE']"
   ],
   "outputs": [],
   "metadata": {}
  },
  {
   "cell_type": "code",
   "execution_count": 76,
   "source": [
    "from sklearn.model_selection import train_test_split\n",
    "X_train, X_test, y_train, y_test = train_test_split( X, y, test_size=0.2, random_state=42)"
   ],
   "outputs": [],
   "metadata": {}
  },
  {
   "cell_type": "code",
   "execution_count": 77,
   "source": [
    "from sklearn.svm import SVR\n",
    "\n",
    "svr = SVR().fit(X_train, y_train)"
   ],
   "outputs": [],
   "metadata": {}
  },
  {
   "cell_type": "code",
   "execution_count": null,
   "source": [
    "yfit = svr.predict(X_test)"
   ],
   "outputs": [],
   "metadata": {}
  },
  {
   "cell_type": "code",
   "execution_count": null,
   "source": [
    "mean_squared_error(y_test, yfit)"
   ],
   "outputs": [],
   "metadata": {}
  },
  {
   "cell_type": "markdown",
   "source": [
    "# 3.2 FLAML"
   ],
   "metadata": {}
  },
  {
   "cell_type": "code",
   "execution_count": 69,
   "source": [
    "final_data = dummy_data"
   ],
   "outputs": [],
   "metadata": {}
  },
  {
   "cell_type": "code",
   "execution_count": 70,
   "source": [
    "y = final_data['FIRE_SIZE']\n",
    "X = final_data.loc[:, final_data.columns != 'FIRE_SIZE']"
   ],
   "outputs": [],
   "metadata": {}
  },
  {
   "cell_type": "code",
   "execution_count": 85,
   "source": [
    "# Make timestamp the first column\n",
    "cols = X.columns.tolist()\n",
    "cols = cols[-1:] + cols[:-1]\n",
    "X = X[cols]"
   ],
   "outputs": [],
   "metadata": {}
  },
  {
   "cell_type": "code",
   "execution_count": 87,
   "source": [
    "from sklearn.model_selection import train_test_split\n",
    "X_train, X_test, y_train, y_test = train_test_split( X, y, test_size=0.2, random_state=42)"
   ],
   "outputs": [],
   "metadata": {}
  },
  {
   "cell_type": "code",
   "execution_count": 73,
   "source": [
    "from flaml import AutoML"
   ],
   "outputs": [],
   "metadata": {}
  },
  {
   "cell_type": "code",
   "execution_count": 88,
   "source": [
    "automl = AutoML()"
   ],
   "outputs": [],
   "metadata": {}
  },
  {
   "cell_type": "code",
   "execution_count": null,
   "source": [
    "num_samples = final_data.shape[0]\n",
    "time_horizon = 12\n",
    "split_idx = num_samples - time_horizon\n",
    "train_df = final_data[:split_idx]"
   ],
   "outputs": [],
   "metadata": {}
  },
  {
   "cell_type": "code",
   "execution_count": 89,
   "source": [
    "# configure AutoML settings\n",
    "settings = {\n",
    "    \"time_budget\": 10,  # total running time in seconds\n",
    "    \"metric\": \"mape\",  # primary metric\n",
    "    \"task\": \"ts_forecast\",  # task type\n",
    "    \"log_file_name\": \"forest_fire_1.log\",  # flaml log file\n",
    "    \"eval_method\": \"holdout\",\n",
    "    \"log_type\": \"all\",\n",
    "    \"label\": \"demand\",\n",
    "}\n",
    "time_horizon = 12"
   ],
   "outputs": [],
   "metadata": {}
  },
  {
   "cell_type": "code",
   "execution_count": 93,
   "source": [
    "automl.fit(X_train=X_train,\n",
    "           y_train=y_train,\n",
    "           task = \"ts_forecast\")"
   ],
   "outputs": [
    {
     "output_type": "error",
     "ename": "AssertionError",
     "evalue": "For '('forecast', 'ts_forecast', 'ts_forecast_regression', 'ts_forecast_classification', 'ts_forecast_panel')' task, the first column must contain timestamp values.",
     "traceback": [
      "\u001b[0;31m---------------------------------------------------------------------------\u001b[0m",
      "\u001b[0;31mAssertionError\u001b[0m                            Traceback (most recent call last)",
      "\u001b[0;32m<ipython-input-93-8b7f49a2c28b>\u001b[0m in \u001b[0;36m<module>\u001b[0;34m\u001b[0m\n\u001b[0;32m----> 1\u001b[0;31m automl.fit(X_train=X_train,\n\u001b[0m\u001b[1;32m      2\u001b[0m            \u001b[0my_train\u001b[0m\u001b[0;34m=\u001b[0m\u001b[0my_train\u001b[0m\u001b[0;34m,\u001b[0m\u001b[0;34m\u001b[0m\u001b[0;34m\u001b[0m\u001b[0m\n\u001b[1;32m      3\u001b[0m            task = \"ts_forecast\")\n",
      "\u001b[0;32m~/opt/anaconda3/lib/python3.8/site-packages/flaml/automl.py\u001b[0m in \u001b[0;36mfit\u001b[0;34m(self, X_train, y_train, dataframe, label, metric, task, n_jobs, log_file_name, estimator_list, time_budget, max_iter, sample, ensemble, eval_method, log_type, model_history, split_ratio, n_splits, log_training_metric, mem_thres, pred_time_limit, train_time_limit, X_val, y_val, sample_weight_val, groups_val, groups, verbose, retrain_full, split_type, learner_selector, hpo_method, starting_points, seed, n_concurrent_trials, keep_search_state, preserve_checkpoint, early_stop, append_log, auto_augment, min_sample_size, use_ray, metric_constraints, custom_hp, cv_score_agg_func, skip_transform, fit_kwargs_by_estimator, **fit_kwargs)\u001b[0m\n\u001b[1;32m   2583\u001b[0m         \u001b[0mself\u001b[0m\u001b[0;34m.\u001b[0m\u001b[0m_state\u001b[0m\u001b[0;34m.\u001b[0m\u001b[0mweight_val\u001b[0m \u001b[0;34m=\u001b[0m \u001b[0msample_weight_val\u001b[0m\u001b[0;34m\u001b[0m\u001b[0;34m\u001b[0m\u001b[0m\n\u001b[1;32m   2584\u001b[0m \u001b[0;34m\u001b[0m\u001b[0m\n\u001b[0;32m-> 2585\u001b[0;31m         self._validate_data(\n\u001b[0m\u001b[1;32m   2586\u001b[0m             \u001b[0mX_train\u001b[0m\u001b[0;34m,\u001b[0m \u001b[0my_train\u001b[0m\u001b[0;34m,\u001b[0m \u001b[0mdataframe\u001b[0m\u001b[0;34m,\u001b[0m \u001b[0mlabel\u001b[0m\u001b[0;34m,\u001b[0m \u001b[0mX_val\u001b[0m\u001b[0;34m,\u001b[0m \u001b[0my_val\u001b[0m\u001b[0;34m,\u001b[0m \u001b[0mgroups_val\u001b[0m\u001b[0;34m,\u001b[0m \u001b[0mgroups\u001b[0m\u001b[0;34m\u001b[0m\u001b[0;34m\u001b[0m\u001b[0m\n\u001b[1;32m   2587\u001b[0m         )\n",
      "\u001b[0;32m~/opt/anaconda3/lib/python3.8/site-packages/flaml/automl.py\u001b[0m in \u001b[0;36m_validate_data\u001b[0;34m(self, X_train_all, y_train_all, dataframe, label, X_val, y_val, groups_val, groups)\u001b[0m\n\u001b[1;32m   1075\u001b[0m             \u001b[0;32mif\u001b[0m \u001b[0mself\u001b[0m\u001b[0;34m.\u001b[0m\u001b[0m_state\u001b[0m\u001b[0;34m.\u001b[0m\u001b[0mtask\u001b[0m \u001b[0;32min\u001b[0m \u001b[0mTS_FORECAST\u001b[0m\u001b[0;34m:\u001b[0m\u001b[0;34m\u001b[0m\u001b[0;34m\u001b[0m\u001b[0m\n\u001b[1;32m   1076\u001b[0m                 \u001b[0mX_train_all\u001b[0m \u001b[0;34m=\u001b[0m \u001b[0mpd\u001b[0m\u001b[0;34m.\u001b[0m\u001b[0mDataFrame\u001b[0m\u001b[0;34m(\u001b[0m\u001b[0mX_train_all\u001b[0m\u001b[0;34m)\u001b[0m\u001b[0;34m\u001b[0m\u001b[0;34m\u001b[0m\u001b[0m\n\u001b[0;32m-> 1077\u001b[0;31m                 X_train_all, y_train_all = self._validate_ts_data(\n\u001b[0m\u001b[1;32m   1078\u001b[0m                     \u001b[0mX_train_all\u001b[0m\u001b[0;34m,\u001b[0m \u001b[0my_train_all\u001b[0m\u001b[0;34m\u001b[0m\u001b[0;34m\u001b[0m\u001b[0m\n\u001b[1;32m   1079\u001b[0m                 )\n",
      "\u001b[0;32m~/opt/anaconda3/lib/python3.8/site-packages/flaml/automl.py\u001b[0m in \u001b[0;36m_validate_ts_data\u001b[0;34m(self, dataframe, y_train_all)\u001b[0m\n\u001b[1;32m   1006\u001b[0m         \u001b[0my_train_all\u001b[0m\u001b[0;34m=\u001b[0m\u001b[0;32mNone\u001b[0m\u001b[0;34m,\u001b[0m\u001b[0;34m\u001b[0m\u001b[0;34m\u001b[0m\u001b[0m\n\u001b[1;32m   1007\u001b[0m     ):\n\u001b[0;32m-> 1008\u001b[0;31m         assert (\n\u001b[0m\u001b[1;32m   1009\u001b[0m             \u001b[0mdataframe\u001b[0m\u001b[0;34m[\u001b[0m\u001b[0mdataframe\u001b[0m\u001b[0;34m.\u001b[0m\u001b[0mcolumns\u001b[0m\u001b[0;34m[\u001b[0m\u001b[0;36m0\u001b[0m\u001b[0;34m]\u001b[0m\u001b[0;34m]\u001b[0m\u001b[0;34m.\u001b[0m\u001b[0mdtype\u001b[0m\u001b[0;34m.\u001b[0m\u001b[0mname\u001b[0m \u001b[0;34m==\u001b[0m \u001b[0;34m\"datetime64[ns]\"\u001b[0m\u001b[0;34m\u001b[0m\u001b[0;34m\u001b[0m\u001b[0m\n\u001b[1;32m   1010\u001b[0m         ), f\"For '{TS_FORECAST}' task, the first column must contain timestamp values.\"\n",
      "\u001b[0;31mAssertionError\u001b[0m: For '('forecast', 'ts_forecast', 'ts_forecast_regression', 'ts_forecast_classification', 'ts_forecast_panel')' task, the first column must contain timestamp values."
     ]
    }
   ],
   "metadata": {}
  }
 ],
 "metadata": {
  "kernelspec": {
   "name": "python3",
   "display_name": "Python 3.8.8 64-bit ('base': conda)"
  },
  "language_info": {
   "codemirror_mode": {
    "name": "ipython",
    "version": 3
   },
   "file_extension": ".py",
   "mimetype": "text/x-python",
   "name": "python",
   "nbconvert_exporter": "python",
   "pygments_lexer": "ipython3",
   "version": "3.8.8"
  },
  "interpreter": {
   "hash": "32f7275dabe6fcf69b795835cae463ce3a1b9086ff692c15c8d9cedd403d1e94"
  }
 },
 "nbformat": 4,
 "nbformat_minor": 4
}